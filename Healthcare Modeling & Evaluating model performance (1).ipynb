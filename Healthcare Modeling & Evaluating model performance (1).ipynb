{
 "cells": [
  {
   "cell_type": "markdown",
   "metadata": {},
   "source": [
    "# Health-Care-Data-Analysis"
   ]
  },
  {
   "cell_type": "markdown",
   "metadata": {},
   "source": [
    "### - Modeling & Evaluating model performance (1) -"
   ]
  },
  {
   "cell_type": "markdown",
   "metadata": {},
   "source": [
    "## Load Libraries"
   ]
  },
  {
   "cell_type": "code",
   "execution_count": 1,
   "metadata": {},
   "outputs": [],
   "source": [
    "import pandas as pd\n",
    "import numpy as np\n",
    "import seaborn as sns\n",
    "import matplotlib\n",
    "import matplotlib.pyplot as plt\n",
    "%matplotlib inline\n",
    "\n",
    "\n",
    "from sklearn.preprocessing import StandardScaler\n",
    "# 데이터 분할: train, test\n",
    "from sklearn.model_selection import train_test_split\n",
    "# 로지스틱 회귀\n",
    "from statsmodels.api import Logit\n",
    "# 평가 함수\n",
    "from sklearn.metrics import accuracy_score\n",
    "# confusion matrix\n",
    "from sklearn.metrics import confusion_matrix\n",
    "\n",
    "from sklearn.tree import export_graphviz\n",
    "# 의사결정트리\n",
    "from sklearn.tree import DecisionTreeClassifier\n",
    "# 랜덤포레스트\n",
    "from sklearn.ensemble import RandomForestClassifier\n",
    "# 그래디언트 부스트\n",
    "from sklearn.ensemble import GradientBoostingClassifier\n",
    "# grid search\n",
    "from sklearn.model_selection import GridSearchCV\n",
    "\n",
    "# 모델 성능 평가 : F1 Score, ROC_Curve, AUC\n",
    "from sklearn.metrics import f1_score,  roc_curve, auc\n",
    "import matplotlib.pyplot as plt"
   ]
  },
  {
   "cell_type": "code",
   "execution_count": 2,
   "metadata": {},
   "outputs": [],
   "source": [
    "plt.rcParams['font.family'] = 'Malgun Gothic'\n",
    "plt.rcParams['axes.unicode_minus']=False"
   ]
  },
  {
   "cell_type": "code",
   "execution_count": 3,
   "metadata": {},
   "outputs": [],
   "source": [
    "import ipywidgets as widgets\n",
    "from IPython.display import display\n",
    "from IPython.display import set_matplotlib_formats"
   ]
  },
  {
   "cell_type": "code",
   "execution_count": 4,
   "metadata": {},
   "outputs": [],
   "source": [
    "# 폰트\n",
    "plt.rc(\"font\",family = \"Malgun Gothic\")\n",
    "\n",
    "# 선명하게 글씨체를 출력시킬때 \n",
    "set_matplotlib_formats('retina')\n",
    "\n",
    "# 음수 값 출력\n",
    "plt.rc('axes',unicode_minus=False)\n",
    "\n",
    "# 최대 출력 column수 지정 \n",
    "pd.options.display.max_columns = 100 "
   ]
  },
  {
   "cell_type": "code",
   "execution_count": 5,
   "metadata": {},
   "outputs": [],
   "source": [
    "df_raw = pd.read_csv('health_real_fin.csv', encoding='utf-8')\n",
    "df_raw['성별'] = df_raw['성별'].astype('object')\n",
    "df_raw['흡연상태'] = df_raw['흡연상태'].astype('object')\n",
    "df_raw['단백뇨'] = df_raw['단백뇨'].astype('object')"
   ]
  },
  {
   "cell_type": "markdown",
   "metadata": {},
   "source": [
    "### preprocessing before modeling"
   ]
  },
  {
   "cell_type": "code",
   "execution_count": 6,
   "metadata": {},
   "outputs": [],
   "source": [
    "# rename\n",
    "df_raw['식전혈당_공복혈당'] = df_raw['식전혈당(공복혈당)']\n",
    "df_raw.drop('식전혈당(공복혈당)', axis=1, inplace=True)\n",
    "\n",
    "df_raw['혈청지오티_AST'] = df_raw['(혈청지오티)AST']\n",
    "df_raw.drop('(혈청지오티)AST', axis=1, inplace=True)\n",
    "\n",
    "df_raw['혈청지오티_ALT'] = df_raw['(혈청지오티)ALT']\n",
    "df_raw.drop('(혈청지오티)ALT', axis=1, inplace=True)"
   ]
  },
  {
   "cell_type": "code",
   "execution_count": 7,
   "metadata": {},
   "outputs": [],
   "source": [
    "df_raw['BMI']=df_raw['체중']/(df_raw['신장']/100) ** 2\n",
    "df_raw['BMI']=df_raw['BMI'].astype('float64')\n",
    "df_raw['BMI'] = df_raw['BMI'].round(1)"
   ]
  },
  {
   "cell_type": "code",
   "execution_count": 8,
   "metadata": {},
   "outputs": [],
   "source": [
    "df_raw.drop(['시도코드', '시력(좌)', '시력(우)', '청력(좌)', '청력(우)', '총콜레스테롤', '트리글리세라이드','연령대',\n",
    "             '신장', '체중', '구강검진_수검', '가입자일련번호', '실명', '복부비만', '고지혈증', '고혈압', '고혈압_k',\n",
    "             '총콜레스테롤', '총콜레스테롤_div', '공복혈당', '당뇨', '당뇨_k', '당뇨_표적장기손상', '빈혈', '빈혈_k', 'whtr', 'whtr_k',\n",
    "             '도시', 'bmi', 'bmi_div_k', 'bmi_div', 'non-HDL', 'CRF', '대사증후군_k', '혈청크레아티닌_진단', 'eGFR',\n",
    "             'GFR', 'eGFR_진단', '신장질환', 'risk_factor', '심혈관질환', '단백뇨', '단백뇨_k', 'ALT구분', 'AST구분', \n",
    "             '감마지티피구분', 'AST/ALT비율', 'GTP/ALT비율', '알코올성간질환여부', '기초대사량', '위험도_허리둘레', \n",
    "             '복합상대위험도', '평균절대위험도', '조정복합상대위험도', '절대위험도', '심뇌혈관나이', '교정복합상대위험도',\n",
    "             '교정절대위험도', '교정심뇌혈관나이'], axis=1, inplace=True)"
   ]
  },
  {
   "cell_type": "code",
   "execution_count": 9,
   "metadata": {},
   "outputs": [
    {
     "data": {
      "text/plain": [
       "Index(['허리둘레', '수축기혈압', '이완기혈압', 'HDL콜레스테롤', 'LDL콜레스테롤', '혈색소', '요단백',\n",
       "       '혈청크레아티닌', '감마지티피', '흡연상태', '성별', 'BMI', '대사증후군', '나이', '식전혈당_공복혈당',\n",
       "       '혈청지오티_AST', '혈청지오티_ALT'],\n",
       "      dtype='object')"
      ]
     },
     "execution_count": 9,
     "metadata": {},
     "output_type": "execute_result"
    }
   ],
   "source": [
    "df_raw.columns"
   ]
  },
  {
   "cell_type": "markdown",
   "metadata": {},
   "source": [
    "## 대사증후군 예측 모델"
   ]
  },
  {
   "cell_type": "code",
   "execution_count": 10,
   "metadata": {},
   "outputs": [
    {
     "name": "stderr",
     "output_type": "stream",
     "text": [
      "C:\\Users\\Gyulee\\Anaconda3\\lib\\site-packages\\sklearn\\externals\\joblib\\__init__.py:15: DeprecationWarning: sklearn.externals.joblib is deprecated in 0.21 and will be removed in 0.23. Please import this functionality directly from joblib, which can be installed with: pip install joblib. If this warning is raised when loading pickled models, you may need to re-serialize those models with scikit-learn 0.21+.\n",
      "  warnings.warn(msg, category=DeprecationWarning)\n"
     ]
    }
   ],
   "source": [
    "import xgboost as xgb\n",
    "from sklearn.ensemble import GradientBoostingClassifier\n",
    "from sklearn.tree import DecisionTreeClassifier\n",
    "from sklearn.ensemble import RandomForestClassifier\n",
    "from sklearn.linear_model import LogisticRegression\n",
    "\n",
    "from sklearn.model_selection import train_test_split\n",
    "from sklearn.datasets import dump_svmlight_file\n",
    "from sklearn.externals import joblib\n",
    "from sklearn.metrics import accuracy_score, precision_score, recall_score, confusion_matrix"
   ]
  },
  {
   "cell_type": "code",
   "execution_count": 11,
   "metadata": {},
   "outputs": [
    {
     "name": "stdout",
     "output_type": "stream",
     "text": [
      "train data size:(48527, 17)\n",
      "test data size:(20798, 17)\n"
     ]
    }
   ],
   "source": [
    "df_raw_train, df_raw_test=train_test_split(df_raw, test_size=0.3, random_state=1234)\n",
    "print(\"train data size:{}\".format(df_raw_train.shape))\n",
    "print(\"test data size:{}\".format(df_raw_test.shape))"
   ]
  },
  {
   "cell_type": "code",
   "execution_count": 12,
   "metadata": {},
   "outputs": [],
   "source": [
    "df_raw_train_y=df_raw_train['대사증후군']\n",
    "df_raw_train_x=df_raw_train.drop('대사증후군', axis=1, inplace=False)"
   ]
  },
  {
   "cell_type": "markdown",
   "metadata": {},
   "source": [
    "#### Logistic Reg"
   ]
  },
  {
   "cell_type": "code",
   "execution_count": 13,
   "metadata": {},
   "outputs": [
    {
     "name": "stdout",
     "output_type": "stream",
     "text": [
      "Warning: Maximum number of iterations has been exceeded.\n",
      "         Current function value: 0.346216\n",
      "         Iterations: 35\n",
      "         Function evaluations: 41\n",
      "         Gradient evaluations: 41\n",
      "                           Logit Regression Results                           \n",
      "==============================================================================\n",
      "Dep. Variable:                  대사증후군   No. Observations:                48527\n",
      "Model:                          Logit   Df Residuals:                    48511\n",
      "Method:                           MLE   Df Model:                           15\n",
      "Date:                Sun, 24 Nov 2019   Pseudo R-squ.:                  0.4268\n",
      "Time:                        15:57:22   Log-Likelihood:                -16801.\n",
      "converged:                      False   LL-Null:                       -29308.\n",
      "Covariance Type:            nonrobust   LLR p-value:                     0.000\n",
      "================================================================================\n",
      "                   coef    std err          z      P>|z|      [0.025      0.975]\n",
      "--------------------------------------------------------------------------------\n",
      "Intercept       -6.3004      0.222    -28.354      0.000      -6.736      -5.865\n",
      "C(흡연상태)[T.2]    -0.0265      0.041     -0.644      0.520      -0.107       0.054\n",
      "C(흡연상태)[T.3]    -0.4634      0.040    -11.668      0.000      -0.541      -0.386\n",
      "C(성별)[T.1]      -1.4947      0.046    -32.830      0.000      -1.584      -1.405\n",
      "허리둘레             0.0489      0.003     17.086      0.000       0.043       0.055\n",
      "수축기혈압            0.0399      0.002     26.454      0.000       0.037       0.043\n",
      "이완기혈압            0.0116      0.002      5.459      0.000       0.007       0.016\n",
      "식전혈당_공복혈당        0.0248      0.001     34.877      0.000       0.023       0.026\n",
      "HDL콜레스테롤        -0.1246      0.002    -77.298      0.000      -0.128      -0.121\n",
      "LDL콜레스테롤        -0.0026      0.000     -6.304      0.000      -0.003      -0.002\n",
      "혈청크레아티닌         -2.2097      0.080    -27.542      0.000      -2.367      -2.052\n",
      "혈청지오티_AST       -0.0109      0.001     -8.663      0.000      -0.013      -0.008\n",
      "혈청지오티_ALT        0.0100      0.001     10.144      0.000       0.008       0.012\n",
      "감마지티피            0.0069      0.000     19.843      0.000       0.006       0.008\n",
      "나이               0.0110      0.001      9.721      0.000       0.009       0.013\n",
      "BMI              0.0608      0.007      8.871      0.000       0.047       0.074\n",
      "================================================================================\n"
     ]
    },
    {
     "name": "stderr",
     "output_type": "stream",
     "text": [
      "C:\\Users\\Gyulee\\Anaconda3\\lib\\site-packages\\statsmodels\\base\\model.py:512: ConvergenceWarning: Maximum Likelihood optimization failed to converge. Check mle_retvals\n",
      "  \"Check mle_retvals\", ConvergenceWarning)\n"
     ]
    }
   ],
   "source": [
    "# 로지스틱 회귀\n",
    "\n",
    "log_model = Logit.from_formula(\"\"\"대사증후군~허리둘레+수축기혈압+이완기혈압+식전혈당_공복혈당+HDL콜레스테롤+LDL콜레스테롤+혈청크레아티닌+혈청지오티_AST+혈청지오티_ALT+감마지티피+C(흡연상태)+C(성별)+나이+BMI\"\"\", df_raw_train)\n",
    "\n",
    "log_result=log_model.fit(method='bfgs')\n",
    "print(log_result.summary())"
   ]
  },
  {
   "cell_type": "code",
   "execution_count": 14,
   "metadata": {},
   "outputs": [
    {
     "data": {
      "text/plain": [
       "30902    0\n",
       "1706     0\n",
       "602      0\n",
       "17345    0\n",
       "31477    0\n",
       "dtype: int32"
      ]
     },
     "execution_count": 14,
     "metadata": {},
     "output_type": "execute_result"
    }
   ],
   "source": [
    "y_pred=log_result.predict(df_raw_test)\n",
    "# 0과 1의 값을 가진 class로 변환\n",
    "y_pred_class=(y_pred>0.5).astype(int)\n",
    "y_pred_class.head()"
   ]
  },
  {
   "cell_type": "code",
   "execution_count": 15,
   "metadata": {},
   "outputs": [
    {
     "name": "stdout",
     "output_type": "stream",
     "text": [
      "Accuracy:0.850\n",
      "\n",
      "Confusion Matrix:\n",
      "[[13593  1255]\n",
      " [ 1874  4076]]\n"
     ]
    }
   ],
   "source": [
    "print(\"Accuracy:{0:.3f}\\n\".format(accuracy_score(df_raw_test['대사증후군'], y_pred_class)))\n",
    "print(\"Confusion Matrix:\\n{}\".format(confusion_matrix(df_raw_test['대사증후군'], y_pred_class)))"
   ]
  },
  {
   "cell_type": "code",
   "execution_count": 16,
   "metadata": {},
   "outputs": [],
   "source": [
    "df_raw_y=df_raw['대사증후군']\n",
    "df_raw_x=df_raw.drop('대사증후군', axis=1, inplace=False)\n",
    "\n",
    "df_temp_x, df_test_x, df_temp_y, df_test_y=train_test_split(df_raw_x, df_raw_y, test_size=0.3, random_state=1234)\n",
    "\n",
    "df_train_x, df_validation_x, df_train_y, df_validation_y=train_test_split(df_temp_x, df_temp_y, test_size=0.4, random_state=1234)"
   ]
  },
  {
   "cell_type": "code",
   "execution_count": 17,
   "metadata": {},
   "outputs": [],
   "source": [
    "fpr, tpr, thresholds=roc_curve(df_test_y,y_pred)\n",
    "roc_auc=auc(fpr,tpr)"
   ]
  },
  {
   "cell_type": "code",
   "execution_count": 18,
   "metadata": {},
   "outputs": [
    {
     "data": {
      "text/plain": [
       "0.9077256026332947"
      ]
     },
     "execution_count": 18,
     "metadata": {},
     "output_type": "execute_result"
    }
   ],
   "source": [
    "roc_auc"
   ]
  },
  {
   "cell_type": "code",
   "execution_count": 19,
   "metadata": {},
   "outputs": [],
   "source": [
    "# f1_score(df_test_y, y_pred)"
   ]
  },
  {
   "cell_type": "code",
   "execution_count": 20,
   "metadata": {},
   "outputs": [
    {
     "name": "stdout",
     "output_type": "stream",
     "text": [
      "train data X size:(29116, 16)\n",
      "train data Y size:(29116,)\n",
      "validation data X size:(19411, 16)\n",
      "validation data Y size:(19411,)\n",
      "test data X size:(20798, 16)\n",
      "test data Y size:(20798,)\n"
     ]
    }
   ],
   "source": [
    "print(\"train data X size:{}\".format(df_train_x.shape))\n",
    "print(\"train data Y size:{}\".format(df_train_y.shape))\n",
    "print(\"validation data X size:{}\".format(df_validation_x.shape))\n",
    "print(\"validation data Y size:{}\".format(df_validation_y.shape))\n",
    "print(\"test data X size:{}\".format(df_test_x.shape))\n",
    "print(\"test data Y size:{}\".format(df_test_y.shape))"
   ]
  },
  {
   "cell_type": "markdown",
   "metadata": {},
   "source": [
    "#### DT"
   ]
  },
  {
   "cell_type": "code",
   "execution_count": 21,
   "metadata": {},
   "outputs": [
    {
     "data": {
      "text/plain": [
       "DecisionTreeClassifier(class_weight=None, criterion='gini', max_depth=9,\n",
       "                       max_features=None, max_leaf_nodes=None,\n",
       "                       min_impurity_decrease=0.0, min_impurity_split=None,\n",
       "                       min_samples_leaf=12, min_samples_split=36,\n",
       "                       min_weight_fraction_leaf=0.0, presort=False,\n",
       "                       random_state=None, splitter='best')"
      ]
     },
     "execution_count": 21,
     "metadata": {},
     "output_type": "execute_result"
    }
   ],
   "source": [
    "# 의사결정나무\n",
    "\n",
    "tree_final = DecisionTreeClassifier(max_depth = 9, min_samples_split = 36, min_samples_leaf = 12)\n",
    "tree_final.fit(df_train_x, df_train_y)"
   ]
  },
  {
   "cell_type": "code",
   "execution_count": 22,
   "metadata": {},
   "outputs": [
    {
     "name": "stdout",
     "output_type": "stream",
     "text": [
      "Accuracy on training set:0.931\n",
      "\n",
      "Accuracy on validation set:0.921\n",
      "\n",
      "Confusion matrix:\n",
      "[[13405   377]\n",
      " [ 1156  4473]]\n"
     ]
    }
   ],
   "source": [
    "validation_pred = tree_final.predict(df_validation_x)\n",
    "print('Accuracy on training set:{0:.3f}\\n'.format(tree_final.score(df_train_x, df_train_y)))\n",
    "print('Accuracy on validation set:{0:.3f}\\n'.format(tree_final.score(df_validation_x, df_validation_y)))\n",
    "print('Confusion matrix:\\n{}'.format(confusion_matrix(df_validation_y, validation_pred)))\n"
   ]
  },
  {
   "cell_type": "code",
   "execution_count": 23,
   "metadata": {},
   "outputs": [
    {
     "name": "stdout",
     "output_type": "stream",
     "text": [
      "Accuracy:0.920\n",
      "\n",
      "Confusion matrix:\n",
      "[[14399   449]\n",
      " [ 1224  4726]]\n"
     ]
    }
   ],
   "source": [
    "y_pred = tree_final.predict(df_test_x)\n",
    "print('Accuracy:{0:.3f}\\n'.format(tree_final.score(df_test_x, df_test_y)))\n",
    "print('Confusion matrix:\\n{}'.format(confusion_matrix(df_test_y, y_pred)))\n"
   ]
  },
  {
   "cell_type": "code",
   "execution_count": 24,
   "metadata": {},
   "outputs": [],
   "source": [
    "fpr, tpr, thresholds=roc_curve(df_test_y,y_pred)\n",
    "roc_auc=auc(fpr,tpr)\n"
   ]
  },
  {
   "cell_type": "code",
   "execution_count": 25,
   "metadata": {},
   "outputs": [
    {
     "data": {
      "text/plain": [
       "0.8820229756773399"
      ]
     },
     "execution_count": 25,
     "metadata": {},
     "output_type": "execute_result"
    }
   ],
   "source": [
    "roc_auc"
   ]
  },
  {
   "cell_type": "code",
   "execution_count": 26,
   "metadata": {},
   "outputs": [
    {
     "data": {
      "text/plain": [
       "0.84961797752809"
      ]
     },
     "execution_count": 26,
     "metadata": {},
     "output_type": "execute_result"
    }
   ],
   "source": [
    "f1_score(df_test_y, y_pred) "
   ]
  },
  {
   "cell_type": "code",
   "execution_count": 27,
   "metadata": {},
   "outputs": [],
   "source": [
    "# 의사결정 나무 변수중요도 확인하기\n",
    "v_feature_name=df_train_x.columns"
   ]
  },
  {
   "cell_type": "code",
   "execution_count": 28,
   "metadata": {},
   "outputs": [],
   "source": [
    "df_importance = pd.DataFrame()\n",
    "df_importance['Feature'] = v_feature_name\n",
    "df_importance['Importance'] = tree_final.feature_importances_"
   ]
  },
  {
   "cell_type": "code",
   "execution_count": 29,
   "metadata": {},
   "outputs": [
    {
     "data": {
      "text/html": [
       "<div>\n",
       "<style scoped>\n",
       "    .dataframe tbody tr th:only-of-type {\n",
       "        vertical-align: middle;\n",
       "    }\n",
       "\n",
       "    .dataframe tbody tr th {\n",
       "        vertical-align: top;\n",
       "    }\n",
       "\n",
       "    .dataframe thead th {\n",
       "        text-align: right;\n",
       "    }\n",
       "</style>\n",
       "<table border=\"1\" class=\"dataframe\">\n",
       "  <thead>\n",
       "    <tr style=\"text-align: right;\">\n",
       "      <th></th>\n",
       "      <th>Feature</th>\n",
       "      <th>Importance</th>\n",
       "    </tr>\n",
       "  </thead>\n",
       "  <tbody>\n",
       "    <tr>\n",
       "      <td>0</td>\n",
       "      <td>허리둘레</td>\n",
       "      <td>0.387</td>\n",
       "    </tr>\n",
       "    <tr>\n",
       "      <td>13</td>\n",
       "      <td>식전혈당_공복혈당</td>\n",
       "      <td>0.194</td>\n",
       "    </tr>\n",
       "    <tr>\n",
       "      <td>3</td>\n",
       "      <td>HDL콜레스테롤</td>\n",
       "      <td>0.190</td>\n",
       "    </tr>\n",
       "    <tr>\n",
       "      <td>1</td>\n",
       "      <td>수축기혈압</td>\n",
       "      <td>0.154</td>\n",
       "    </tr>\n",
       "    <tr>\n",
       "      <td>8</td>\n",
       "      <td>감마지티피</td>\n",
       "      <td>0.031</td>\n",
       "    </tr>\n",
       "    <tr>\n",
       "      <td>2</td>\n",
       "      <td>이완기혈압</td>\n",
       "      <td>0.027</td>\n",
       "    </tr>\n",
       "    <tr>\n",
       "      <td>4</td>\n",
       "      <td>LDL콜레스테롤</td>\n",
       "      <td>0.004</td>\n",
       "    </tr>\n",
       "    <tr>\n",
       "      <td>5</td>\n",
       "      <td>혈색소</td>\n",
       "      <td>0.004</td>\n",
       "    </tr>\n",
       "    <tr>\n",
       "      <td>11</td>\n",
       "      <td>BMI</td>\n",
       "      <td>0.003</td>\n",
       "    </tr>\n",
       "    <tr>\n",
       "      <td>14</td>\n",
       "      <td>혈청지오티_AST</td>\n",
       "      <td>0.001</td>\n",
       "    </tr>\n",
       "    <tr>\n",
       "      <td>12</td>\n",
       "      <td>나이</td>\n",
       "      <td>0.001</td>\n",
       "    </tr>\n",
       "    <tr>\n",
       "      <td>15</td>\n",
       "      <td>혈청지오티_ALT</td>\n",
       "      <td>0.001</td>\n",
       "    </tr>\n",
       "    <tr>\n",
       "      <td>7</td>\n",
       "      <td>혈청크레아티닌</td>\n",
       "      <td>0.001</td>\n",
       "    </tr>\n",
       "    <tr>\n",
       "      <td>10</td>\n",
       "      <td>성별</td>\n",
       "      <td>0.001</td>\n",
       "    </tr>\n",
       "    <tr>\n",
       "      <td>9</td>\n",
       "      <td>흡연상태</td>\n",
       "      <td>0.000</td>\n",
       "    </tr>\n",
       "    <tr>\n",
       "      <td>6</td>\n",
       "      <td>요단백</td>\n",
       "      <td>0.000</td>\n",
       "    </tr>\n",
       "  </tbody>\n",
       "</table>\n",
       "</div>"
      ],
      "text/plain": [
       "      Feature  Importance\n",
       "0        허리둘레       0.387\n",
       "13  식전혈당_공복혈당       0.194\n",
       "3    HDL콜레스테롤       0.190\n",
       "1       수축기혈압       0.154\n",
       "8       감마지티피       0.031\n",
       "2       이완기혈압       0.027\n",
       "4    LDL콜레스테롤       0.004\n",
       "5         혈색소       0.004\n",
       "11        BMI       0.003\n",
       "14  혈청지오티_AST       0.001\n",
       "12         나이       0.001\n",
       "15  혈청지오티_ALT       0.001\n",
       "7     혈청크레아티닌       0.001\n",
       "10         성별       0.001\n",
       "9        흡연상태       0.000\n",
       "6         요단백       0.000"
      ]
     },
     "execution_count": 29,
     "metadata": {},
     "output_type": "execute_result"
    }
   ],
   "source": [
    "df_importance.sort_values('Importance', ascending = False, inplace = True)\n",
    "df_importance.round(3)"
   ]
  },
  {
   "cell_type": "code",
   "execution_count": 30,
   "metadata": {},
   "outputs": [
    {
     "data": {
      "text/plain": [
       "Text(0, 0.5, '설명변수')"
      ]
     },
     "execution_count": 30,
     "metadata": {},
     "output_type": "execute_result"
    },
    {
     "data": {
      "image/png": "[encoded data removed]",
      "text/plain": [
       "<Figure size 432x288 with 1 Axes>"
      ]
     },
     "metadata": {
      "image/png": {
       "height": 263,
       "width": 459
      },
      "needs_background": "light"
     },
     "output_type": "display_data"
    }
   ],
   "source": [
    "df_importance.sort_values('Importance', ascending =True, inplace = True)\n",
    "coordinates = range(len(df_importance))\n",
    "plt.barh(y = coordinates, width = df_importance['Importance'])\n",
    "plt.yticks(coordinates, df_importance['Feature'])\n",
    "plt.xlabel('설명변수 중요도')\n",
    "plt.ylabel('설명변수')"
   ]
  },
  {
   "cell_type": "markdown",
   "metadata": {},
   "source": [
    "#### RF"
   ]
  },
  {
   "cell_type": "code",
   "execution_count": 31,
   "metadata": {},
   "outputs": [
    {
     "data": {
      "text/plain": [
       "RandomForestClassifier(bootstrap=True, class_weight=None, criterion='gini',\n",
       "                       max_depth=7, max_features='auto', max_leaf_nodes=None,\n",
       "                       min_impurity_decrease=0.0, min_impurity_split=None,\n",
       "                       min_samples_leaf=6, min_samples_split=14,\n",
       "                       min_weight_fraction_leaf=0.0, n_estimators=20,\n",
       "                       n_jobs=None, oob_score=False, random_state=1234,\n",
       "                       verbose=0, warm_start=False)"
      ]
     },
     "execution_count": 31,
     "metadata": {},
     "output_type": "execute_result"
    }
   ],
   "source": [
    "# 랜덤 포레스트\n",
    "\n",
    "rf_final = RandomForestClassifier(n_estimators = 20, max_depth = 7, min_samples_split = 14, min_samples_leaf = 6, random_state = 1234)\n",
    "rf_final.fit(df_train_x, df_train_y)"
   ]
  },
  {
   "cell_type": "code",
   "execution_count": 32,
   "metadata": {},
   "outputs": [
    {
     "name": "stdout",
     "output_type": "stream",
     "text": [
      "Accuracy on training set:0.926\n",
      "\n",
      "Accuracy on validation set:0.919\n",
      "\n",
      "Confusion matrix:\n",
      "[[13353   429]\n",
      " [ 1146  4483]]\n"
     ]
    }
   ],
   "source": [
    "validation_pred = rf_final.predict(df_validation_x)\n",
    "print('Accuracy on training set:{0:.3f}\\n'.format(rf_final.score(df_train_x, df_train_y)))\n",
    "print('Accuracy on validation set:{0:.3f}\\n'.format(rf_final.score(df_validation_x, df_validation_y)))\n",
    "print('Confusion matrix:\\n{}'.format(confusion_matrix(df_validation_y, validation_pred)))"
   ]
  },
  {
   "cell_type": "code",
   "execution_count": 33,
   "metadata": {},
   "outputs": [
    {
     "name": "stdout",
     "output_type": "stream",
     "text": [
      "Accuracy:0.921\n",
      "\n",
      "Confusion matrix:\n",
      "[[14414   434]\n",
      " [ 1215  4735]]\n"
     ]
    }
   ],
   "source": [
    "y_pred = rf_final.predict(df_test_x)\n",
    "print('Accuracy:{0:.3f}\\n'.format(rf_final.score(df_test_x, df_test_y)))\n",
    "print('Confusion matrix:\\n{}'.format(confusion_matrix(df_test_y, y_pred)))"
   ]
  },
  {
   "cell_type": "code",
   "execution_count": 34,
   "metadata": {},
   "outputs": [],
   "source": [
    "fpr, tpr, thresholds=roc_curve(df_test_y,y_pred)\n",
    "roc_auc=auc(fpr,tpr)"
   ]
  },
  {
   "cell_type": "code",
   "execution_count": 35,
   "metadata": {},
   "outputs": [
    {
     "data": {
      "text/plain": [
       "0.883284396732831"
      ]
     },
     "execution_count": 35,
     "metadata": {},
     "output_type": "execute_result"
    }
   ],
   "source": [
    "roc_auc"
   ]
  },
  {
   "cell_type": "code",
   "execution_count": 36,
   "metadata": {},
   "outputs": [
    {
     "data": {
      "text/plain": [
       "0.851695296339599"
      ]
     },
     "execution_count": 36,
     "metadata": {},
     "output_type": "execute_result"
    }
   ],
   "source": [
    "f1_score(df_test_y, y_pred)"
   ]
  },
  {
   "cell_type": "code",
   "execution_count": 37,
   "metadata": {},
   "outputs": [],
   "source": [
    "v_feature_name = df_train_x.columns"
   ]
  },
  {
   "cell_type": "code",
   "execution_count": 38,
   "metadata": {},
   "outputs": [],
   "source": [
    "df_importance = pd.DataFrame()\n",
    "df_importance['Feature'] = v_feature_name\n",
    "df_importance['Importance'] = rf_final.feature_importances_"
   ]
  },
  {
   "cell_type": "code",
   "execution_count": 39,
   "metadata": {},
   "outputs": [
    {
     "data": {
      "text/html": [
       "<div>\n",
       "<style scoped>\n",
       "    .dataframe tbody tr th:only-of-type {\n",
       "        vertical-align: middle;\n",
       "    }\n",
       "\n",
       "    .dataframe tbody tr th {\n",
       "        vertical-align: top;\n",
       "    }\n",
       "\n",
       "    .dataframe thead th {\n",
       "        text-align: right;\n",
       "    }\n",
       "</style>\n",
       "<table border=\"1\" class=\"dataframe\">\n",
       "  <thead>\n",
       "    <tr style=\"text-align: right;\">\n",
       "      <th></th>\n",
       "      <th>Feature</th>\n",
       "      <th>Importance</th>\n",
       "    </tr>\n",
       "  </thead>\n",
       "  <tbody>\n",
       "    <tr>\n",
       "      <td>3</td>\n",
       "      <td>HDL콜레스테롤</td>\n",
       "      <td>0.265</td>\n",
       "    </tr>\n",
       "    <tr>\n",
       "      <td>0</td>\n",
       "      <td>허리둘레</td>\n",
       "      <td>0.223</td>\n",
       "    </tr>\n",
       "    <tr>\n",
       "      <td>13</td>\n",
       "      <td>식전혈당_공복혈당</td>\n",
       "      <td>0.179</td>\n",
       "    </tr>\n",
       "    <tr>\n",
       "      <td>1</td>\n",
       "      <td>수축기혈압</td>\n",
       "      <td>0.155</td>\n",
       "    </tr>\n",
       "    <tr>\n",
       "      <td>8</td>\n",
       "      <td>감마지티피</td>\n",
       "      <td>0.059</td>\n",
       "    </tr>\n",
       "    <tr>\n",
       "      <td>11</td>\n",
       "      <td>BMI</td>\n",
       "      <td>0.052</td>\n",
       "    </tr>\n",
       "    <tr>\n",
       "      <td>2</td>\n",
       "      <td>이완기혈압</td>\n",
       "      <td>0.035</td>\n",
       "    </tr>\n",
       "    <tr>\n",
       "      <td>15</td>\n",
       "      <td>혈청지오티_ALT</td>\n",
       "      <td>0.012</td>\n",
       "    </tr>\n",
       "    <tr>\n",
       "      <td>5</td>\n",
       "      <td>혈색소</td>\n",
       "      <td>0.005</td>\n",
       "    </tr>\n",
       "    <tr>\n",
       "      <td>12</td>\n",
       "      <td>나이</td>\n",
       "      <td>0.004</td>\n",
       "    </tr>\n",
       "    <tr>\n",
       "      <td>4</td>\n",
       "      <td>LDL콜레스테롤</td>\n",
       "      <td>0.003</td>\n",
       "    </tr>\n",
       "    <tr>\n",
       "      <td>14</td>\n",
       "      <td>혈청지오티_AST</td>\n",
       "      <td>0.003</td>\n",
       "    </tr>\n",
       "    <tr>\n",
       "      <td>9</td>\n",
       "      <td>흡연상태</td>\n",
       "      <td>0.002</td>\n",
       "    </tr>\n",
       "    <tr>\n",
       "      <td>10</td>\n",
       "      <td>성별</td>\n",
       "      <td>0.002</td>\n",
       "    </tr>\n",
       "    <tr>\n",
       "      <td>7</td>\n",
       "      <td>혈청크레아티닌</td>\n",
       "      <td>0.001</td>\n",
       "    </tr>\n",
       "    <tr>\n",
       "      <td>6</td>\n",
       "      <td>요단백</td>\n",
       "      <td>0.000</td>\n",
       "    </tr>\n",
       "  </tbody>\n",
       "</table>\n",
       "</div>"
      ],
      "text/plain": [
       "      Feature  Importance\n",
       "3    HDL콜레스테롤       0.265\n",
       "0        허리둘레       0.223\n",
       "13  식전혈당_공복혈당       0.179\n",
       "1       수축기혈압       0.155\n",
       "8       감마지티피       0.059\n",
       "11        BMI       0.052\n",
       "2       이완기혈압       0.035\n",
       "15  혈청지오티_ALT       0.012\n",
       "5         혈색소       0.005\n",
       "12         나이       0.004\n",
       "4    LDL콜레스테롤       0.003\n",
       "14  혈청지오티_AST       0.003\n",
       "9        흡연상태       0.002\n",
       "10         성별       0.002\n",
       "7     혈청크레아티닌       0.001\n",
       "6         요단백       0.000"
      ]
     },
     "execution_count": 39,
     "metadata": {},
     "output_type": "execute_result"
    }
   ],
   "source": [
    "df_importance.sort_values('Importance', ascending = False, inplace = True)\n",
    "df_importance.round(3)"
   ]
  },
  {
   "cell_type": "code",
   "execution_count": 40,
   "metadata": {},
   "outputs": [],
   "source": [
    "df_importance.sort_values('Importance', ascending =True, inplace = True)\n",
    "coordinates = range(len(df_importance))"
   ]
  },
  {
   "cell_type": "code",
   "execution_count": 41,
   "metadata": {},
   "outputs": [
    {
     "data": {
      "text/plain": [
       "Text(0, 0.5, '설명변수')"
      ]
     },
     "execution_count": 41,
     "metadata": {},
     "output_type": "execute_result"
    },
    {
     "data": {
      "image/png": "[encoded data removed]",
      "text/plain": [
       "<Figure size 432x288 with 1 Axes>"
      ]
     },
     "metadata": {
      "image/png": {
       "height": 263,
       "width": 454
      },
      "needs_background": "light"
     },
     "output_type": "display_data"
    }
   ],
   "source": [
    "plt.barh(y = coordinates, width = df_importance['Importance'])\n",
    "plt.yticks(coordinates, df_importance['Feature'])\n",
    "plt.xlabel('설명변수 중요도')\n",
    "plt.ylabel('설명변수')\n"
   ]
  },
  {
   "cell_type": "markdown",
   "metadata": {},
   "source": [
    "#### GBM"
   ]
  },
  {
   "cell_type": "code",
   "execution_count": 42,
   "metadata": {},
   "outputs": [],
   "source": [
    "# 그래디언트 부스팅\n",
    "\n",
    "gb_final=GradientBoostingClassifier(min_samples_leaf=30, max_depth=4, n_estimators=300, learning_rate=0.15, random_state=1234)\n",
    "gb_final.fit(df_train_x, df_train_y)\n",
    "\n",
    "y_pred=gb_final.predict(df_test_x)"
   ]
  },
  {
   "cell_type": "code",
   "execution_count": 43,
   "metadata": {},
   "outputs": [
    {
     "name": "stdout",
     "output_type": "stream",
     "text": [
      "Accuracy on training set:0.961\n",
      "Accuracy on test set:0.921\n",
      "Confusion matrix:\n",
      "[[14247   601]\n",
      " [ 1050  4900]]\n"
     ]
    }
   ],
   "source": [
    "print(\"Accuracy on training set:{:.3f}\".format(gb_final.score(df_train_x, df_train_y)))\n",
    "print(\"Accuracy on test set:{:.3f}\".format(gb_final.score(df_test_x, df_test_y)))\n",
    "\n",
    "print(\"Confusion matrix:\\n{}\".format(confusion_matrix(df_test_y, y_pred)))"
   ]
  },
  {
   "cell_type": "code",
   "execution_count": 44,
   "metadata": {},
   "outputs": [
    {
     "name": "stdout",
     "output_type": "stream",
     "text": [
      "Accuracy:0.921\n",
      "\n",
      "Confusion matrix:\n",
      "[[14247   601]\n",
      " [ 1050  4900]]\n"
     ]
    }
   ],
   "source": [
    "y_pred =gb_final.predict(df_test_x)\n",
    "print('Accuracy:{0:.3f}\\n'.format(rf_final.score(df_test_x, df_test_y)))\n",
    "print('Confusion matrix:\\n{}'.format(confusion_matrix(df_test_y, y_pred)))"
   ]
  },
  {
   "cell_type": "code",
   "execution_count": 45,
   "metadata": {},
   "outputs": [
    {
     "data": {
      "text/plain": [
       "0.8915262899340771"
      ]
     },
     "execution_count": 45,
     "metadata": {},
     "output_type": "execute_result"
    }
   ],
   "source": [
    "fpr, tpr, thresholds=roc_curve(df_test_y, y_pred)\n",
    "roc_auc=auc(fpr, tpr)\n",
    "\n",
    "roc_auc"
   ]
  },
  {
   "cell_type": "code",
   "execution_count": 46,
   "metadata": {},
   "outputs": [
    {
     "data": {
      "text/plain": [
       "0.8558204523622391"
      ]
     },
     "execution_count": 46,
     "metadata": {},
     "output_type": "execute_result"
    }
   ],
   "source": [
    "f1_score(df_test_y, y_pred)"
   ]
  },
  {
   "cell_type": "markdown",
   "metadata": {},
   "source": [
    "#### XGBoost"
   ]
  },
  {
   "cell_type": "code",
   "execution_count": 47,
   "metadata": {},
   "outputs": [],
   "source": [
    "# xgboost\n",
    "\n",
    "import xgboost as xgb"
   ]
  },
  {
   "cell_type": "code",
   "execution_count": 48,
   "metadata": {},
   "outputs": [],
   "source": [
    "X_train, X_test, y_train, y_test = train_test_split(df_raw_x, df_raw_y, test_size=0.3, random_state=1234)\n",
    "eta = 0.05\n",
    "max_depth = 12\n",
    "min_child_weight = 2\n",
    "num_boost_round = 500\n",
    "colsample_bytree = 0.8\n",
    "subsample = 0.8\n",
    "param = {\n",
    "    'booster': 'gbtree',\n",
    "    'objective': 'binary:hinge',\n",
    "    'eval_metric': 'error',\n",
    "    'eta': eta,\n",
    "    'max_depth': max_depth,\n",
    "    'subsample': subsample,\n",
    "    'colsample_bytree': colsample_bytree,\n",
    "    'min_child_weight': min_child_weight,\n",
    "    'silent': 1,\n",
    "    'seed': 1234,\n",
    "    }\n"
   ]
  },
  {
   "cell_type": "code",
   "execution_count": 49,
   "metadata": {},
   "outputs": [
    {
     "name": "stdout",
     "output_type": "stream",
     "text": [
      "[0]\ttrain-error:0.707977\ttest-error:0.713915\n",
      "Multiple eval metrics have been passed: 'test-error' will be used for early stopping.\n",
      "\n",
      "Will train until test-error hasn't improved in 10 rounds.\n",
      "[1]\ttrain-error:0.707977\ttest-error:0.713915\n"
     ]
    },
    {
     "name": "stderr",
     "output_type": "stream",
     "text": [
      "C:\\Users\\Gyulee\\Anaconda3\\lib\\site-packages\\ipykernel_launcher.py:1: FutureWarning: Method .as_matrix will be removed in a future version. Use .values instead.\n",
      "  \"\"\"Entry point for launching an IPython kernel.\n",
      "C:\\Users\\Gyulee\\Anaconda3\\lib\\site-packages\\ipykernel_launcher.py:2: FutureWarning: Method .as_matrix will be removed in a future version. Use .values instead.\n",
      "  \n",
      "C:\\Users\\Gyulee\\Anaconda3\\lib\\site-packages\\ipykernel_launcher.py:3: FutureWarning: Method .as_matrix will be removed in a future version. Use .values instead.\n",
      "  This is separate from the ipykernel package so we can avoid doing imports until\n",
      "C:\\Users\\Gyulee\\Anaconda3\\lib\\site-packages\\ipykernel_launcher.py:4: FutureWarning: Method .as_matrix will be removed in a future version. Use .values instead.\n",
      "  after removing the cwd from sys.path.\n"
     ]
    },
    {
     "name": "stdout",
     "output_type": "stream",
     "text": [
      "[2]\ttrain-error:0.707977\ttest-error:0.713915\n",
      "[3]\ttrain-error:0.707977\ttest-error:0.713915\n",
      "[4]\ttrain-error:0.707977\ttest-error:0.713915\n",
      "[5]\ttrain-error:0.707977\ttest-error:0.713915\n",
      "[6]\ttrain-error:0.707977\ttest-error:0.713915\n",
      "[7]\ttrain-error:0.707977\ttest-error:0.713915\n",
      "[8]\ttrain-error:0.707977\ttest-error:0.713915\n",
      "[9]\ttrain-error:0.707977\ttest-error:0.713915\n",
      "[10]\ttrain-error:0.255136\ttest-error:0.280412\n",
      "[11]\ttrain-error:0.187009\ttest-error:0.214203\n",
      "[12]\ttrain-error:0.157809\ttest-error:0.184922\n",
      "[13]\ttrain-error:0.135966\ttest-error:0.162275\n",
      "[14]\ttrain-error:0.122777\ttest-error:0.155159\n",
      "[15]\ttrain-error:0.10829\ttest-error:0.142225\n",
      "[16]\ttrain-error:0.096235\ttest-error:0.135878\n",
      "[17]\ttrain-error:0.085334\ttest-error:0.128233\n",
      "[18]\ttrain-error:0.074804\ttest-error:0.122127\n",
      "[19]\ttrain-error:0.066252\ttest-error:0.11703\n",
      "[20]\ttrain-error:0.059822\ttest-error:0.112222\n",
      "[21]\ttrain-error:0.053867\ttest-error:0.109674\n",
      "[22]\ttrain-error:0.048344\ttest-error:0.10626\n",
      "[23]\ttrain-error:0.044058\ttest-error:0.102462\n",
      "[24]\ttrain-error:0.039174\ttest-error:0.099769\n",
      "[25]\ttrain-error:0.03563\ttest-error:0.09698\n",
      "[26]\ttrain-error:0.032168\ttest-error:0.093567\n",
      "[27]\ttrain-error:0.029035\ttest-error:0.091836\n",
      "[28]\ttrain-error:0.026995\ttest-error:0.088951\n",
      "[29]\ttrain-error:0.026027\ttest-error:0.087749\n",
      "[30]\ttrain-error:0.02444\ttest-error:0.085922\n",
      "[31]\ttrain-error:0.023265\ttest-error:0.085201\n",
      "[32]\ttrain-error:0.022379\ttest-error:0.084095\n",
      "[33]\ttrain-error:0.021225\ttest-error:0.083229\n",
      "[34]\ttrain-error:0.019968\ttest-error:0.082171\n",
      "[35]\ttrain-error:0.019783\ttest-error:0.081354\n",
      "[36]\ttrain-error:0.019144\ttest-error:0.081258\n",
      "[37]\ttrain-error:0.018546\ttest-error:0.0802\n",
      "[38]\ttrain-error:0.017392\ttest-error:0.079575\n",
      "[39]\ttrain-error:0.01698\ttest-error:0.079046\n",
      "[40]\ttrain-error:0.016609\ttest-error:0.078758\n",
      "[41]\ttrain-error:0.016074\ttest-error:0.078613\n",
      "[42]\ttrain-error:0.015764\ttest-error:0.078517\n",
      "[43]\ttrain-error:0.015497\ttest-error:0.078373\n",
      "[44]\ttrain-error:0.015311\ttest-error:0.078084\n",
      "[45]\ttrain-error:0.015084\ttest-error:0.078373\n",
      "[46]\ttrain-error:0.014652\ttest-error:0.078709\n",
      "[47]\ttrain-error:0.014631\ttest-error:0.077748\n",
      "[48]\ttrain-error:0.014178\ttest-error:0.078277\n",
      "[49]\ttrain-error:0.013766\ttest-error:0.0777\n",
      "[50]\ttrain-error:0.013642\ttest-error:0.077556\n",
      "[51]\ttrain-error:0.013436\ttest-error:0.077604\n",
      "[52]\ttrain-error:0.013292\ttest-error:0.077556\n",
      "[53]\ttrain-error:0.013106\ttest-error:0.07794\n",
      "[54]\ttrain-error:0.012962\ttest-error:0.077556\n",
      "[55]\ttrain-error:0.012941\ttest-error:0.078084\n",
      "[56]\ttrain-error:0.012797\ttest-error:0.0777\n",
      "[57]\ttrain-error:0.012632\ttest-error:0.077604\n",
      "[58]\ttrain-error:0.012344\ttest-error:0.077988\n",
      "[59]\ttrain-error:0.012344\ttest-error:0.078036\n",
      "[60]\ttrain-error:0.012179\ttest-error:0.07794\n",
      "Stopping. Best iteration:\n",
      "[50]\ttrain-error:0.013642\ttest-error:0.077556\n",
      "\n"
     ]
    }
   ],
   "source": [
    "X_trn = X_train.as_matrix()\n",
    "Y_trn = y_train.as_matrix()\n",
    "X_tet = X_test.as_matrix()\n",
    "Y_tet = y_test.as_matrix()\n",
    "features = df_raw_x.columns.values.tolist()\n",
    "dtrn = xgb.DMatrix(X_trn, label=Y_trn, feature_names=features)\n",
    "dtet = xgb.DMatrix(X_tet, label=Y_tet, feature_names=features)\n",
    "watch_list = [(dtrn, 'train'), (dtet, 'test')]\n",
    "\n",
    "model = xgb.train(param, dtrn, num_boost_round, evals=watch_list,early_stopping_rounds=10)"
   ]
  },
  {
   "cell_type": "code",
   "execution_count": 50,
   "metadata": {},
   "outputs": [
    {
     "name": "stdout",
     "output_type": "stream",
     "text": [
      "Numpy array precision: 0.9096171305203576\n",
      "Confusion Matrix: \n",
      "[[14173   675]\n",
      " [  938  5012]]\n"
     ]
    }
   ],
   "source": [
    "preds = model.predict(dtet, ntree_limit=model.best_ntree_limit)\n",
    "# best_preds = np.asarray([np.argmax(line) for line in preds])\n",
    "\n",
    "print(\"Numpy array precision:\", precision_score(y_test, preds, average='macro'))\n",
    "print('Confusion Matrix: \\n{}'.format(confusion_matrix(y_test, preds)))"
   ]
  }
 ],
 "metadata": {
  "kernelspec": {
   "display_name": "Python 3",
   "language": "python",
   "name": "python3"
  },
  "language_info": {
   "codemirror_mode": {
    "name": "ipython",
    "version": 3
   },
   "file_extension": ".py",
   "mimetype": "text/x-python",
   "name": "python",
   "nbconvert_exporter": "python",
   "pygments_lexer": "ipython3",
   "version": "3.7.4"
  }
 },
 "nbformat": 4,
 "nbformat_minor": 2
}
