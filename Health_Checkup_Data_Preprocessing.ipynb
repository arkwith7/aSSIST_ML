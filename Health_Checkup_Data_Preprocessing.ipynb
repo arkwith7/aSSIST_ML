{
  "nbformat": 4,
  "nbformat_minor": 0,
  "metadata": {
    "colab": {
      "provenance": [],
      "authorship_tag": "ABX9TyPntlOWZyV4NrjyLYGDRNgb",
      "include_colab_link": true
    },
    "kernelspec": {
      "name": "python3",
      "display_name": "Python 3"
    },
    "language_info": {
      "name": "python"
    }
  },
  "cells": [
    {
      "cell_type": "markdown",
      "metadata": {
        "id": "view-in-github",
        "colab_type": "text"
      },
      "source": [
        "<a href=\"https://colab.research.google.com/github/arkwith7/aSSIST_ML/blob/main/Health_Checkup_Data_Preprocessing.ipynb\" target=\"_parent\"><img src=\"https://colab.research.google.com/assets/colab-badge.svg\" alt=\"Open In Colab\"/></a>"
      ]
    },
    {
      "cell_type": "markdown",
      "source": [
        "# Health-Care-Data-Analysis\n",
        "## - Data Preprocessing -\n",
        "Load Libraries"
      ],
      "metadata": {
        "id": "Q_vQma7n7_hY"
      }
    },
    {
      "cell_type": "code",
      "execution_count": 1,
      "metadata": {
        "id": "mteosXlX7jJG"
      },
      "outputs": [],
      "source": [
        "import pandas as pd\n",
        "import numpy as np\n",
        "import seaborn as sns\n",
        "import matplotlib\n",
        "import matplotlib.pyplot as plt\n",
        "%matplotlib inline"
      ]
    },
    {
      "cell_type": "code",
      "source": [
        "plt.rcParams['font.family'] = 'Malgun Gothic'\n",
        "plt.rcParams['axes.unicode_minus']=False"
      ],
      "metadata": {
        "id": "ed7UX7A08RQS"
      },
      "execution_count": 2,
      "outputs": []
    },
    {
      "cell_type": "code",
      "source": [
        "dat = pd.read_csv('health_data.csv', encoding='utf-8')"
      ],
      "metadata": {
        "id": "Htxla0kS8_gs"
      },
      "execution_count": 3,
      "outputs": []
    },
    {
      "cell_type": "code",
      "source": [
        "df = dat.copy()"
      ],
      "metadata": {
        "id": "WQ2Ox0Cn9UfS"
      },
      "execution_count": 4,
      "outputs": []
    },
    {
      "cell_type": "code",
      "source": [
        "df.head()"
      ],
      "metadata": {
        "colab": {
          "base_uri": "https://localhost:8080/",
          "height": 418
        },
        "id": "-sBPwHo3_nKa",
        "outputId": "b6edb37f-c0cc-4104-d395-80e65afbd506"
      },
      "execution_count": 5,
      "outputs": [
        {
          "output_type": "execute_result",
          "data": {
            "text/plain": [
              "   기준년도  가입자 일련번호  시도코드  성별코드  연령대 코드(5세단위)  신장(5Cm단위)  체중(5Kg 단위)  허리둘레  \\\n",
              "0  2020         1    36     1             9        165          60  72.1   \n",
              "1  2020         2    27     2            13        150          65  81.0   \n",
              "2  2020         3    11     2            12        155          55  70.0   \n",
              "3  2020         4    31     1            13        160          70  90.8   \n",
              "4  2020         5    41     2            12        155          50  75.2   \n",
              "\n",
              "   시력(좌)  시력(우)  ...  혈청크레아티닌  (혈청지오티)AST  (혈청지오티)ALT  감마 지티피  흡연상태  음주여부  \\\n",
              "0    1.2    1.5  ...      1.1        21.0        27.0    21.0   1.0   0.0   \n",
              "1    0.8    0.8  ...      0.5        18.0        15.0    15.0   1.0   0.0   \n",
              "2    0.6    0.7  ...      0.7        27.0        25.0     7.0   1.0   0.0   \n",
              "3    1.0    1.0  ...      1.2        65.0        97.0    72.0   1.0   0.0   \n",
              "4    1.5    1.2  ...      0.7        18.0        17.0    14.0   1.0   0.0   \n",
              "\n",
              "   구강검진 수검여부  치아우식증유무   치석    데이터 공개일자  \n",
              "0          0      NaN  NaN  2021-12-29  \n",
              "1          0      NaN  NaN  2021-12-29  \n",
              "2          0      NaN  NaN  2021-12-29  \n",
              "3          1      0.0  0.0  2021-12-29  \n",
              "4          0      NaN  NaN  2021-12-29  \n",
              "\n",
              "[5 rows x 31 columns]"
            ],
            "text/html": [
              "\n",
              "  <div id=\"df-c0decc73-b65e-466a-ae73-2b950071e2f7\">\n",
              "    <div class=\"colab-df-container\">\n",
              "      <div>\n",
              "<style scoped>\n",
              "    .dataframe tbody tr th:only-of-type {\n",
              "        vertical-align: middle;\n",
              "    }\n",
              "\n",
              "    .dataframe tbody tr th {\n",
              "        vertical-align: top;\n",
              "    }\n",
              "\n",
              "    .dataframe thead th {\n",
              "        text-align: right;\n",
              "    }\n",
              "</style>\n",
              "<table border=\"1\" class=\"dataframe\">\n",
              "  <thead>\n",
              "    <tr style=\"text-align: right;\">\n",
              "      <th></th>\n",
              "      <th>기준년도</th>\n",
              "      <th>가입자 일련번호</th>\n",
              "      <th>시도코드</th>\n",
              "      <th>성별코드</th>\n",
              "      <th>연령대 코드(5세단위)</th>\n",
              "      <th>신장(5Cm단위)</th>\n",
              "      <th>체중(5Kg 단위)</th>\n",
              "      <th>허리둘레</th>\n",
              "      <th>시력(좌)</th>\n",
              "      <th>시력(우)</th>\n",
              "      <th>...</th>\n",
              "      <th>혈청크레아티닌</th>\n",
              "      <th>(혈청지오티)AST</th>\n",
              "      <th>(혈청지오티)ALT</th>\n",
              "      <th>감마 지티피</th>\n",
              "      <th>흡연상태</th>\n",
              "      <th>음주여부</th>\n",
              "      <th>구강검진 수검여부</th>\n",
              "      <th>치아우식증유무</th>\n",
              "      <th>치석</th>\n",
              "      <th>데이터 공개일자</th>\n",
              "    </tr>\n",
              "  </thead>\n",
              "  <tbody>\n",
              "    <tr>\n",
              "      <th>0</th>\n",
              "      <td>2020</td>\n",
              "      <td>1</td>\n",
              "      <td>36</td>\n",
              "      <td>1</td>\n",
              "      <td>9</td>\n",
              "      <td>165</td>\n",
              "      <td>60</td>\n",
              "      <td>72.1</td>\n",
              "      <td>1.2</td>\n",
              "      <td>1.5</td>\n",
              "      <td>...</td>\n",
              "      <td>1.1</td>\n",
              "      <td>21.0</td>\n",
              "      <td>27.0</td>\n",
              "      <td>21.0</td>\n",
              "      <td>1.0</td>\n",
              "      <td>0.0</td>\n",
              "      <td>0</td>\n",
              "      <td>NaN</td>\n",
              "      <td>NaN</td>\n",
              "      <td>2021-12-29</td>\n",
              "    </tr>\n",
              "    <tr>\n",
              "      <th>1</th>\n",
              "      <td>2020</td>\n",
              "      <td>2</td>\n",
              "      <td>27</td>\n",
              "      <td>2</td>\n",
              "      <td>13</td>\n",
              "      <td>150</td>\n",
              "      <td>65</td>\n",
              "      <td>81.0</td>\n",
              "      <td>0.8</td>\n",
              "      <td>0.8</td>\n",
              "      <td>...</td>\n",
              "      <td>0.5</td>\n",
              "      <td>18.0</td>\n",
              "      <td>15.0</td>\n",
              "      <td>15.0</td>\n",
              "      <td>1.0</td>\n",
              "      <td>0.0</td>\n",
              "      <td>0</td>\n",
              "      <td>NaN</td>\n",
              "      <td>NaN</td>\n",
              "      <td>2021-12-29</td>\n",
              "    </tr>\n",
              "    <tr>\n",
              "      <th>2</th>\n",
              "      <td>2020</td>\n",
              "      <td>3</td>\n",
              "      <td>11</td>\n",
              "      <td>2</td>\n",
              "      <td>12</td>\n",
              "      <td>155</td>\n",
              "      <td>55</td>\n",
              "      <td>70.0</td>\n",
              "      <td>0.6</td>\n",
              "      <td>0.7</td>\n",
              "      <td>...</td>\n",
              "      <td>0.7</td>\n",
              "      <td>27.0</td>\n",
              "      <td>25.0</td>\n",
              "      <td>7.0</td>\n",
              "      <td>1.0</td>\n",
              "      <td>0.0</td>\n",
              "      <td>0</td>\n",
              "      <td>NaN</td>\n",
              "      <td>NaN</td>\n",
              "      <td>2021-12-29</td>\n",
              "    </tr>\n",
              "    <tr>\n",
              "      <th>3</th>\n",
              "      <td>2020</td>\n",
              "      <td>4</td>\n",
              "      <td>31</td>\n",
              "      <td>1</td>\n",
              "      <td>13</td>\n",
              "      <td>160</td>\n",
              "      <td>70</td>\n",
              "      <td>90.8</td>\n",
              "      <td>1.0</td>\n",
              "      <td>1.0</td>\n",
              "      <td>...</td>\n",
              "      <td>1.2</td>\n",
              "      <td>65.0</td>\n",
              "      <td>97.0</td>\n",
              "      <td>72.0</td>\n",
              "      <td>1.0</td>\n",
              "      <td>0.0</td>\n",
              "      <td>1</td>\n",
              "      <td>0.0</td>\n",
              "      <td>0.0</td>\n",
              "      <td>2021-12-29</td>\n",
              "    </tr>\n",
              "    <tr>\n",
              "      <th>4</th>\n",
              "      <td>2020</td>\n",
              "      <td>5</td>\n",
              "      <td>41</td>\n",
              "      <td>2</td>\n",
              "      <td>12</td>\n",
              "      <td>155</td>\n",
              "      <td>50</td>\n",
              "      <td>75.2</td>\n",
              "      <td>1.5</td>\n",
              "      <td>1.2</td>\n",
              "      <td>...</td>\n",
              "      <td>0.7</td>\n",
              "      <td>18.0</td>\n",
              "      <td>17.0</td>\n",
              "      <td>14.0</td>\n",
              "      <td>1.0</td>\n",
              "      <td>0.0</td>\n",
              "      <td>0</td>\n",
              "      <td>NaN</td>\n",
              "      <td>NaN</td>\n",
              "      <td>2021-12-29</td>\n",
              "    </tr>\n",
              "  </tbody>\n",
              "</table>\n",
              "<p>5 rows × 31 columns</p>\n",
              "</div>\n",
              "      <button class=\"colab-df-convert\" onclick=\"convertToInteractive('df-c0decc73-b65e-466a-ae73-2b950071e2f7')\"\n",
              "              title=\"Convert this dataframe to an interactive table.\"\n",
              "              style=\"display:none;\">\n",
              "        \n",
              "  <svg xmlns=\"http://www.w3.org/2000/svg\" height=\"24px\"viewBox=\"0 0 24 24\"\n",
              "       width=\"24px\">\n",
              "    <path d=\"M0 0h24v24H0V0z\" fill=\"none\"/>\n",
              "    <path d=\"M18.56 5.44l.94 2.06.94-2.06 2.06-.94-2.06-.94-.94-2.06-.94 2.06-2.06.94zm-11 1L8.5 8.5l.94-2.06 2.06-.94-2.06-.94L8.5 2.5l-.94 2.06-2.06.94zm10 10l.94 2.06.94-2.06 2.06-.94-2.06-.94-.94-2.06-.94 2.06-2.06.94z\"/><path d=\"M17.41 7.96l-1.37-1.37c-.4-.4-.92-.59-1.43-.59-.52 0-1.04.2-1.43.59L10.3 9.45l-7.72 7.72c-.78.78-.78 2.05 0 2.83L4 21.41c.39.39.9.59 1.41.59.51 0 1.02-.2 1.41-.59l7.78-7.78 2.81-2.81c.8-.78.8-2.07 0-2.86zM5.41 20L4 18.59l7.72-7.72 1.47 1.35L5.41 20z\"/>\n",
              "  </svg>\n",
              "      </button>\n",
              "      \n",
              "  <style>\n",
              "    .colab-df-container {\n",
              "      display:flex;\n",
              "      flex-wrap:wrap;\n",
              "      gap: 12px;\n",
              "    }\n",
              "\n",
              "    .colab-df-convert {\n",
              "      background-color: #E8F0FE;\n",
              "      border: none;\n",
              "      border-radius: 50%;\n",
              "      cursor: pointer;\n",
              "      display: none;\n",
              "      fill: #1967D2;\n",
              "      height: 32px;\n",
              "      padding: 0 0 0 0;\n",
              "      width: 32px;\n",
              "    }\n",
              "\n",
              "    .colab-df-convert:hover {\n",
              "      background-color: #E2EBFA;\n",
              "      box-shadow: 0px 1px 2px rgba(60, 64, 67, 0.3), 0px 1px 3px 1px rgba(60, 64, 67, 0.15);\n",
              "      fill: #174EA6;\n",
              "    }\n",
              "\n",
              "    [theme=dark] .colab-df-convert {\n",
              "      background-color: #3B4455;\n",
              "      fill: #D2E3FC;\n",
              "    }\n",
              "\n",
              "    [theme=dark] .colab-df-convert:hover {\n",
              "      background-color: #434B5C;\n",
              "      box-shadow: 0px 1px 3px 1px rgba(0, 0, 0, 0.15);\n",
              "      filter: drop-shadow(0px 1px 2px rgba(0, 0, 0, 0.3));\n",
              "      fill: #FFFFFF;\n",
              "    }\n",
              "  </style>\n",
              "\n",
              "      <script>\n",
              "        const buttonEl =\n",
              "          document.querySelector('#df-c0decc73-b65e-466a-ae73-2b950071e2f7 button.colab-df-convert');\n",
              "        buttonEl.style.display =\n",
              "          google.colab.kernel.accessAllowed ? 'block' : 'none';\n",
              "\n",
              "        async function convertToInteractive(key) {\n",
              "          const element = document.querySelector('#df-c0decc73-b65e-466a-ae73-2b950071e2f7');\n",
              "          const dataTable =\n",
              "            await google.colab.kernel.invokeFunction('convertToInteractive',\n",
              "                                                     [key], {});\n",
              "          if (!dataTable) return;\n",
              "\n",
              "          const docLinkHtml = 'Like what you see? Visit the ' +\n",
              "            '<a target=\"_blank\" href=https://colab.research.google.com/notebooks/data_table.ipynb>data table notebook</a>'\n",
              "            + ' to learn more about interactive tables.';\n",
              "          element.innerHTML = '';\n",
              "          dataTable['output_type'] = 'display_data';\n",
              "          await google.colab.output.renderOutput(dataTable, element);\n",
              "          const docLink = document.createElement('div');\n",
              "          docLink.innerHTML = docLinkHtml;\n",
              "          element.appendChild(docLink);\n",
              "        }\n",
              "      </script>\n",
              "    </div>\n",
              "  </div>\n",
              "  "
            ]
          },
          "metadata": {},
          "execution_count": 5
        }
      ]
    },
    {
      "cell_type": "markdown",
      "source": [
        "## Data Preprocessing\n",
        "### 분석에 사용할 수 없는 변수 제거"
      ],
      "metadata": {
        "id": "4Yr2c6cOAGo1"
      }
    },
    {
      "cell_type": "code",
      "source": [
        "df.drop('기준년도', axis=1, inplace=True) # 값이 2020년 밖에 없다\n",
        "df.drop('치석', axis=1, inplace=True) # 결측치가 너무 많고 이해하기 어려운 값이 있다."
      ],
      "metadata": {
        "id": "v16Oo9PrAAb8"
      },
      "execution_count": 6,
      "outputs": []
    },
    {
      "cell_type": "markdown",
      "source": [
        "### 이상치 제거"
      ],
      "metadata": {
        "id": "NWo3IjMMAZ8G"
      }
    },
    {
      "cell_type": "code",
      "source": [
        "df.loc[df['허리둘레'] > 900, '허리둘레'] = np.nan # 허리둘레 900이상인 값 결측치로 변경\n",
        "df.loc[df['시력(좌)'] == 9.9, '시력(좌)'] = 0; df.loc[df['시력(우)'] == 9.9, '시력(우)'] = 0 # 시력이 0인 사람을 실명으로 간주\n",
        "df = df[df['LDL 콜레스테롤'] <= df['총 콜레스테롤']] # 총콜레스테롤 보다 LDL이 높은 경우 제거\n",
        "df.loc[df['트리글리세라이드'] > 1500, '트리글리세라이드'] = np.nan # 결측치로 변경\n",
        "df.loc[df['LDL 콜레스테롤'] > 300, 'LDL 콜레스테롤'] = np.nan # 결측치로 변경\n",
        "df.loc[df['HDL 콜레스테롤'] > 300, 'HDL 콜레스테롤'] = np.nan # 결측치로 변경\n",
        "df.loc[df['총 콜레스테롤'] > 500, '총 콜레스테롤'] = np.nan # 결측치로 변경"
      ],
      "metadata": {
        "id": "sUcFogrgAjwC"
      },
      "execution_count": 7,
      "outputs": []
    },
    {
      "cell_type": "markdown",
      "source": [
        "### 결측치 제거"
      ],
      "metadata": {
        "id": "pA_N_Jh7CjDL"
      }
    },
    {
      "cell_type": "code",
      "source": [
        "df.dropna(inplace=True)"
      ],
      "metadata": {
        "id": "AmmtSpuXCoWb"
      },
      "execution_count": 8,
      "outputs": []
    },
    {
      "cell_type": "markdown",
      "source": [
        "### 범주형 변수로 데이터 타입 수정"
      ],
      "metadata": {
        "id": "_z1DOYgUCs2_"
      }
    },
    {
      "cell_type": "code",
      "source": [
        "# 1,2로 되어있는 성별코드 0,1 로 변경 후 성별로 이름 변경\n",
        "df['성별코드'] = np.where(df['성별코드'] == 1, 0, 1)\n",
        "df['성별'] = df['성별코드'].astype('object')\n",
        "df.drop('성별코드', axis=1, inplace=True)\n",
        "\n",
        "# 컬럼명 '연령대코드(5세단위)', '연령대'로 변경\n",
        "df['연령대'] = df['연령대 코드(5세단위)'].astype('object')\n",
        "df.drop('연령대 코드(5세단위)', axis=1, inplace=True)\n",
        "\n",
        "# 시도 코드\n",
        "df['시도코드'] = df['시도코드'].astype('object')\n",
        "\n",
        "# 청력\n",
        "df['청력(좌)'] = df['청력(좌)'].astype('int')\n",
        "df['청력(좌)'] = df['청력(좌)'].astype('object')\n",
        "df['청력(우)'] = df['청력(우)'].astype('int')\n",
        "df['청력(우)'] = df['청력(우)'].astype('object')\n",
        "\n",
        "# 요단백\n",
        "df['요단백'] = df['요단백'].astype('int')\n",
        "df['요단백'] = df['요단백'].astype('object')\n",
        "\n",
        "# 흡연상태\n",
        "df['흡연상태'] = df['흡연상태'].astype('int')\n",
        "df['흡연상태'] = df['흡연상태'].astype('object')\n",
        "\n",
        "# 컬럼명 '구강검진 수검여부', '구강검진_수검'으로 변경\n",
        "df['구강검진_수검'] = df['구강검진 수검여부'].astype('object')\n",
        "df.drop('구강검진 수검여부', axis=1, inplace=True)\n",
        "\n",
        "# 컬럼명 '신장(5Cm단위)', '신장'으로 변경\n",
        "df['신장'] = df['신장(5Cm단위)'].astype('object')\n",
        "df.drop('신장(5Cm단위)', axis=1, inplace=True)\n",
        "\n",
        "# 컬러명 '체중(5Kg단위)', '체중'으로 변경\n",
        "df['체중'] = df['체중(5Kg 단위)'].astype('object')\n",
        "df.drop('체중(5Kg 단위)', axis=1, inplace=True)"
      ],
      "metadata": {
        "id": "211-umgkCw1k"
      },
      "execution_count": 10,
      "outputs": []
    },
    {
      "cell_type": "code",
      "source": [
        "obj_cols = df.select_dtypes('object').columns   # object 변수\n",
        "obj_cols"
      ],
      "metadata": {
        "colab": {
          "base_uri": "https://localhost:8080/"
        },
        "id": "zbEGeWhSEmDq",
        "outputId": "cf20d7ca-ee9a-49d8-dd4f-2bd7d50f1caa"
      },
      "execution_count": 11,
      "outputs": [
        {
          "output_type": "execute_result",
          "data": {
            "text/plain": [
              "Index(['시도코드', '청력(좌)', '청력(우)', '요단백', '흡연상태', '데이터 공개일자', '성별', '연령대',\n",
              "       '구강검진_수검', '신장', '체중'],\n",
              "      dtype='object')"
            ]
          },
          "metadata": {},
          "execution_count": 11
        }
      ]
    },
    {
      "cell_type": "markdown",
      "source": [
        "### 1. 파생변수 (기초질환)"
      ],
      "metadata": {
        "id": "SmO2YvuzE-Gg"
      }
    },
    {
      "cell_type": "code",
      "source": [
        "# 실명\n",
        "# 복부비만\n",
        "# 고지혈증\n",
        "# 고혈압, 고혈압_k\n",
        "# 총콜레스테롤_div\n",
        "# 공복혈당\n",
        "# 당뇨, 당뇨_k\n",
        "# 당뇨_표적장기손상\n",
        "# 빈혈, 빈혈_k\n",
        "# whtr, whtr_k (허리둘레/키)\n",
        "# 도시\n",
        "# bmi, bmi_div, bmi_div_k, BMI\n",
        "# 심혈관질환 관련 콜레스테롤 지수 (non-HDL, CRF, 대사증후군)\n",
        "# 혈청크레아티닌_진단\n",
        "# 나이\n",
        "# eGFR, GFR, eGFR_진단\n",
        "# 신장질환\n",
        "# 심혈관질환\n",
        "# 단백뇨, 단백뇨_k\n",
        "# AST구분, ALT구분, 감마지티피구분, AST/ALT비율, GTP/ALT비율, 알코올성간질환여부\n",
        "# 기초대사량"
      ],
      "metadata": {
        "id": "oxPr8cXxFAXS"
      },
      "execution_count": 12,
      "outputs": []
    },
    {
      "cell_type": "markdown",
      "source": [
        "### 실명"
      ],
      "metadata": {
        "id": "CKu9lwl4FJAQ"
      }
    },
    {
      "cell_type": "code",
      "source": [
        "df['실명'] = np.where((df['시력(좌)'] == 0) | (df['시력(우)'] == 0) == True, 1, 0).astype('object')"
      ],
      "metadata": {
        "id": "Cau-3_4JFFBQ"
      },
      "execution_count": 13,
      "outputs": []
    },
    {
      "cell_type": "markdown",
      "source": [
        "### 복부비만"
      ],
      "metadata": {
        "id": "qPrBfx46FRC_"
      }
    },
    {
      "cell_type": "code",
      "source": [
        "df['복부비만'] = np.where(((df['허리둘레'] >= 90) & (df['성별']==0)) | ((df['허리둘레'] >= 85) & (df['성별']==1)) == True, 1, 0).astype('object')"
      ],
      "metadata": {
        "id": "Zx1Sm4ewFQZ9"
      },
      "execution_count": 15,
      "outputs": []
    },
    {
      "cell_type": "markdown",
      "source": [
        "### 고지혈증\n"
      ],
      "metadata": {
        "id": "72j4zrSIFyiU"
      }
    },
    {
      "cell_type": "code",
      "source": [
        "df['고지혈증']=np.where((df['총 콜레스테롤'] > 230) | (df['트리글리세라이드'] >= 200) == True, 1, 0).astype('object')"
      ],
      "metadata": {
        "id": "l1xsrfYmF10P"
      },
      "execution_count": 17,
      "outputs": []
    },
    {
      "cell_type": "markdown",
      "source": [
        "### 고혈압"
      ],
      "metadata": {
        "id": "p2RS7oWuF96I"
      }
    },
    {
      "cell_type": "code",
      "source": [
        "def div_high(row):\n",
        "    if row <120 :\n",
        "        return 0\n",
        "    elif (row >=120) & (row <140):\n",
        "        return 1\n",
        "    elif row >=160 :\n",
        "        return 3\n",
        "    else:\n",
        "        return 2\n",
        "\n",
        "df['고혈압']=df['수축기 혈압'].apply(div_high)\n",
        "\n",
        "def div_low(row):\n",
        "    if row <80 :\n",
        "        return 0\n",
        "    elif (row >=80) & (row <90):\n",
        "        return 1\n",
        "    elif row >=100 :\n",
        "        return 3\n",
        "    else:\n",
        "        return 2\n",
        "\n",
        "# 정상: 0, 고혈압전단계: 1, 1단계고혈압: 2, 2단계고혈압: 3\n",
        "df['고혈압'] = np.where(df['고혈압']>=df['이완기 혈압'].apply(div_low), df['고혈압'], df['이완기 혈압'].apply(div_low)).astype('object')\n",
        "\n",
        "\n",
        "def div_higpress_k(row):\n",
        "    if row ==0 :\n",
        "        return '정상'\n",
        "    elif row ==1 :\n",
        "        return '고혈압전단계'\n",
        "    elif row ==2 :\n",
        "        return '1단계고혈압'\n",
        "    else:\n",
        "        return '2단계고혈압'\n",
        "\n",
        "df['고혈압_k']=df['고혈압'].apply(div_higpress_k)"
      ],
      "metadata": {
        "id": "cqa_NVbhF_iN"
      },
      "execution_count": 19,
      "outputs": []
    },
    {
      "cell_type": "markdown",
      "source": [
        "### 총콜레스테롤"
      ],
      "metadata": {
        "id": "Apjh0c7jGb2c"
      }
    },
    {
      "cell_type": "code",
      "source": [
        "def tr(tr) :\n",
        "    if tr < 200 :\n",
        "        return 0\n",
        "    elif tr < 240 :\n",
        "        return 1\n",
        "    else :\n",
        "        return 2"
      ],
      "metadata": {
        "id": "MYx7QDPSGdVM"
      },
      "execution_count": 20,
      "outputs": []
    },
    {
      "cell_type": "code",
      "source": [
        "df['총콜레스테롤_div']=df['총 콜레스테롤'].apply(tr).astype('object')"
      ],
      "metadata": {
        "id": "JXU_J58RGguY"
      },
      "execution_count": 22,
      "outputs": []
    },
    {
      "cell_type": "markdown",
      "source": [
        "### 공복혈당"
      ],
      "metadata": {
        "id": "Yiue6REKGyKG"
      }
    },
    {
      "cell_type": "code",
      "source": [
        "def tran(tr) :\n",
        "    if tr < 100 :\n",
        "        return 0\n",
        "    elif tr < 110 :\n",
        "        return 1\n",
        "    elif tr < 126 :\n",
        "        return 2\n",
        "    elif tr < 140 :\n",
        "        return 3\n",
        "    else :\n",
        "        return 4"
      ],
      "metadata": {
        "id": "9I6LooDPG0VS"
      },
      "execution_count": 23,
      "outputs": []
    },
    {
      "cell_type": "code",
      "source": [
        "df['공복혈당']=df['식전혈당(공복혈당)'].apply(tran).astype('object')"
      ],
      "metadata": {
        "id": "xOlp7Qs7G6gz"
      },
      "execution_count": 24,
      "outputs": []
    },
    {
      "cell_type": "markdown",
      "source": [
        "### 당뇨"
      ],
      "metadata": {
        "id": "CtladxfzHA_Y"
      }
    },
    {
      "cell_type": "code",
      "source": [
        "def trans(tr) :\n",
        "    if tr < 70 :\n",
        "        return 0 # 저혈당\n",
        "    elif 70 <= tr < 100 :\n",
        "        return 1 # 이상없음\n",
        "    elif 100 <= tr < 126 :\n",
        "        return 2 # 공복혈당장애\n",
        "                 # 100 ~ 110 : 100 미만 대비 당뇨병 위험도가 3.17배, 110 ~ 126 : 100 미만 대비 당뇨병 위험도가 7.42배\n",
        "    else :\n",
        "        return 3 # 당뇨병\n",
        "\n",
        "def trans_han(tr) :\n",
        "    if tr < 70 :\n",
        "        return \"저혈당\" # 저혈당\n",
        "    elif 70 <= tr < 100 :\n",
        "        return \"정상\" # 이상없음\n",
        "    elif 100 <= tr < 126 :\n",
        "        return \"공복혈당장애\" # 공복혈당장애\n",
        "                 # 100 ~ 110 : 100 미만 대비 당뇨병 위험도가 3.17배, 110 ~ 126 : 100 미만 대비 당뇨병 위험도가 7.42배\n",
        "    else :\n",
        "        return \"당뇨병\" # 당뇨병"
      ],
      "metadata": {
        "id": "52HYmGlcHFUH"
      },
      "execution_count": 25,
      "outputs": []
    },
    {
      "cell_type": "code",
      "source": [
        "df['당뇨']=df['식전혈당(공복혈당)'].apply(trans).astype('object')\n",
        "df['당뇨_k']=df['식전혈당(공복혈당)'].apply(trans_han)"
      ],
      "metadata": {
        "id": "1exAzR1WHN8y"
      },
      "execution_count": 26,
      "outputs": []
    },
    {
      "cell_type": "markdown",
      "source": [
        "### 당뇨병 표적장기손상"
      ],
      "metadata": {
        "id": "L2symygZHVb1"
      }
    },
    {
      "cell_type": "code",
      "source": [
        "df['당뇨_표적장기손상'] = np.where((df['당뇨_k'] == '당뇨병') &\n",
        "                               ((df['요단백'] >= 5) | (df['고혈압'] == 3) | (df['총 콜레스테롤'] >= 310)), 1, 0).astype('object')"
      ],
      "metadata": {
        "id": "H0Ak61arHU38"
      },
      "execution_count": 28,
      "outputs": []
    },
    {
      "cell_type": "markdown",
      "source": [
        "### 빈혈"
      ],
      "metadata": {
        "id": "9z_jyykPHdEw"
      }
    },
    {
      "cell_type": "code",
      "source": [
        "cond1 = (df['성별'] == '1')\n",
        "cond2 = (df['혈색소'] < 12)\n",
        "cond3 = (df['혈색소'] < 13)\n",
        "\n",
        "df.loc[cond1&cond2, '빈혈'] = 1 # 여자 and 혈색소 < 12 : 빈혈\n",
        "df.loc[~cond1&~cond2, '빈혈'] = 0 # 여자 and 혈색소 >= 12 : 빈혈 아님\n",
        "df.loc[~cond1&cond3, '빈혈'] = 1 # 남자 and 혈색소 < 13 : 빈혈\n",
        "df.loc[~cond1&~cond3, '빈혈'] = 0 # 남자 and 혈색소 >= 13 : 빈혈 아님\n",
        "\n",
        "df['빈혈']=df['빈혈'].astype('object')"
      ],
      "metadata": {
        "id": "OA9D3AhwHjM4"
      },
      "execution_count": 29,
      "outputs": []
    },
    {
      "cell_type": "code",
      "source": [
        "cond1 = (df['성별'] == '1')\n",
        "cond2 = (df['혈색소'] < 12)\n",
        "cond3 = (df['혈색소'] < 13)\n",
        "\n",
        "df.loc[cond1&cond2, '빈혈_k'] = \"빈혈\" # 여자 and 혈색소 < 12 : 빈혈\n",
        "df.loc[~cond1&~cond2, '빈혈_k'] = \"빈혈 아님\" # 여자 and 혈색소 >= 12 : 빈혈 아님\n",
        "df.loc[~cond1&cond3, '빈혈_k'] = \"빈혈\" # 남자 and 혈색소 < 13 : 빈혈\n",
        "df.loc[~cond1&~cond3, '빈혈_k'] = \"빈혈 아님\" # 남자 and 혈색소 >= 13 : 빈혈 아님"
      ],
      "metadata": {
        "id": "SWxTqtaeHwWJ"
      },
      "execution_count": 30,
      "outputs": []
    },
    {
      "cell_type": "markdown",
      "source": [
        "### 허리둘레/키"
      ],
      "metadata": {
        "id": "95mGNr8yHs62"
      }
    },
    {
      "cell_type": "code",
      "source": [
        "df['whtr'] = df['허리둘레']/df['신장']\n",
        "\n",
        "# 저체중: -1, 정상: 0, 과체중: 1, 비만: 2\n",
        "def div_whtr(row):\n",
        "    if row <0.43 :\n",
        "        return '-1'\n",
        "    elif (row >=0.43) & (row <0.53) :\n",
        "        return '0'\n",
        "    elif row >=0.58 :\n",
        "        return '2'\n",
        "    else:\n",
        "        return '1'\n",
        "\n",
        "df['whtr']=df['whtr'].apply(div_whtr)\n",
        "\n",
        "\n",
        "def div_whtr_k(row):\n",
        "    if row == '-1' :\n",
        "        return '저체중'\n",
        "    elif row == '0' :\n",
        "        return '정상'\n",
        "    elif row == '1' :\n",
        "        return '과체중'\n",
        "    else:\n",
        "        return '비만'\n",
        "\n",
        "df['whtr_k']=df['whtr'].apply(div_whtr_k)"
      ],
      "metadata": {
        "id": "XbuI9QrNH2VD"
      },
      "execution_count": 31,
      "outputs": []
    },
    {
      "cell_type": "markdown",
      "source": [
        "### 도시"
      ],
      "metadata": {
        "id": "4OhromgFH8fD"
      }
    },
    {
      "cell_type": "code",
      "source": [
        "def trans_addr (addr) :\n",
        "    if addr == 11 :\n",
        "        return \"서울특별시\"\n",
        "    elif addr == 26 :\n",
        "        return \"부산광역시\"\n",
        "    elif addr == 27 :\n",
        "        return \"대구광역시\"\n",
        "    elif addr == 28 :\n",
        "        return \"인천광역시\"\n",
        "    elif addr == 29 :\n",
        "        return \"광주광역시\"\n",
        "    elif addr == 30 :\n",
        "        return \"대전광역시\"\n",
        "    elif addr == 31 :\n",
        "        return \"울산광역시\"\n",
        "    elif addr == 36 :\n",
        "        return \"세종특별자치시\"\n",
        "    elif addr == 41 :\n",
        "        return \"경기도\"\n",
        "    elif addr == 42 :\n",
        "        return \"강원도\"\n",
        "    elif addr == 43 :\n",
        "        return \"충청북도\"\n",
        "    elif addr == 44 :\n",
        "        return \"충청남도\"\n",
        "    elif addr == 45 :\n",
        "        return \"전라북도\"\n",
        "    elif addr == 46 :\n",
        "        return \"전라남도\"\n",
        "    elif addr == 47 :\n",
        "        return \"경상북도\"\n",
        "    elif addr == 48 :\n",
        "        return \"경상남도\"\n",
        "    elif addr == 49 :\n",
        "        return \"제주특별자치도\"\n",
        "\n",
        "df['도시']=df['시도코드'].apply(trans_addr)"
      ],
      "metadata": {
        "id": "an-c16oKICCl"
      },
      "execution_count": 32,
      "outputs": []
    },
    {
      "cell_type": "markdown",
      "source": [
        "### BMI"
      ],
      "metadata": {
        "id": "ka8R1JECIHHL"
      }
    },
    {
      "cell_type": "code",
      "source": [
        "df['bmi']=df['체중']/(df['신장']/100) ** 2\n",
        "df['bmi']=df['bmi'].astype('float64')\n",
        "df['bmi'] = df['bmi'].round(1)"
      ],
      "metadata": {
        "id": "zQNndPT-IKgW"
      },
      "execution_count": 33,
      "outputs": []
    },
    {
      "cell_type": "code",
      "source": [
        "def class_bmi_div (bmi) :\n",
        "    if bmi < 18.5 :\n",
        "        return \"저체중\"\n",
        "    elif 18.5 <= bmi < 23 :\n",
        "        return \"정상체중\"\n",
        "    elif 23 <= bmi < 25 :\n",
        "        return \"과체중\"\n",
        "    elif 25 <= bmi < 30 :\n",
        "        return \"경도비만\"\n",
        "    elif 30 <= bmi < 35 :\n",
        "        return \"중정도비만\"\n",
        "    elif 35 <= bmi :\n",
        "        return \"고도비만\"\n",
        "\n",
        "def class_bmi_div_num (bmi) :\n",
        "    if bmi < 18.5 :\n",
        "        return 0 #\"저체중\"\n",
        "    elif 18.5 <= bmi < 23 :\n",
        "        return 1 #\"정상체중\"\n",
        "    elif 23 <= bmi < 25 :\n",
        "        return 2 #\"과체중\"\n",
        "    elif 25 <= bmi < 30 :\n",
        "        return 3 #\"경도비만\"\n",
        "    elif 30 <= bmi < 35 :\n",
        "        return 4 #\"중정도비만\"\n",
        "    elif 35 <= bmi :\n",
        "        return 5 #\"고도비만\"\n",
        "\n",
        "\n",
        "df['bmi_div_k']=df['bmi'].apply(class_bmi_div)\n",
        "df['bmi_div']=df['bmi'].apply(class_bmi_div_num).astype('object')"
      ],
      "metadata": {
        "id": "1Eapv8D1IRPp"
      },
      "execution_count": 34,
      "outputs": []
    },
    {
      "cell_type": "code",
      "source": [
        "def class_bmi_num (bmi) :\n",
        "    if bmi < 25 :\n",
        "        return 0\n",
        "    elif bmi < 26.5 :\n",
        "        return 1\n",
        "    elif bmi < 28 :\n",
        "        return 2\n",
        "    elif bmi < 30 :\n",
        "        return 3\n",
        "    else :\n",
        "        return 4\n",
        "\n",
        "df['BMI']=df['bmi'].apply(class_bmi_num).astype('object')"
      ],
      "metadata": {
        "id": "fShopvh2ITF_"
      },
      "execution_count": 35,
      "outputs": []
    },
    {
      "cell_type": "markdown",
      "source": [
        "### 심혈관질환 관련 콜레스테롤 지수\n",
        "- non-HDL, CRF, 대사증후군"
      ],
      "metadata": {
        "id": "y8KOLv2BIXdE"
      }
    },
    {
      "cell_type": "code",
      "source": [
        "df['non-HDL']=df['총 콜레스테롤']-df['HDL 콜레스테롤'] #심혈관 질환 위험도 관련\n",
        "\n",
        "df['CRF']=df['총 콜레스테롤']/df['HDL 콜레스테롤'] # 심혈관 질환 위험도 관련"
      ],
      "metadata": {
        "id": "UrFU7MfgIfix"
      },
      "execution_count": 36,
      "outputs": []
    },
    {
      "cell_type": "code",
      "source": [
        "def div_d(row):\n",
        "    cnt=0\n",
        "    if (row['성별'] == '0')&(row['허리둘레'] >= 90) :\n",
        "        cnt+=1\n",
        "    elif ~(row['성별'] == '0')&(row['허리둘레'] >= 85) :\n",
        "        cnt+=1\n",
        "    if row['트리글리세라이드'] >= 150 :\n",
        "        cnt+=1\n",
        "    if (row['성별'] == '0')&(row['HDL 콜레스테롤'] < 40) :\n",
        "        cnt+=1\n",
        "    elif ~(row['성별'] == '0')&(row['HDL 콜레스테롤'] < 50) :\n",
        "        cnt+=1\n",
        "    if (row['수축기 혈압'] >= 130) | (row['이완기 혈압'] >= 85) :\n",
        "        cnt+=1\n",
        "    if row['식전혈당(공복혈당)'] >= 100 :\n",
        "        cnt+=1\n",
        "    return cnt\n",
        "\n",
        "\n",
        "df['대사증후군']=df[['성별','허리둘레','트리글리세라이드','HDL 콜레스테롤','수축기 혈압','이완기 혈압','식전혈당(공복혈당)']].apply(div_d, axis = 1)\n",
        "df['대사증후군_k']=np.where(df['대사증후군']>=3, '대사증후군', '해당없음')\n",
        "df['대사증후군']=np.where(df['대사증후군']>=3, '1', '0')"
      ],
      "metadata": {
        "id": "UyKsA7QGInNY"
      },
      "execution_count": 37,
      "outputs": []
    },
    {
      "cell_type": "markdown",
      "source": [
        "### 혈청크레아티닌"
      ],
      "metadata": {
        "id": "u3V3MmC1I9SB"
      }
    },
    {
      "cell_type": "code",
      "source": [
        "def func_1(row) :\n",
        "\n",
        "    # 남자\n",
        "\n",
        "    if row['성별'] == 0 :\n",
        "\n",
        "        if row['혈청크레아티닌'] < 0.61 :\n",
        "            result =  \"low\"\n",
        "        elif row['혈청크레아티닌'] > 1.04 :\n",
        "            result =  \"high\"\n",
        "        else :\n",
        "            result =  \"normal\"\n",
        "\n",
        "    # 여자\n",
        "\n",
        "    else :\n",
        "        if row['혈청크레아티닌'] < 0.47 :\n",
        "            result =  \"low\"\n",
        "        elif row['혈청크레아티닌'] > 0.79 :\n",
        "            result =  \"high\"\n",
        "        else :\n",
        "            result =  \"normal\"\n",
        "\n",
        "    return result"
      ],
      "metadata": {
        "id": "OvZSNyaSI0n3"
      },
      "execution_count": 38,
      "outputs": []
    },
    {
      "cell_type": "code",
      "source": [
        "df['혈청크레아티닌_진단'] = df[['성별','혈청크레아티닌']].apply(func_1, axis = 1)"
      ],
      "metadata": {
        "id": "gxX__mHYKAzw"
      },
      "execution_count": 39,
      "outputs": []
    },
    {
      "cell_type": "markdown",
      "source": [
        "### 나이"
      ],
      "metadata": {
        "id": "93r7YqhoKCan"
      }
    },
    {
      "cell_type": "code",
      "source": [
        "age_list = list(df['연령대'].unique())\n",
        "age_list.sort()\n",
        "age_list"
      ],
      "metadata": {
        "colab": {
          "base_uri": "https://localhost:8080/"
        },
        "id": "P8XZYIPRKI0g",
        "outputId": "198cbc6b-45c7-4c85-9d6c-9b36e5b2062d"
      },
      "execution_count": 40,
      "outputs": [
        {
          "output_type": "execute_result",
          "data": {
            "text/plain": [
              "[9, 10, 11, 12, 13, 14, 15, 16, 17, 18]"
            ]
          },
          "metadata": {},
          "execution_count": 40
        }
      ]
    },
    {
      "cell_type": "code",
      "source": [
        "# 연령 코드 딕셔너리 생성\n",
        "# 5단위 -> 10단위 변경\n",
        "\n",
        "age_code = {9 : 40,\n",
        "            10 : 40,\n",
        "            11 : 50,\n",
        "            12 : 50,\n",
        "            13 : 60,\n",
        "            14 : 60,\n",
        "            15 : 70,\n",
        "            16 : 70,\n",
        "            17 : 80,\n",
        "            18 : 80\n",
        "}\n",
        "\n",
        "def func_1(row, age_code):\n",
        "    return age_code[row]\n",
        "\n",
        "df['나이'] = df['연령대'].apply(func_1, args = (age_code,))"
      ],
      "metadata": {
        "id": "OT_RPwlMKXpO"
      },
      "execution_count": 41,
      "outputs": []
    },
    {
      "cell_type": "markdown",
      "source": [
        "### 사구체 여과율"
      ],
      "metadata": {
        "id": "8Uh68T5YK1cO"
      }
    },
    {
      "cell_type": "code",
      "source": [
        "def eGFR(row) :\n",
        "    if row['성별'] == 1 :\n",
        "        result = 175 * (row['혈청크레아티닌'] **(-1.154)) * (row['나이']**(-0.203)) * (0.742)\n",
        "\n",
        "    else :\n",
        "        result = 175 * (row['혈청크레아티닌'] **(-1.154)) * (row['나이']**(-0.203))\n",
        "\n",
        "    return result"
      ],
      "metadata": {
        "id": "2s5EDx2hK3xL"
      },
      "execution_count": 42,
      "outputs": []
    },
    {
      "cell_type": "code",
      "source": [
        "df['eGFR'] = df[['성별', '나이', '혈청크레아티닌']].apply(eGFR, axis = 1)"
      ],
      "metadata": {
        "id": "E1whWSHxK7hq"
      },
      "execution_count": 43,
      "outputs": []
    },
    {
      "cell_type": "markdown",
      "source": [
        "### GFR(MDRD)"
      ],
      "metadata": {
        "id": "m34YEtccOSy7"
      }
    },
    {
      "cell_type": "code",
      "source": [
        "def GFR(row) :\n",
        "    if row >=60 :\n",
        "        return 0\n",
        "    elif row >= 45:\n",
        "        return 1\n",
        "    else :\n",
        "        return 2"
      ],
      "metadata": {
        "id": "mj-k904lOUqF"
      },
      "execution_count": 44,
      "outputs": []
    },
    {
      "cell_type": "code",
      "source": [
        "df['GFR'] = df['eGFR'].apply(GFR).astype('object')"
      ],
      "metadata": {
        "id": "2h4emfrjOa8R"
      },
      "execution_count": 45,
      "outputs": []
    },
    {
      "cell_type": "markdown",
      "source": [
        "### 추정 사구체여과율 진단 (eGRF)"
      ],
      "metadata": {
        "id": "LNeuFZ6lOiZo"
      }
    },
    {
      "cell_type": "code",
      "source": [
        "def eGFR_diagnosis(row) :\n",
        "    if row >= 90.0 :\n",
        "        result = '정상 신기능'\n",
        "    elif row >= 60.0 :\n",
        "        result = '경도 신기능 저하'\n",
        "    elif row >= 30.0 :\n",
        "        result = '중등도 신기능 저하'\n",
        "    elif row >= 15.0 :\n",
        "        result = '중증 신기능 저하'\n",
        "    else :\n",
        "        result = '말기 신부전'\n",
        "    return result"
      ],
      "metadata": {
        "id": "UGU7_5x-OnYP"
      },
      "execution_count": 46,
      "outputs": []
    },
    {
      "cell_type": "code",
      "source": [
        "df['eGFR_진단'] = df['eGFR'].apply(eGFR_diagnosis)"
      ],
      "metadata": {
        "id": "n0baQEM4Otv8"
      },
      "execution_count": 47,
      "outputs": []
    },
    {
      "cell_type": "markdown",
      "source": [
        "### 고혈압성 신장병"
      ],
      "metadata": {
        "id": "9A7A0W1SOvbS"
      }
    },
    {
      "cell_type": "code",
      "source": [
        "cond1 = (((df['혈청크레아티닌'] >= 1.5) & (df['성별'] == 0)) | ((df['혈청크레아티닌'] >= 1.4) & (df['성별'] == 1)))\n",
        "cond2 = (df['요단백'] >= 5)\n",
        "cond3 = (df['eGFR'] < 60) # GFR 병수가 계산중\n",
        "\n",
        "df.loc[cond1|cond2|cond3, '신장질환'] = 1\n",
        "df['신장질환'].fillna(0, inplace=True)"
      ],
      "metadata": {
        "id": "NGHuiZ9RO2on"
      },
      "execution_count": 48,
      "outputs": []
    },
    {
      "cell_type": "markdown",
      "source": [
        "### 심혈관질환 발병위험도"
      ],
      "metadata": {
        "id": "JZoNOQ1wO7Qv"
      }
    },
    {
      "cell_type": "code",
      "source": [
        "cond1 = (((df['나이'] >= 45) & (df['성별'] == 0)) | ((df['나이'] >= 55) & (df['성별'] == 1)))\n",
        "cond2 = (df['흡연상태'] == 3) # 금연 성공한 사람 어떻게 처리할까?\n",
        "cond3 = ((df['BMI'] >= 25) | (df['복부비만'] == 1))\n",
        "cond4 = (df['당뇨_k'] == '공복혈당장애')\n",
        "cond5 = (df['HDL 콜레스테롤'] < 40)\n",
        "cond6 = ((df['총 콜레스테롤'] >= 220) | (df['LDL 콜레스테롤'] >= 150) |\n",
        "        (df['트리글리세라이드'] >= 200))\n",
        "\n",
        "cond7 = (df['HDL 콜레스테롤'] >= 60) # 좋은 요인"
      ],
      "metadata": {
        "id": "X-DiPNRxPAO-"
      },
      "execution_count": 50,
      "outputs": []
    },
    {
      "cell_type": "code",
      "source": [
        "df['risk_factor'] = 0\n",
        "df.loc[cond1, 'risk_factor'] += 1\n",
        "df.loc[cond2, 'risk_factor'] += 1\n",
        "df.loc[cond3, 'risk_factor'] += 1\n",
        "df.loc[cond4, 'risk_factor'] += 1\n",
        "df.loc[cond5, 'risk_factor'] += 1\n",
        "df.loc[cond6, 'risk_factor'] += 1\n",
        "df.loc[cond7, 'risk_factor'] -= 1"
      ],
      "metadata": {
        "id": "GG0OQqbEPOaL"
      },
      "execution_count": 51,
      "outputs": []
    },
    {
      "cell_type": "code",
      "source": [
        "cond8 = (df['eGFR'] < 30)\n",
        "cond9 = ((30 <= df['eGFR']) & (df['eGFR'] < 60))\n",
        "cond10 = (df['eGFR'] >= 60)\n",
        "\n",
        "cond1 = (((df['당뇨_k'] == '당뇨병') & (df['당뇨_표적장기손상'] == 1)) | cond8) # 최고위험\n",
        "cond2 = ((((df['당뇨_k'] == '당뇨병') & (df['당뇨_표적장기손상'] == 0)) | cond9) &\n",
        "        (df['고혈압_k'] == '2단계고혈압')) # 최고위험\n",
        "codn3 = ((((df['당뇨_k'] == '당뇨병') & (df['당뇨_표적장기손상'] == 0)) | cond9) &\n",
        "        ((df['고혈압_k'] != '2단계고혈압'))) # 고위험\n",
        "cond4 = ((df['고혈압_k'] == '2단계고혈압') & (df['risk_factor'] >= 3) &\n",
        "         (df['당뇨_k'] != '당뇨병') & cond10) # 고위험\n",
        "cond5 = ((df['고혈압_k'] != '2단계고혈압') &\n",
        "         (df['risk_factor'] >= 3) & (df['당뇨_k'] != '당뇨병') & cond10) # 중등도위험\n",
        "cond6 = (((df['고혈압_k'] == '1단계고혈압') | (df['고혈압_k'] == '2단계고혈압')) &\n",
        "         ((1 <= df['risk_factor']) & (df['risk_factor'] <= 2)) &\n",
        "         (df['당뇨_k'] != '당뇨병') & cond10) # 중등도위험\n",
        "# cond7 = (df['고혈압_k'] == '고혈압전단계') & (1 <= df['risk_factor'] <= 2) # 저위험\n",
        "cond7 = ((df['고혈압_k'] == '2단계고혈압') & (df['risk_factor'] == 0) &\n",
        "         (df['당뇨_k'] != '당뇨병') & cond10) # 중등도위험\n",
        "# cond8 = (((df['고혈압_k'] == '1단계고혈압') | (df['고혈압_k'] == '고혈압전단계')) & (df['risk_factor'] == 0)) # 저위험\n",
        "# fillna로 나머지 저위험\n",
        "\n",
        "df.loc[cond1|cond2, '심혈관질환'] = '최고위험'\n",
        "df.loc[cond3|cond4, '심혈관질환'] = '고위험'\n",
        "df.loc[cond5|cond6|cond7, '심혈관질환'] = '중등도위험'\n",
        "df['심혈관질환'].fillna('저위험', inplace=True)"
      ],
      "metadata": {
        "id": "jUjsQG2NPP3C"
      },
      "execution_count": 52,
      "outputs": []
    },
    {
      "cell_type": "markdown",
      "source": [
        "### 단백뇨"
      ],
      "metadata": {
        "id": "WNnpzfbZPWAT"
      }
    },
    {
      "cell_type": "code",
      "source": [
        "df['단백뇨'] = df['요단백']\n",
        "\n",
        "# 일반적 기준\n",
        "# 정상: 0, 미세단백뇨: 1, 단백뇨: 2\n",
        "def div_yo_k(row):\n",
        "    if (row ==1)|(row==2) :\n",
        "        return '정상'\n",
        "    elif (row ==3)|(row==4) :\n",
        "        return '미세단백뇨'\n",
        "    else:\n",
        "        return '단백뇨'\n",
        "\n",
        "df['단백뇨_k']=df['단백뇨'].apply(div_yo_k)"
      ],
      "metadata": {
        "id": "3bPVVtiWPcft"
      },
      "execution_count": 53,
      "outputs": []
    },
    {
      "cell_type": "code",
      "source": [
        "# 심뇌혈관질환을 위한 기준\n",
        "def div_yo(row):\n",
        "    if row <= 3 :\n",
        "        return '0'\n",
        "    elif row==4 :\n",
        "        return '1'\n",
        "    else:\n",
        "        return '2'\n",
        "\n",
        "df['단백뇨']=df['단백뇨'].apply(div_yo)"
      ],
      "metadata": {
        "id": "DqShMg6tPgKm"
      },
      "execution_count": 54,
      "outputs": []
    },
    {
      "cell_type": "markdown",
      "source": [
        "### ALT"
      ],
      "metadata": {
        "id": "mfjvSR5SPkP1"
      }
    },
    {
      "cell_type": "code",
      "source": [
        "cond1 = (df['(혈청지오티)ALT']<=40)\n",
        "cond2 = ((df['(혈청지오티)ALT']>40)&(df['(혈청지오티)ALT']<=200))\n",
        "cond3 = ((df['(혈청지오티)ALT']>200)&(df['(혈청지오티)ALT']<=400))\n",
        "cond4 = (df['(혈청지오티)ALT']>400)\n",
        "\n",
        "df.loc[cond1, 'ALT구분'] = '정상'\n",
        "df.loc[cond2, 'ALT구분'] = '경도'\n",
        "df.loc[cond3, 'ALT구분'] = '중등도'\n",
        "df.loc[cond4, 'ALT구분'] = '중증'"
      ],
      "metadata": {
        "id": "h7aR0XZoPjRP"
      },
      "execution_count": 55,
      "outputs": []
    },
    {
      "cell_type": "markdown",
      "source": [
        "### AST"
      ],
      "metadata": {
        "id": "bHvBdsZhPry_"
      }
    },
    {
      "cell_type": "code",
      "source": [
        "cond1 = (df['(혈청지오티)AST']<=40)\n",
        "cond2 = ((df['(혈청지오티)AST']>40)&(df['(혈청지오티)AST']<=200))\n",
        "cond3 = ((df['(혈청지오티)AST']>200)&(df['(혈청지오티)AST']<=400))\n",
        "cond4 = (df['(혈청지오티)AST']>400)\n",
        "\n",
        "df.loc[cond1, 'AST구분'] = '정상'\n",
        "df.loc[cond2, 'AST구분'] = '경도'\n",
        "df.loc[cond3, 'AST구분'] = '중등도'\n",
        "df.loc[cond4, 'AST구분'] = '중증'"
      ],
      "metadata": {
        "id": "Peb91tBIPwJ_"
      },
      "execution_count": 56,
      "outputs": []
    },
    {
      "cell_type": "markdown",
      "source": [
        "### 감마지티피"
      ],
      "metadata": {
        "id": "3jVSxFyyP7G1"
      }
    },
    {
      "cell_type": "code",
      "source": [
        "cond1 = (df['감마 지티피']<=34)\n",
        "cond2 = (df['감마 지티피']>34)\n",
        "\n",
        "df.loc[cond1, '감마 지티피구분'] = '정상'\n",
        "df.loc[cond2, '감마 지티피구분'] = '비정상'"
      ],
      "metadata": {
        "id": "CoH7Mql9P6oi"
      },
      "execution_count": 59,
      "outputs": []
    },
    {
      "cell_type": "markdown",
      "source": [
        "### AST/ALT 비율"
      ],
      "metadata": {
        "id": "52rtNlf7QQXl"
      }
    },
    {
      "cell_type": "code",
      "source": [
        "df['AST/ALT비율'] = df['(혈청지오티)AST']/df['(혈청지오티)ALT']"
      ],
      "metadata": {
        "id": "3cyHNJ0kQSDA"
      },
      "execution_count": 60,
      "outputs": []
    },
    {
      "cell_type": "markdown",
      "source": [
        "### 감마지티피/ALT비율"
      ],
      "metadata": {
        "id": "hA3J-TKaQVBd"
      }
    },
    {
      "cell_type": "code",
      "source": [
        "df['GTP/ALT비율'] = df['감마 지티피']/df['(혈청지오티)ALT']"
      ],
      "metadata": {
        "id": "2ZuZ5ITVQYDF"
      },
      "execution_count": 62,
      "outputs": []
    },
    {
      "cell_type": "markdown",
      "source": [
        "### 알코올성 간질환 여부"
      ],
      "metadata": {
        "id": "Om8fHLDjQf37"
      }
    },
    {
      "cell_type": "code",
      "source": [
        "# AST/ALT비율 > 1\n",
        "# 감마지티피/ALT > 2.5\n",
        "# AST는 300을 넘지 않음\n",
        "# ALT는 종종 정상\n",
        "# AST/ALT비율이 2~3 이상인 경우 알코올성 간질환을 강하게 시사한다.\n",
        "\n",
        "cond1 = ((df['AST/ALT비율']>1)&(df['GTP/ALT비율']>2.5)&(df['(혈청지오티)AST']<=300))\n",
        "\n",
        "df.loc[cond1, '알코올성간질환여부'] = 'O'\n",
        "df.loc[~cond1, '알코올성간질환여부'] = 'X'"
      ],
      "metadata": {
        "id": "DbVDOkFnQjiK"
      },
      "execution_count": 63,
      "outputs": []
    },
    {
      "cell_type": "markdown",
      "source": [
        "### 기초대사량"
      ],
      "metadata": {
        "id": "R11fR9z4Qqfc"
      }
    },
    {
      "cell_type": "code",
      "source": [
        "df['기초대사량'] = np.where((df['성별'] == 0) == True, 66+(13.8*df['체중'])+(5*df['신장'])-(6.8*df['나이']),\n",
        "                       655+(9.6*df['체중'])+(1.8*df['신장'])-(4.7*df['나이']))"
      ],
      "metadata": {
        "id": "VZib37FLQvhN"
      },
      "execution_count": 64,
      "outputs": []
    },
    {
      "cell_type": "markdown",
      "source": [
        "### 파생변수(기초질환) 완료"
      ],
      "metadata": {
        "id": "_6IqxXdlQz7_"
      }
    },
    {
      "cell_type": "code",
      "source": [
        "df.info()"
      ],
      "metadata": {
        "colab": {
          "base_uri": "https://localhost:8080/"
        },
        "id": "o66O7xCXQ57A",
        "outputId": "6aff70e2-9268-4233-ec97-bcca50fb1fc7"
      },
      "execution_count": 65,
      "outputs": [
        {
          "output_type": "stream",
          "name": "stdout",
          "text": [
            "<class 'pandas.core.frame.DataFrame'>\n",
            "Int64Index: 125511 entries, 6 to 999969\n",
            "Data columns (total 69 columns):\n",
            " #   Column       Non-Null Count   Dtype  \n",
            "---  ------       --------------   -----  \n",
            " 0   가입자 일련번호     125511 non-null  int64  \n",
            " 1   시도코드         125511 non-null  object \n",
            " 2   허리둘레         125511 non-null  float64\n",
            " 3   시력(좌)        125511 non-null  float64\n",
            " 4   시력(우)        125511 non-null  float64\n",
            " 5   청력(좌)        125511 non-null  object \n",
            " 6   청력(우)        125511 non-null  object \n",
            " 7   수축기 혈압       125511 non-null  float64\n",
            " 8   이완기 혈압       125511 non-null  float64\n",
            " 9   식전혈당(공복혈당)   125511 non-null  float64\n",
            " 10  총 콜레스테롤      125511 non-null  float64\n",
            " 11  트리글리세라이드     125511 non-null  float64\n",
            " 12  HDL 콜레스테롤    125511 non-null  float64\n",
            " 13  LDL 콜레스테롤    125511 non-null  float64\n",
            " 14  혈색소          125511 non-null  float64\n",
            " 15  요단백          125511 non-null  object \n",
            " 16  혈청크레아티닌      125511 non-null  float64\n",
            " 17  (혈청지오티)AST   125511 non-null  float64\n",
            " 18  (혈청지오티)ALT   125511 non-null  float64\n",
            " 19  감마 지티피       125511 non-null  float64\n",
            " 20  흡연상태         125511 non-null  object \n",
            " 21  음주여부         125511 non-null  float64\n",
            " 22  치아우식증유무      125511 non-null  float64\n",
            " 23  데이터 공개일자     125511 non-null  object \n",
            " 24  성별           125511 non-null  object \n",
            " 25  연령대          125511 non-null  object \n",
            " 26  구강검진_수검      125511 non-null  object \n",
            " 27  신장           125511 non-null  object \n",
            " 28  체중           125511 non-null  object \n",
            " 29  실명           125511 non-null  object \n",
            " 30  복부비만         125511 non-null  object \n",
            " 31  고지혈증         125511 non-null  object \n",
            " 32  고혈압          125511 non-null  object \n",
            " 33  고혈압_k        125511 non-null  object \n",
            " 34  총콜레스테롤_div   125511 non-null  object \n",
            " 35  공복혈당         125511 non-null  object \n",
            " 36  당뇨           125511 non-null  object \n",
            " 37  당뇨_k         125511 non-null  object \n",
            " 38  당뇨_표적장기손상    125511 non-null  object \n",
            " 39  빈혈           125511 non-null  object \n",
            " 40  빈혈_k         125511 non-null  object \n",
            " 41  whtr         125511 non-null  object \n",
            " 42  whtr_k       125511 non-null  object \n",
            " 43  도시           125511 non-null  object \n",
            " 44  bmi          125511 non-null  float64\n",
            " 45  bmi_div_k    125511 non-null  object \n",
            " 46  bmi_div      125511 non-null  object \n",
            " 47  BMI          125511 non-null  object \n",
            " 48  non-HDL      125511 non-null  float64\n",
            " 49  CRF          125511 non-null  float64\n",
            " 50  대사증후군        125511 non-null  object \n",
            " 51  대사증후군_k      125511 non-null  object \n",
            " 52  혈청크레아티닌_진단   125511 non-null  object \n",
            " 53  나이           125511 non-null  int64  \n",
            " 54  eGFR         125511 non-null  float64\n",
            " 55  GFR          125511 non-null  object \n",
            " 56  eGFR_진단      125511 non-null  object \n",
            " 57  신장질환         125511 non-null  float64\n",
            " 58  risk_factor  125511 non-null  int64  \n",
            " 59  심혈관질환        125511 non-null  object \n",
            " 60  단백뇨          125511 non-null  object \n",
            " 61  단백뇨_k        125511 non-null  object \n",
            " 62  ALT구분        125511 non-null  object \n",
            " 63  AST구분        125511 non-null  object \n",
            " 64  감마 지티피구분     125511 non-null  object \n",
            " 65  AST/ALT비율    125511 non-null  float64\n",
            " 66  GTP/ALT비율    125511 non-null  float64\n",
            " 67  알코올성간질환여부    125511 non-null  object \n",
            " 68  기초대사량        125511 non-null  object \n",
            "dtypes: float64(24), int64(3), object(42)\n",
            "memory usage: 67.0+ MB\n"
          ]
        }
      ]
    },
    {
      "cell_type": "code",
      "source": [
        "df.head()"
      ],
      "metadata": {
        "colab": {
          "base_uri": "https://localhost:8080/",
          "height": 453
        },
        "id": "RifQ-J77Q-0X",
        "outputId": "70305ea0-d548-40eb-863c-86015276eb0e"
      },
      "execution_count": 66,
      "outputs": [
        {
          "output_type": "execute_result",
          "data": {
            "text/plain": [
              "    가입자 일련번호 시도코드  허리둘레  시력(좌)  시력(우) 청력(좌) 청력(우)  수축기 혈압  이완기 혈압  식전혈당(공복혈당)  \\\n",
              "6          7   44  93.0    0.8    0.7     1     2   112.0    73.0       250.0   \n",
              "16        17   30  90.0    0.6    0.6     1     1   138.0    88.0        94.0   \n",
              "21        22   41  65.9    0.7    1.0     1     1   114.0    73.0        94.0   \n",
              "27        28   11  82.0    0.5    0.7     1     1   139.0    85.0       104.0   \n",
              "47        48   26  94.0    1.5    0.6     2     2   110.0    72.0       114.0   \n",
              "\n",
              "    ...  심혈관질환  단백뇨  단백뇨_k  ALT구분  AST구분 감마 지티피구분  AST/ALT비율  GTP/ALT비율  \\\n",
              "6   ...    고위험    0     정상     정상     정상      비정상   0.900000   1.750000   \n",
              "16  ...  중등도위험    0     정상     경도     정상       정상   0.537037   0.444444   \n",
              "21  ...    저위험    0     정상     정상     정상       정상   1.714286   0.857143   \n",
              "27  ...    저위험    0     정상     정상     정상       정상   1.500000   1.318182   \n",
              "47  ...  중등도위험    0     정상     정상     정상      비정상   1.400000   2.150000   \n",
              "\n",
              "    알코올성간질환여부   기초대사량  \n",
              "6           X  1723.0  \n",
              "16          X  1423.0  \n",
              "21          X  1179.0  \n",
              "27          X  1125.0  \n",
              "47          X  1312.0  \n",
              "\n",
              "[5 rows x 69 columns]"
            ],
            "text/html": [
              "\n",
              "  <div id=\"df-6a29deb7-9a1e-486d-bc77-35940967877a\">\n",
              "    <div class=\"colab-df-container\">\n",
              "      <div>\n",
              "<style scoped>\n",
              "    .dataframe tbody tr th:only-of-type {\n",
              "        vertical-align: middle;\n",
              "    }\n",
              "\n",
              "    .dataframe tbody tr th {\n",
              "        vertical-align: top;\n",
              "    }\n",
              "\n",
              "    .dataframe thead th {\n",
              "        text-align: right;\n",
              "    }\n",
              "</style>\n",
              "<table border=\"1\" class=\"dataframe\">\n",
              "  <thead>\n",
              "    <tr style=\"text-align: right;\">\n",
              "      <th></th>\n",
              "      <th>가입자 일련번호</th>\n",
              "      <th>시도코드</th>\n",
              "      <th>허리둘레</th>\n",
              "      <th>시력(좌)</th>\n",
              "      <th>시력(우)</th>\n",
              "      <th>청력(좌)</th>\n",
              "      <th>청력(우)</th>\n",
              "      <th>수축기 혈압</th>\n",
              "      <th>이완기 혈압</th>\n",
              "      <th>식전혈당(공복혈당)</th>\n",
              "      <th>...</th>\n",
              "      <th>심혈관질환</th>\n",
              "      <th>단백뇨</th>\n",
              "      <th>단백뇨_k</th>\n",
              "      <th>ALT구분</th>\n",
              "      <th>AST구분</th>\n",
              "      <th>감마 지티피구분</th>\n",
              "      <th>AST/ALT비율</th>\n",
              "      <th>GTP/ALT비율</th>\n",
              "      <th>알코올성간질환여부</th>\n",
              "      <th>기초대사량</th>\n",
              "    </tr>\n",
              "  </thead>\n",
              "  <tbody>\n",
              "    <tr>\n",
              "      <th>6</th>\n",
              "      <td>7</td>\n",
              "      <td>44</td>\n",
              "      <td>93.0</td>\n",
              "      <td>0.8</td>\n",
              "      <td>0.7</td>\n",
              "      <td>1</td>\n",
              "      <td>2</td>\n",
              "      <td>112.0</td>\n",
              "      <td>73.0</td>\n",
              "      <td>250.0</td>\n",
              "      <td>...</td>\n",
              "      <td>고위험</td>\n",
              "      <td>0</td>\n",
              "      <td>정상</td>\n",
              "      <td>정상</td>\n",
              "      <td>정상</td>\n",
              "      <td>비정상</td>\n",
              "      <td>0.900000</td>\n",
              "      <td>1.750000</td>\n",
              "      <td>X</td>\n",
              "      <td>1723.0</td>\n",
              "    </tr>\n",
              "    <tr>\n",
              "      <th>16</th>\n",
              "      <td>17</td>\n",
              "      <td>30</td>\n",
              "      <td>90.0</td>\n",
              "      <td>0.6</td>\n",
              "      <td>0.6</td>\n",
              "      <td>1</td>\n",
              "      <td>1</td>\n",
              "      <td>138.0</td>\n",
              "      <td>88.0</td>\n",
              "      <td>94.0</td>\n",
              "      <td>...</td>\n",
              "      <td>중등도위험</td>\n",
              "      <td>0</td>\n",
              "      <td>정상</td>\n",
              "      <td>경도</td>\n",
              "      <td>정상</td>\n",
              "      <td>정상</td>\n",
              "      <td>0.537037</td>\n",
              "      <td>0.444444</td>\n",
              "      <td>X</td>\n",
              "      <td>1423.0</td>\n",
              "    </tr>\n",
              "    <tr>\n",
              "      <th>21</th>\n",
              "      <td>22</td>\n",
              "      <td>41</td>\n",
              "      <td>65.9</td>\n",
              "      <td>0.7</td>\n",
              "      <td>1.0</td>\n",
              "      <td>1</td>\n",
              "      <td>1</td>\n",
              "      <td>114.0</td>\n",
              "      <td>73.0</td>\n",
              "      <td>94.0</td>\n",
              "      <td>...</td>\n",
              "      <td>저위험</td>\n",
              "      <td>0</td>\n",
              "      <td>정상</td>\n",
              "      <td>정상</td>\n",
              "      <td>정상</td>\n",
              "      <td>정상</td>\n",
              "      <td>1.714286</td>\n",
              "      <td>0.857143</td>\n",
              "      <td>X</td>\n",
              "      <td>1179.0</td>\n",
              "    </tr>\n",
              "    <tr>\n",
              "      <th>27</th>\n",
              "      <td>28</td>\n",
              "      <td>11</td>\n",
              "      <td>82.0</td>\n",
              "      <td>0.5</td>\n",
              "      <td>0.7</td>\n",
              "      <td>1</td>\n",
              "      <td>1</td>\n",
              "      <td>139.0</td>\n",
              "      <td>85.0</td>\n",
              "      <td>104.0</td>\n",
              "      <td>...</td>\n",
              "      <td>저위험</td>\n",
              "      <td>0</td>\n",
              "      <td>정상</td>\n",
              "      <td>정상</td>\n",
              "      <td>정상</td>\n",
              "      <td>정상</td>\n",
              "      <td>1.500000</td>\n",
              "      <td>1.318182</td>\n",
              "      <td>X</td>\n",
              "      <td>1125.0</td>\n",
              "    </tr>\n",
              "    <tr>\n",
              "      <th>47</th>\n",
              "      <td>48</td>\n",
              "      <td>26</td>\n",
              "      <td>94.0</td>\n",
              "      <td>1.5</td>\n",
              "      <td>0.6</td>\n",
              "      <td>2</td>\n",
              "      <td>2</td>\n",
              "      <td>110.0</td>\n",
              "      <td>72.0</td>\n",
              "      <td>114.0</td>\n",
              "      <td>...</td>\n",
              "      <td>중등도위험</td>\n",
              "      <td>0</td>\n",
              "      <td>정상</td>\n",
              "      <td>정상</td>\n",
              "      <td>정상</td>\n",
              "      <td>비정상</td>\n",
              "      <td>1.400000</td>\n",
              "      <td>2.150000</td>\n",
              "      <td>X</td>\n",
              "      <td>1312.0</td>\n",
              "    </tr>\n",
              "  </tbody>\n",
              "</table>\n",
              "<p>5 rows × 69 columns</p>\n",
              "</div>\n",
              "      <button class=\"colab-df-convert\" onclick=\"convertToInteractive('df-6a29deb7-9a1e-486d-bc77-35940967877a')\"\n",
              "              title=\"Convert this dataframe to an interactive table.\"\n",
              "              style=\"display:none;\">\n",
              "        \n",
              "  <svg xmlns=\"http://www.w3.org/2000/svg\" height=\"24px\"viewBox=\"0 0 24 24\"\n",
              "       width=\"24px\">\n",
              "    <path d=\"M0 0h24v24H0V0z\" fill=\"none\"/>\n",
              "    <path d=\"M18.56 5.44l.94 2.06.94-2.06 2.06-.94-2.06-.94-.94-2.06-.94 2.06-2.06.94zm-11 1L8.5 8.5l.94-2.06 2.06-.94-2.06-.94L8.5 2.5l-.94 2.06-2.06.94zm10 10l.94 2.06.94-2.06 2.06-.94-2.06-.94-.94-2.06-.94 2.06-2.06.94z\"/><path d=\"M17.41 7.96l-1.37-1.37c-.4-.4-.92-.59-1.43-.59-.52 0-1.04.2-1.43.59L10.3 9.45l-7.72 7.72c-.78.78-.78 2.05 0 2.83L4 21.41c.39.39.9.59 1.41.59.51 0 1.02-.2 1.41-.59l7.78-7.78 2.81-2.81c.8-.78.8-2.07 0-2.86zM5.41 20L4 18.59l7.72-7.72 1.47 1.35L5.41 20z\"/>\n",
              "  </svg>\n",
              "      </button>\n",
              "      \n",
              "  <style>\n",
              "    .colab-df-container {\n",
              "      display:flex;\n",
              "      flex-wrap:wrap;\n",
              "      gap: 12px;\n",
              "    }\n",
              "\n",
              "    .colab-df-convert {\n",
              "      background-color: #E8F0FE;\n",
              "      border: none;\n",
              "      border-radius: 50%;\n",
              "      cursor: pointer;\n",
              "      display: none;\n",
              "      fill: #1967D2;\n",
              "      height: 32px;\n",
              "      padding: 0 0 0 0;\n",
              "      width: 32px;\n",
              "    }\n",
              "\n",
              "    .colab-df-convert:hover {\n",
              "      background-color: #E2EBFA;\n",
              "      box-shadow: 0px 1px 2px rgba(60, 64, 67, 0.3), 0px 1px 3px 1px rgba(60, 64, 67, 0.15);\n",
              "      fill: #174EA6;\n",
              "    }\n",
              "\n",
              "    [theme=dark] .colab-df-convert {\n",
              "      background-color: #3B4455;\n",
              "      fill: #D2E3FC;\n",
              "    }\n",
              "\n",
              "    [theme=dark] .colab-df-convert:hover {\n",
              "      background-color: #434B5C;\n",
              "      box-shadow: 0px 1px 3px 1px rgba(0, 0, 0, 0.15);\n",
              "      filter: drop-shadow(0px 1px 2px rgba(0, 0, 0, 0.3));\n",
              "      fill: #FFFFFF;\n",
              "    }\n",
              "  </style>\n",
              "\n",
              "      <script>\n",
              "        const buttonEl =\n",
              "          document.querySelector('#df-6a29deb7-9a1e-486d-bc77-35940967877a button.colab-df-convert');\n",
              "        buttonEl.style.display =\n",
              "          google.colab.kernel.accessAllowed ? 'block' : 'none';\n",
              "\n",
              "        async function convertToInteractive(key) {\n",
              "          const element = document.querySelector('#df-6a29deb7-9a1e-486d-bc77-35940967877a');\n",
              "          const dataTable =\n",
              "            await google.colab.kernel.invokeFunction('convertToInteractive',\n",
              "                                                     [key], {});\n",
              "          if (!dataTable) return;\n",
              "\n",
              "          const docLinkHtml = 'Like what you see? Visit the ' +\n",
              "            '<a target=\"_blank\" href=https://colab.research.google.com/notebooks/data_table.ipynb>data table notebook</a>'\n",
              "            + ' to learn more about interactive tables.';\n",
              "          element.innerHTML = '';\n",
              "          dataTable['output_type'] = 'display_data';\n",
              "          await google.colab.output.renderOutput(dataTable, element);\n",
              "          const docLink = document.createElement('div');\n",
              "          docLink.innerHTML = docLinkHtml;\n",
              "          element.appendChild(docLink);\n",
              "        }\n",
              "      </script>\n",
              "    </div>\n",
              "  </div>\n",
              "  "
            ]
          },
          "metadata": {},
          "execution_count": 66
        }
      ]
    },
    {
      "cell_type": "markdown",
      "source": [
        "## 2. 파생변수(HRA)"
      ],
      "metadata": {
        "id": "asvvuxZvRMYW"
      }
    },
    {
      "cell_type": "code",
      "source": [
        "# 위험도_허리둘레\n",
        "# 복합상대위험도\n",
        "# 평균절대위험도\n",
        "# 조정복합상대위험도\n",
        "# 절대위험도\n",
        "# 심뇌혈관나이\n",
        "# 교정복합상대위험도\n",
        "# 교정절대위험도\n",
        "# 교정심뇌혈관나이"
      ],
      "metadata": {
        "id": "KmF9S7KqRH5d"
      },
      "execution_count": 67,
      "outputs": []
    },
    {
      "cell_type": "markdown",
      "source": [
        "### 위험도 허리둘레"
      ],
      "metadata": {
        "id": "4pFbO-CgRZRW"
      }
    },
    {
      "cell_type": "code",
      "source": [
        "def wr(row):\n",
        "    if row['성별']==0 and row['허리둘레'] < 90:\n",
        "        return 0\n",
        "    elif row['성별']==1 and row['허리둘레'] < 85:\n",
        "        return 0\n",
        "    elif row['성별']==0 and row['허리둘레']>=90:\n",
        "        return 1\n",
        "    elif row['성별']==1 and row['허리둘레']>=85:\n",
        "        return 1\n",
        "\n",
        "df['위험도_허리둘레']=df[['성별','허리둘레']].apply(wr, axis=1)"
      ],
      "metadata": {
        "id": "IkR_O9UcRUTp"
      },
      "execution_count": 68,
      "outputs": []
    },
    {
      "cell_type": "markdown",
      "source": [
        "### 복합상대위험도"
      ],
      "metadata": {
        "id": "mtfDOFUgRXPR"
      }
    },
    {
      "cell_type": "code",
      "source": [
        "def man_risk(row):\n",
        "    risk1, risk2, risk3, risk4, risk5, risk6, risk7, risk8, risk9 = 0, 0, 0, 0, 0, 0, 0, 0, 0\n",
        "    if row['성별']==0:\n",
        "        if row['bmi']<25:\n",
        "            risk1 = 1.00\n",
        "        elif row['bmi']< 26.5:\n",
        "            risk1 = 1.04\n",
        "        elif row['bmi']< 28:\n",
        "            risk1 = 1.15\n",
        "        elif row['bmi']< 30:\n",
        "            risk1 = 1.36\n",
        "        elif row['bmi']>= 30:\n",
        "            risk1 = 1.58\n",
        "        if row['허리둘레']<90:\n",
        "            risk2 = 1.00\n",
        "        elif row['허리둘레']>=90:\n",
        "            risk2 = 1.44\n",
        "        if row['흡연상태']==1:\n",
        "            risk3 = 1.00\n",
        "        elif row['흡연상태']==2:\n",
        "            risk3 = 1.30\n",
        "        elif row['흡연상태']==3:\n",
        "            risk3 = 1.60\n",
        "        if row['고혈압']==0:\n",
        "            risk4 = 1.00\n",
        "        elif row['고혈압']==1:\n",
        "            risk4 = 1.25\n",
        "        elif row['고혈압']==2:\n",
        "            risk4 = 1.78\n",
        "        elif row['고혈압']==3:\n",
        "            risk4 = 2.71\n",
        "        if row['식전혈당(공복혈당)']<100:\n",
        "            risk5 = 1.00\n",
        "        elif row['식전혈당(공복혈당)']<110:\n",
        "            risk5 = 1.04\n",
        "        elif row['식전혈당(공복혈당)']<126:\n",
        "            risk5 = 1.12\n",
        "        elif row['식전혈당(공복혈당)']<140:\n",
        "            risk5 = 1.27\n",
        "        elif row['식전혈당(공복혈당)']>=140:\n",
        "            risk5 = 1.75\n",
        "        if row['총 콜레스테롤']<200:\n",
        "            risk6 = 1.00\n",
        "        elif row['총 콜레스테롤']<240:\n",
        "            risk6 = 1.15\n",
        "        elif row['총 콜레스테롤']>=240:\n",
        "            risk6 = 1.37\n",
        "        if row['eGFR']>=60:\n",
        "            risk7 = 1.00\n",
        "        elif row['eGFR']>= 45:\n",
        "            risk7 = 1.34\n",
        "        elif row['eGFR']< 45:\n",
        "            risk7 = 2.09\n",
        "        if row['단백뇨']==0:\n",
        "            risk8 = 1.00\n",
        "        elif row['단백뇨']==1:\n",
        "            risk8 = 1.69\n",
        "        elif row['단백뇨']==2:\n",
        "            risk8 = 2.43\n",
        "        risk9 = risk7 if risk7 > risk8 else risk8\n",
        "        comp_risk = 1.00 + (risk1-1.00 if risk1>1.00 else 0) +(risk2-1.00 if risk2>1.00 else 0) + (risk3-1.00 if risk3>1.00 else 0) + (risk4-1.00 if risk4>1.00 else 0)\\\n",
        "        + (risk5-1.00 if risk5>1.00 else 0) + (risk6-1.00 if risk6>1.00 else 0) + (risk9-1.00 if risk9>1.00 else 0) # 복합 상대위험도\n",
        "        return comp_risk\n",
        "\n",
        "    elif row['성별']==1:\n",
        "        if row['bmi']<25:\n",
        "            risk1 = 1.00\n",
        "        elif row['bmi']< 26.5:\n",
        "            risk1 = 1.02\n",
        "        elif row['bmi']< 28:\n",
        "            risk1 = 1.03\n",
        "        elif row['bmi']< 30:\n",
        "            risk1 = 1.15\n",
        "        elif row['bmi']>= 30:\n",
        "            risk1 = 1.33\n",
        "        if row['허리둘레']<85:\n",
        "            risk2 = 1.00\n",
        "        elif row['허리둘레']>=85:\n",
        "            risk2 = 1.52\n",
        "        if row['흡연상태']==1:\n",
        "            risk3 = 1.00\n",
        "        elif row['흡연상태']==2:\n",
        "            risk3 = 1.20\n",
        "        elif row['흡연상태']==3:\n",
        "            risk3 = 1.60\n",
        "        if row['고혈압']==0:\n",
        "            risk4 = 1.00\n",
        "        elif row['고혈압']==1:\n",
        "            risk4 = 1.43\n",
        "        elif row['고혈압']==2:\n",
        "            risk4 = 2.06\n",
        "        elif row['고혈압']==3:\n",
        "            risk4 = 3.20\n",
        "        if row['식전혈당(공복혈당)']<100:\n",
        "            risk5 = 1.00\n",
        "        elif row['식전혈당(공복혈당)']<110:\n",
        "            risk5 = 1.03\n",
        "        elif row['식전혈당(공복혈당)']<126:\n",
        "            risk5 = 1.14\n",
        "        elif row['식전혈당(공복혈당)']<140:\n",
        "            risk5 = 1.31\n",
        "        elif row['식전혈당(공복혈당)']>=140:\n",
        "            risk5 = 1.80\n",
        "        if row['총 콜레스테롤']<200:\n",
        "            risk6 = 1.00\n",
        "        elif row['총 콜레스테롤']<240:\n",
        "            risk6 = 1.07\n",
        "        elif row['총 콜레스테롤']>=240:\n",
        "            risk6 = 1.20\n",
        "        if row['eGFR']>=60:\n",
        "            risk7 = 1.00\n",
        "        elif row['eGFR']>= 45:\n",
        "            risk7 = 1.34\n",
        "        elif row['eGFR']< 45:\n",
        "            risk7 = 2.09\n",
        "        if row['단백뇨']==0:\n",
        "            risk8 = 1.00\n",
        "        elif row['단백뇨']==1:\n",
        "            risk8 = 1.69\n",
        "        elif row['단백뇨']==2:\n",
        "            risk8 = 2.43\n",
        "        risk9 = risk7 if risk7 > risk8 else risk8\n",
        "        comp_risk = 1.00 + (risk1-1.00 if risk1>1.00 else 0) +(risk2-1.00 if risk2>1.00 else 0) + (risk3-1.00 if risk3>1.00 else 0) + (risk4-1.00 if risk4>1.00 else 0)\\\n",
        "        + (risk5-1.00 if risk5>1.00 else 0) + (risk6-1.00 if risk6>1.00 else 0) + (risk9-1.00 if risk9>1.00 else 0) # 복합 상대위험도\n",
        "        return comp_risk\n",
        "\n",
        "df['복합상대위험도']=df[['성별', 'bmi', '허리둘레', '흡연상태', '고혈압', '식전혈당(공복혈당)', '총 콜레스테롤', 'eGFR', '단백뇨']].apply(man_risk, axis=1)"
      ],
      "metadata": {
        "id": "otzTQMMdRl3f"
      },
      "execution_count": 72,
      "outputs": []
    },
    {
      "cell_type": "markdown",
      "source": [
        "### 평균절대위험도"
      ],
      "metadata": {
        "id": "GXyUovt4RvmT"
      }
    },
    {
      "cell_type": "code",
      "source": [
        "man_mean_ab_risk={\n",
        "    20:99, 21:138, 22:178, 23:217, 24:256, 25:295,\n",
        "    26:334, 27:374, 28:449, 29:524, 30:600, 31:675,\n",
        "    32:751, 33:873, 34:995, 35:1117, 36:1239, 37:1362,\n",
        "    38:1557, 39:1752, 40:1947, 41:2142, 42:2337, 43:2591,\n",
        "    44:2846, 45:3101, 46:3356, 47:3611, 48:3920, 49:4229,\n",
        "    50:4539, 51:4848, 52:5158, 53:5573, 54:5988, 55:6403,\n",
        "    56:6818, 57:7234, 58:7928, 59:8622, 60:9316, 61:10010,\n",
        "    62:10705, 63:11462, 64:12219, 65:12976, 66:13733, 67:14491,\n",
        "    68:15205, 69:15919, 70:16633, 71:17347, 72:18062, 73:18380,\n",
        "    74:18698, 75:19017, 76:19335, 77:19654, 78:19972, 79:20290,\n",
        "    80:20609, 81:20927, 82:21246, 83:21564, 84:21882, 85:22201, 86:22201, 87:22201\n",
        "}"
      ],
      "metadata": {
        "id": "q5_3aBC1SIad"
      },
      "execution_count": 73,
      "outputs": []
    },
    {
      "cell_type": "code",
      "source": [
        "woman_mean_ab_risk={\n",
        "    20:92, 21: 103, 22:115, 23:126, 24:137, 25:149,\n",
        "    26:160, 27:172, 28:211, 29:250, 30:289, 31:328,\n",
        "    32:368, 33:402, 34:437, 35:472, 36:507, 37:542,\n",
        "    38:646, 39:750, 40:854, 41:958, 42:1062, 43:1143,\n",
        "    44:1225, 45:1307, 46:1389, 47:1471, 48:1698, 49:1926,\n",
        "    50:2154, 51:2382, 52:2610, 53:2905, 54:3201, 55:3496,\n",
        "    56:3792, 57:4088, 58:4720, 59:5353, 60:5986, 61:6619,\n",
        "    62:7252, 63:8001, 64:8750, 65:9499, 66:10248, 67:10997,\n",
        "    68:11975, 69:12953, 70:13931, 71:14909, 72:15887, 73:16307,\n",
        "    74:16728, 75:17148, 76:17569, 77:17990, 78:18410, 79:18831,\n",
        "    80:19251, 81:19672, 82:20093, 83:20513, 84:20934, 85:21354, 86:21354, 87:21354\n",
        "}"
      ],
      "metadata": {
        "id": "MWE313rJSNu-"
      },
      "execution_count": 74,
      "outputs": []
    },
    {
      "cell_type": "code",
      "source": [
        "def func_2(row, age):\n",
        "    return age[row]\n",
        "df['평균절대위험도']=np.where(df['성별']==0, df['나이'].apply(func_2, args = (man_mean_ab_risk,)), df['나이'].apply(func_2, args=(woman_mean_ab_risk,)))"
      ],
      "metadata": {
        "id": "bwTUiqCQSRHY"
      },
      "execution_count": 75,
      "outputs": []
    },
    {
      "cell_type": "markdown",
      "source": [
        "### 조정복합상대위험도"
      ],
      "metadata": {
        "id": "dOszcLgQSXNU"
      }
    },
    {
      "cell_type": "code",
      "source": [
        "man_co_risk={\n",
        "    20:1.83, 21:1.83, 22:1.83, 23:1.83, 24:1.83, 25:1.91,\n",
        "    26:1.91, 27:1.91, 28:1.91, 29:1.91, 30:2.02, 31:2.02,\n",
        "    32:2.02, 33:2.02, 34:2.02, 35:2.08, 36:2.08, 37:2.08,\n",
        "    38:2.08, 39:2.08, 40:2.11, 41:2.11, 42:2.11, 43:2.11,\n",
        "    44:2.11, 45:2.14, 46:2.14, 47:2.14, 48:2.14, 49:2.14,\n",
        "    50:2.19, 51:2.19, 52:2.19, 53:2.19, 54:2.19, 55:2.23,\n",
        "    56:2.23, 57:2.23, 58:2.23, 59:2.23, 60:2.25, 61:2.25,\n",
        "    62:2.25, 63:2.25, 64:2.25, 65:2.28, 66:2.28, 67:2.28,\n",
        "    68:2.28, 69:2.28, 70:2.25, 71:2.25, 72:2.25, 73:2.25,\n",
        "    74:2.25, 75:2.24, 76:2.24, 77:2.24, 78:2.24, 79:2.24,\n",
        "    80:2.24, 81:2.24, 82:2.24, 83:2.24, 84:2.24, 85:2.24, 86:2.24, 87:2.24\n",
        "}"
      ],
      "metadata": {
        "id": "tJfqNFPTSZ-p"
      },
      "execution_count": 76,
      "outputs": []
    },
    {
      "cell_type": "code",
      "source": [
        "woman_co_risk={\n",
        "    20:1.43, 21: 1.43, 22:1.43, 23:1.43, 24:1.43, 25:1.40,\n",
        "    26:1.40, 27:1.40, 28:1.40, 29:1.40, 30:1.44, 31:1.44,\n",
        "    32:1.44, 33:1.44, 34:1.44, 35:1.47, 36:1.47, 37:1.47,\n",
        "    38:1.47, 39:1.47, 40:1.54, 41:1.54, 42:1.54, 43:1.54,\n",
        "    44:1.54, 45:1.64, 46:1.64, 47:1.64, 48:1.64, 49:1.64,\n",
        "    50:1.78, 51:1.78, 52:1.78, 53:1.78, 54:1.78, 55:1.92,\n",
        "    56:1.92, 57:1.92, 58:1.92, 59:1.92, 60:2.08, 61:2.08,\n",
        "    62:2.08, 63:2.08, 64:2.08, 65:2.22, 66:2.22, 67:2.22,\n",
        "    68:2.22, 69:2.22, 70:2.32, 71:2.32, 72:2.32, 73:2.32,\n",
        "    74:2.32, 75:2.40, 76:2.40, 77:2.40, 78:2.40, 79:2.40,\n",
        "    80:2.40, 81:2.40, 82:2.40, 83:2.40, 84:2.40, 85:2.40, 86:2.40, 87:2.40\n",
        "}"
      ],
      "metadata": {
        "id": "4ejg66g1Sdcj"
      },
      "execution_count": 77,
      "outputs": []
    },
    {
      "cell_type": "code",
      "source": [
        "# 현재 나이 (남성/여성) 평균대비 심 뇌혈관질환 발생 위험 ex) 45세 남성 평균 대비 발생위험\n",
        "\n",
        "df['조정복합상대위험도']=np.where(df['성별']==0, df['복합상대위험도']/df['나이'].apply(func_2, args = (man_co_risk,)), df['복합상대위험도']/df['나이'].apply(func_2, args=(woman_co_risk,)))\n",
        "df['조정복합상대위험도'] = df['조정복합상대위험도'].round(3)"
      ],
      "metadata": {
        "id": "qfTNufhbShAE"
      },
      "execution_count": 78,
      "outputs": []
    },
    {
      "cell_type": "markdown",
      "source": [
        "### 절대위험도"
      ],
      "metadata": {
        "id": "YAPE0qcOSida"
      }
    },
    {
      "cell_type": "code",
      "source": [
        "# 향후 10년 이내에 심뇌혈관질환이 발생할 확률 (인구 10만명 당)\n",
        "df['절대위험도']=df['조정복합상대위험도']*df['평균절대위험도']"
      ],
      "metadata": {
        "id": "2lpkpRywSwFJ"
      },
      "execution_count": 79,
      "outputs": []
    },
    {
      "cell_type": "markdown",
      "source": [
        "### 심뇌혈관나이"
      ],
      "metadata": {
        "id": "HR_uwbsJS0Om"
      }
    },
    {
      "cell_type": "code",
      "source": [
        "def find_age(row, age):\n",
        "    l = []\n",
        "    for i in range(len(age)):\n",
        "        a = list(age.values())\n",
        "        l.append(abs(a[i]-row))\n",
        "        i = l.index(min(l))\n",
        "    res = list(age.keys())[i]\n",
        "    return res\n",
        "\n",
        "df['심뇌혈관나이']=np.where(df['성별']==0, df['절대위험도'].apply(find_age, args = (man_mean_ab_risk,)), df['절대위험도'].apply(find_age, args=(woman_mean_ab_risk,)))"
      ],
      "metadata": {
        "id": "X68mk1Z_S3rr"
      },
      "execution_count": 80,
      "outputs": []
    },
    {
      "cell_type": "markdown",
      "source": [
        "### 교정복합상대위험도"
      ],
      "metadata": {
        "id": "3OrZgx9FS8O6"
      }
    },
    {
      "cell_type": "code",
      "source": [
        "def change_risk(row):\n",
        "    risk1, risk2, risk3, risk4, risk5, risk6, risk7, risk8, risk9 = 0, 0, 0, 0, 0, 0, 0, 0, 0\n",
        "    if row['성별']==0:\n",
        "        risk1 = 1.00\n",
        "        risk2 = 1.00\n",
        "\n",
        "        if row['흡연상태']==1:\n",
        "            risk3 = 1.00\n",
        "        elif row['흡연상태']==2:\n",
        "            risk3 = 1.30\n",
        "        elif row['흡연상태']==3:\n",
        "            risk3 = 1.30\n",
        "\n",
        "        risk4 = 1.00\n",
        "        risk5 = 1.00\n",
        "        risk6 = 1.00\n",
        "\n",
        "        if row['eGFR']>=60:\n",
        "            risk7 = 1.00\n",
        "        elif row['eGFR']>= 45:\n",
        "            risk7 = 1.34\n",
        "        elif row['eGFR']< 45:\n",
        "            risk7 = 2.09\n",
        "\n",
        "        if row['단백뇨']==0:\n",
        "            risk8 = 1.00\n",
        "        elif row['단백뇨']==1:\n",
        "            risk8 = 1.69\n",
        "        elif row['단백뇨']==2:\n",
        "            risk8 = 2.43\n",
        "\n",
        "        risk9 = risk7 if risk7 > risk8 else risk8\n",
        "\n",
        "        comp_risk = 1.00 + (risk1-1.00 if risk1>1.00 else 0) +(risk2-1.00 if risk2>1.00 else 0) + (risk3-1.00 if risk3>1.00 else 0) + (risk4-1.00 if risk4>1.00 else 0)\\\n",
        "        + (risk5-1.00 if risk5>1.00 else 0) + (risk6-1.00 if risk6>1.00 else 0) + (risk9-1.00 if risk9>1.00 else 0) # 복합 상대위험도\n",
        "        return comp_risk\n",
        "\n",
        "    elif row['성별']==1:\n",
        "        risk1 = 1.00\n",
        "        risk2 = 1.00\n",
        "\n",
        "        if row['흡연상태']==1:\n",
        "            risk3 = 1.00\n",
        "        elif row['흡연상태']==2:\n",
        "            risk3 = 1.20\n",
        "        elif row['흡연상태']==3:\n",
        "            risk3 = 1.20\n",
        "\n",
        "        risk4 = 1.00\n",
        "        risk5 = 1.00\n",
        "        risk6 = 1.00\n",
        "\n",
        "        if row['eGFR']>=60:\n",
        "            risk7 = 1.00\n",
        "        elif row['eGFR']>= 45:\n",
        "            risk7 = 1.34\n",
        "        elif row['eGFR']< 45:\n",
        "            risk7 = 2.09\n",
        "\n",
        "        if row['단백뇨']==0:\n",
        "            risk8 = 1.00\n",
        "        elif row['단백뇨']==1:\n",
        "            risk8 = 1.69\n",
        "        elif row['단백뇨']==2:\n",
        "            risk8 = 2.43\n",
        "\n",
        "        risk9 = risk7 if risk7 > risk8 else risk8\n",
        "\n",
        "        comp_risk = 1.00 + (risk1-1.00 if risk1>1.00 else 0) +(risk2-1.00 if risk2>1.00 else 0) + (risk3-1.00 if risk3>1.00 else 0) + (risk4-1.00 if risk4>1.00 else 0)\\\n",
        "        + (risk5-1.00 if risk5>1.00 else 0) + (risk6-1.00 if risk6>1.00 else 0) + (risk9-1.00 if risk9>1.00 else 0) # 교정 복합 상대위험도\n",
        "        return comp_risk\n",
        "\n",
        "df['교정복합상대위험도']=df[['성별', '흡연상태', 'eGFR', '단백뇨']].apply(change_risk, axis=1)"
      ],
      "metadata": {
        "id": "mnNX2t4FTAAJ"
      },
      "execution_count": 81,
      "outputs": []
    },
    {
      "cell_type": "markdown",
      "source": [
        "### 교정절대위험도"
      ],
      "metadata": {
        "id": "FANq1olQTNy7"
      }
    },
    {
      "cell_type": "code",
      "source": [
        "# 현재 나이 (남성/여성) 평균대비 심 뇌혈관질환 발생 위험 ex) 45세 남성 평균 대비 발생위험\n",
        "\n",
        "df['교정절대위험도']=np.where(df['성별']==0, df['교정복합상대위험도']/df['나이'].apply(func_2, args = (man_co_risk,))*df['평균절대위험도'], df['교정복합상대위험도']/df['나이'].apply(func_2, args=(woman_co_risk,))*df['평균절대위험도'])\n",
        "df['교정절대위험도'] = df['교정절대위험도'].round(3)"
      ],
      "metadata": {
        "id": "oASMSURnTSgb"
      },
      "execution_count": 82,
      "outputs": []
    },
    {
      "cell_type": "markdown",
      "source": [
        "### 교정심뇌혈관나이"
      ],
      "metadata": {
        "id": "fVNk8aTpTWFC"
      }
    },
    {
      "cell_type": "code",
      "source": [
        "df['교정심뇌혈관나이']=np.where(df['성별']==0, df['교정절대위험도'].apply(find_age, args = (man_mean_ab_risk,)), df['교정절대위험도'].apply(find_age, args=(woman_mean_ab_risk,)))"
      ],
      "metadata": {
        "id": "OujbCGhfTaa8"
      },
      "execution_count": 83,
      "outputs": []
    },
    {
      "cell_type": "markdown",
      "source": [
        "### 파생변수(HRA) 완료"
      ],
      "metadata": {
        "id": "p_lDr0OpTh8y"
      }
    },
    {
      "cell_type": "code",
      "source": [
        "df.info()"
      ],
      "metadata": {
        "colab": {
          "base_uri": "https://localhost:8080/"
        },
        "id": "9HdmQVWUTVkp",
        "outputId": "411408ef-37f5-441c-9355-1a0e98f8bac2"
      },
      "execution_count": 84,
      "outputs": [
        {
          "output_type": "stream",
          "name": "stdout",
          "text": [
            "<class 'pandas.core.frame.DataFrame'>\n",
            "Int64Index: 125511 entries, 6 to 999969\n",
            "Data columns (total 78 columns):\n",
            " #   Column       Non-Null Count   Dtype  \n",
            "---  ------       --------------   -----  \n",
            " 0   가입자 일련번호     125511 non-null  int64  \n",
            " 1   시도코드         125511 non-null  object \n",
            " 2   허리둘레         125511 non-null  float64\n",
            " 3   시력(좌)        125511 non-null  float64\n",
            " 4   시력(우)        125511 non-null  float64\n",
            " 5   청력(좌)        125511 non-null  object \n",
            " 6   청력(우)        125511 non-null  object \n",
            " 7   수축기 혈압       125511 non-null  float64\n",
            " 8   이완기 혈압       125511 non-null  float64\n",
            " 9   식전혈당(공복혈당)   125511 non-null  float64\n",
            " 10  총 콜레스테롤      125511 non-null  float64\n",
            " 11  트리글리세라이드     125511 non-null  float64\n",
            " 12  HDL 콜레스테롤    125511 non-null  float64\n",
            " 13  LDL 콜레스테롤    125511 non-null  float64\n",
            " 14  혈색소          125511 non-null  float64\n",
            " 15  요단백          125511 non-null  object \n",
            " 16  혈청크레아티닌      125511 non-null  float64\n",
            " 17  (혈청지오티)AST   125511 non-null  float64\n",
            " 18  (혈청지오티)ALT   125511 non-null  float64\n",
            " 19  감마 지티피       125511 non-null  float64\n",
            " 20  흡연상태         125511 non-null  object \n",
            " 21  음주여부         125511 non-null  float64\n",
            " 22  치아우식증유무      125511 non-null  float64\n",
            " 23  데이터 공개일자     125511 non-null  object \n",
            " 24  성별           125511 non-null  object \n",
            " 25  연령대          125511 non-null  object \n",
            " 26  구강검진_수검      125511 non-null  object \n",
            " 27  신장           125511 non-null  object \n",
            " 28  체중           125511 non-null  object \n",
            " 29  실명           125511 non-null  object \n",
            " 30  복부비만         125511 non-null  object \n",
            " 31  고지혈증         125511 non-null  object \n",
            " 32  고혈압          125511 non-null  object \n",
            " 33  고혈압_k        125511 non-null  object \n",
            " 34  총콜레스테롤_div   125511 non-null  object \n",
            " 35  공복혈당         125511 non-null  object \n",
            " 36  당뇨           125511 non-null  object \n",
            " 37  당뇨_k         125511 non-null  object \n",
            " 38  당뇨_표적장기손상    125511 non-null  object \n",
            " 39  빈혈           125511 non-null  object \n",
            " 40  빈혈_k         125511 non-null  object \n",
            " 41  whtr         125511 non-null  object \n",
            " 42  whtr_k       125511 non-null  object \n",
            " 43  도시           125511 non-null  object \n",
            " 44  bmi          125511 non-null  float64\n",
            " 45  bmi_div_k    125511 non-null  object \n",
            " 46  bmi_div      125511 non-null  object \n",
            " 47  BMI          125511 non-null  object \n",
            " 48  non-HDL      125511 non-null  float64\n",
            " 49  CRF          125511 non-null  float64\n",
            " 50  대사증후군        125511 non-null  object \n",
            " 51  대사증후군_k      125511 non-null  object \n",
            " 52  혈청크레아티닌_진단   125511 non-null  object \n",
            " 53  나이           125511 non-null  int64  \n",
            " 54  eGFR         125511 non-null  float64\n",
            " 55  GFR          125511 non-null  object \n",
            " 56  eGFR_진단      125511 non-null  object \n",
            " 57  신장질환         125511 non-null  float64\n",
            " 58  risk_factor  125511 non-null  int64  \n",
            " 59  심혈관질환        125511 non-null  object \n",
            " 60  단백뇨          125511 non-null  object \n",
            " 61  단백뇨_k        125511 non-null  object \n",
            " 62  ALT구분        125511 non-null  object \n",
            " 63  AST구분        125511 non-null  object \n",
            " 64  감마 지티피구분     125511 non-null  object \n",
            " 65  AST/ALT비율    125511 non-null  float64\n",
            " 66  GTP/ALT비율    125511 non-null  float64\n",
            " 67  알코올성간질환여부    125511 non-null  object \n",
            " 68  기초대사량        125511 non-null  object \n",
            " 69  위험도_허리둘레     125511 non-null  int64  \n",
            " 70  복합상대위험도      125511 non-null  float64\n",
            " 71  평균절대위험도      125511 non-null  int64  \n",
            " 72  조정복합상대위험도    125511 non-null  float64\n",
            " 73  절대위험도        125511 non-null  float64\n",
            " 74  심뇌혈관나이       125511 non-null  int64  \n",
            " 75  교정복합상대위험도    125511 non-null  float64\n",
            " 76  교정절대위험도      125511 non-null  float64\n",
            " 77  교정심뇌혈관나이     125511 non-null  int64  \n",
            "dtypes: float64(29), int64(7), object(42)\n",
            "memory usage: 75.6+ MB\n"
          ]
        }
      ]
    },
    {
      "cell_type": "code",
      "source": [
        "df.head()"
      ],
      "metadata": {
        "colab": {
          "base_uri": "https://localhost:8080/",
          "height": 332
        },
        "id": "oKU-K-UgT0fc",
        "outputId": "225145d6-dab1-4936-ea9c-b0af4ff59c24"
      },
      "execution_count": 85,
      "outputs": [
        {
          "output_type": "execute_result",
          "data": {
            "text/plain": [
              "    가입자 일련번호 시도코드  허리둘레  시력(좌)  시력(우) 청력(좌) 청력(우)  수축기 혈압  이완기 혈압  식전혈당(공복혈당)  \\\n",
              "6          7   44  93.0    0.8    0.7     1     2   112.0    73.0       250.0   \n",
              "16        17   30  90.0    0.6    0.6     1     1   138.0    88.0        94.0   \n",
              "21        22   41  65.9    0.7    1.0     1     1   114.0    73.0        94.0   \n",
              "27        28   11  82.0    0.5    0.7     1     1   139.0    85.0       104.0   \n",
              "47        48   26  94.0    1.5    0.6     2     2   110.0    72.0       114.0   \n",
              "\n",
              "    ...   기초대사량  위험도_허리둘레  복합상대위험도  평균절대위험도  조정복합상대위험도      절대위험도  심뇌혈관나이  \\\n",
              "6   ...  1723.0         1     3.15     1947      1.493   2906.871      44   \n",
              "16  ...  1423.0         1     1.88     4539      0.858   3894.462      48   \n",
              "21  ...  1179.0         0     1.20     2154      0.674   1451.796      47   \n",
              "27  ...  1125.0         0     1.67    20609      0.746  15374.314      68   \n",
              "47  ...  1312.0         1     1.56    16633      0.693  11526.669      63   \n",
              "\n",
              "    교정복합상대위험도    교정절대위험도  교정심뇌혈관나이  \n",
              "6        1.30   1199.573        36  \n",
              "16       1.00   2072.603        41  \n",
              "21       1.00   1210.112        44  \n",
              "27       1.34  12328.598        64  \n",
              "47       1.00   7392.444        57  \n",
              "\n",
              "[5 rows x 78 columns]"
            ],
            "text/html": [
              "\n",
              "  <div id=\"df-b11e7095-7f6b-4d71-83b6-78f38062973f\">\n",
              "    <div class=\"colab-df-container\">\n",
              "      <div>\n",
              "<style scoped>\n",
              "    .dataframe tbody tr th:only-of-type {\n",
              "        vertical-align: middle;\n",
              "    }\n",
              "\n",
              "    .dataframe tbody tr th {\n",
              "        vertical-align: top;\n",
              "    }\n",
              "\n",
              "    .dataframe thead th {\n",
              "        text-align: right;\n",
              "    }\n",
              "</style>\n",
              "<table border=\"1\" class=\"dataframe\">\n",
              "  <thead>\n",
              "    <tr style=\"text-align: right;\">\n",
              "      <th></th>\n",
              "      <th>가입자 일련번호</th>\n",
              "      <th>시도코드</th>\n",
              "      <th>허리둘레</th>\n",
              "      <th>시력(좌)</th>\n",
              "      <th>시력(우)</th>\n",
              "      <th>청력(좌)</th>\n",
              "      <th>청력(우)</th>\n",
              "      <th>수축기 혈압</th>\n",
              "      <th>이완기 혈압</th>\n",
              "      <th>식전혈당(공복혈당)</th>\n",
              "      <th>...</th>\n",
              "      <th>기초대사량</th>\n",
              "      <th>위험도_허리둘레</th>\n",
              "      <th>복합상대위험도</th>\n",
              "      <th>평균절대위험도</th>\n",
              "      <th>조정복합상대위험도</th>\n",
              "      <th>절대위험도</th>\n",
              "      <th>심뇌혈관나이</th>\n",
              "      <th>교정복합상대위험도</th>\n",
              "      <th>교정절대위험도</th>\n",
              "      <th>교정심뇌혈관나이</th>\n",
              "    </tr>\n",
              "  </thead>\n",
              "  <tbody>\n",
              "    <tr>\n",
              "      <th>6</th>\n",
              "      <td>7</td>\n",
              "      <td>44</td>\n",
              "      <td>93.0</td>\n",
              "      <td>0.8</td>\n",
              "      <td>0.7</td>\n",
              "      <td>1</td>\n",
              "      <td>2</td>\n",
              "      <td>112.0</td>\n",
              "      <td>73.0</td>\n",
              "      <td>250.0</td>\n",
              "      <td>...</td>\n",
              "      <td>1723.0</td>\n",
              "      <td>1</td>\n",
              "      <td>3.15</td>\n",
              "      <td>1947</td>\n",
              "      <td>1.493</td>\n",
              "      <td>2906.871</td>\n",
              "      <td>44</td>\n",
              "      <td>1.30</td>\n",
              "      <td>1199.573</td>\n",
              "      <td>36</td>\n",
              "    </tr>\n",
              "    <tr>\n",
              "      <th>16</th>\n",
              "      <td>17</td>\n",
              "      <td>30</td>\n",
              "      <td>90.0</td>\n",
              "      <td>0.6</td>\n",
              "      <td>0.6</td>\n",
              "      <td>1</td>\n",
              "      <td>1</td>\n",
              "      <td>138.0</td>\n",
              "      <td>88.0</td>\n",
              "      <td>94.0</td>\n",
              "      <td>...</td>\n",
              "      <td>1423.0</td>\n",
              "      <td>1</td>\n",
              "      <td>1.88</td>\n",
              "      <td>4539</td>\n",
              "      <td>0.858</td>\n",
              "      <td>3894.462</td>\n",
              "      <td>48</td>\n",
              "      <td>1.00</td>\n",
              "      <td>2072.603</td>\n",
              "      <td>41</td>\n",
              "    </tr>\n",
              "    <tr>\n",
              "      <th>21</th>\n",
              "      <td>22</td>\n",
              "      <td>41</td>\n",
              "      <td>65.9</td>\n",
              "      <td>0.7</td>\n",
              "      <td>1.0</td>\n",
              "      <td>1</td>\n",
              "      <td>1</td>\n",
              "      <td>114.0</td>\n",
              "      <td>73.0</td>\n",
              "      <td>94.0</td>\n",
              "      <td>...</td>\n",
              "      <td>1179.0</td>\n",
              "      <td>0</td>\n",
              "      <td>1.20</td>\n",
              "      <td>2154</td>\n",
              "      <td>0.674</td>\n",
              "      <td>1451.796</td>\n",
              "      <td>47</td>\n",
              "      <td>1.00</td>\n",
              "      <td>1210.112</td>\n",
              "      <td>44</td>\n",
              "    </tr>\n",
              "    <tr>\n",
              "      <th>27</th>\n",
              "      <td>28</td>\n",
              "      <td>11</td>\n",
              "      <td>82.0</td>\n",
              "      <td>0.5</td>\n",
              "      <td>0.7</td>\n",
              "      <td>1</td>\n",
              "      <td>1</td>\n",
              "      <td>139.0</td>\n",
              "      <td>85.0</td>\n",
              "      <td>104.0</td>\n",
              "      <td>...</td>\n",
              "      <td>1125.0</td>\n",
              "      <td>0</td>\n",
              "      <td>1.67</td>\n",
              "      <td>20609</td>\n",
              "      <td>0.746</td>\n",
              "      <td>15374.314</td>\n",
              "      <td>68</td>\n",
              "      <td>1.34</td>\n",
              "      <td>12328.598</td>\n",
              "      <td>64</td>\n",
              "    </tr>\n",
              "    <tr>\n",
              "      <th>47</th>\n",
              "      <td>48</td>\n",
              "      <td>26</td>\n",
              "      <td>94.0</td>\n",
              "      <td>1.5</td>\n",
              "      <td>0.6</td>\n",
              "      <td>2</td>\n",
              "      <td>2</td>\n",
              "      <td>110.0</td>\n",
              "      <td>72.0</td>\n",
              "      <td>114.0</td>\n",
              "      <td>...</td>\n",
              "      <td>1312.0</td>\n",
              "      <td>1</td>\n",
              "      <td>1.56</td>\n",
              "      <td>16633</td>\n",
              "      <td>0.693</td>\n",
              "      <td>11526.669</td>\n",
              "      <td>63</td>\n",
              "      <td>1.00</td>\n",
              "      <td>7392.444</td>\n",
              "      <td>57</td>\n",
              "    </tr>\n",
              "  </tbody>\n",
              "</table>\n",
              "<p>5 rows × 78 columns</p>\n",
              "</div>\n",
              "      <button class=\"colab-df-convert\" onclick=\"convertToInteractive('df-b11e7095-7f6b-4d71-83b6-78f38062973f')\"\n",
              "              title=\"Convert this dataframe to an interactive table.\"\n",
              "              style=\"display:none;\">\n",
              "        \n",
              "  <svg xmlns=\"http://www.w3.org/2000/svg\" height=\"24px\"viewBox=\"0 0 24 24\"\n",
              "       width=\"24px\">\n",
              "    <path d=\"M0 0h24v24H0V0z\" fill=\"none\"/>\n",
              "    <path d=\"M18.56 5.44l.94 2.06.94-2.06 2.06-.94-2.06-.94-.94-2.06-.94 2.06-2.06.94zm-11 1L8.5 8.5l.94-2.06 2.06-.94-2.06-.94L8.5 2.5l-.94 2.06-2.06.94zm10 10l.94 2.06.94-2.06 2.06-.94-2.06-.94-.94-2.06-.94 2.06-2.06.94z\"/><path d=\"M17.41 7.96l-1.37-1.37c-.4-.4-.92-.59-1.43-.59-.52 0-1.04.2-1.43.59L10.3 9.45l-7.72 7.72c-.78.78-.78 2.05 0 2.83L4 21.41c.39.39.9.59 1.41.59.51 0 1.02-.2 1.41-.59l7.78-7.78 2.81-2.81c.8-.78.8-2.07 0-2.86zM5.41 20L4 18.59l7.72-7.72 1.47 1.35L5.41 20z\"/>\n",
              "  </svg>\n",
              "      </button>\n",
              "      \n",
              "  <style>\n",
              "    .colab-df-container {\n",
              "      display:flex;\n",
              "      flex-wrap:wrap;\n",
              "      gap: 12px;\n",
              "    }\n",
              "\n",
              "    .colab-df-convert {\n",
              "      background-color: #E8F0FE;\n",
              "      border: none;\n",
              "      border-radius: 50%;\n",
              "      cursor: pointer;\n",
              "      display: none;\n",
              "      fill: #1967D2;\n",
              "      height: 32px;\n",
              "      padding: 0 0 0 0;\n",
              "      width: 32px;\n",
              "    }\n",
              "\n",
              "    .colab-df-convert:hover {\n",
              "      background-color: #E2EBFA;\n",
              "      box-shadow: 0px 1px 2px rgba(60, 64, 67, 0.3), 0px 1px 3px 1px rgba(60, 64, 67, 0.15);\n",
              "      fill: #174EA6;\n",
              "    }\n",
              "\n",
              "    [theme=dark] .colab-df-convert {\n",
              "      background-color: #3B4455;\n",
              "      fill: #D2E3FC;\n",
              "    }\n",
              "\n",
              "    [theme=dark] .colab-df-convert:hover {\n",
              "      background-color: #434B5C;\n",
              "      box-shadow: 0px 1px 3px 1px rgba(0, 0, 0, 0.15);\n",
              "      filter: drop-shadow(0px 1px 2px rgba(0, 0, 0, 0.3));\n",
              "      fill: #FFFFFF;\n",
              "    }\n",
              "  </style>\n",
              "\n",
              "      <script>\n",
              "        const buttonEl =\n",
              "          document.querySelector('#df-b11e7095-7f6b-4d71-83b6-78f38062973f button.colab-df-convert');\n",
              "        buttonEl.style.display =\n",
              "          google.colab.kernel.accessAllowed ? 'block' : 'none';\n",
              "\n",
              "        async function convertToInteractive(key) {\n",
              "          const element = document.querySelector('#df-b11e7095-7f6b-4d71-83b6-78f38062973f');\n",
              "          const dataTable =\n",
              "            await google.colab.kernel.invokeFunction('convertToInteractive',\n",
              "                                                     [key], {});\n",
              "          if (!dataTable) return;\n",
              "\n",
              "          const docLinkHtml = 'Like what you see? Visit the ' +\n",
              "            '<a target=\"_blank\" href=https://colab.research.google.com/notebooks/data_table.ipynb>data table notebook</a>'\n",
              "            + ' to learn more about interactive tables.';\n",
              "          element.innerHTML = '';\n",
              "          dataTable['output_type'] = 'display_data';\n",
              "          await google.colab.output.renderOutput(dataTable, element);\n",
              "          const docLink = document.createElement('div');\n",
              "          docLink.innerHTML = docLinkHtml;\n",
              "          element.appendChild(docLink);\n",
              "        }\n",
              "      </script>\n",
              "    </div>\n",
              "  </div>\n",
              "  "
            ]
          },
          "metadata": {},
          "execution_count": 85
        }
      ]
    },
    {
      "cell_type": "code",
      "source": [
        "# health_data 전처리 완료한 최종 file 저장\n",
        "\n",
        "df.to_csv('health_real_fin.csv', index=False, encoding='utf-8')"
      ],
      "metadata": {
        "id": "Tm9o8AefT6yS"
      },
      "execution_count": 86,
      "outputs": []
    }
  ]
}