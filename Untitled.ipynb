{
 "cells": [
  {
   "cell_type": "code",
   "execution_count": 4,
   "id": "07a08dd8",
   "metadata": {},
   "outputs": [
    {
     "name": "stdout",
     "output_type": "stream",
     "text": [
      "\n",
      "\n",
      "\n",
      "\n",
      "\n",
      "\n",
      "\n",
      "\n",
      "\n",
      "\n",
      "\n",
      "\n",
      "Keyword '해약환급금 예시표' not found in the PDF.\n"
     ]
    }
   ],
   "source": [
    "# !pip install PyPDF4\n",
    "\n",
    "import tabula\n",
    "import PyPDF4\n",
    "import pandas as pd\n",
    "\n",
    "def find_keyword_page(pdf_path, keyword):\n",
    "    with open(pdf_path, 'rb') as f:\n",
    "        reader = PyPDF4.PdfFileReader(f)\n",
    "        num_pages = reader.numPages\n",
    "        \n",
    "        for page in range(num_pages):\n",
    "            text = reader.getPage(page).extractText()\n",
    "            print(text)\n",
    "            if keyword in text:\n",
    "                return page + 1\n",
    "    return None\n",
    "\n",
    "def extract_tables_from_pdf(pdf_path, page, output_format=\"dataframe\"):\n",
    "    tables = tabula.read_pdf(pdf_path, pages=page, multiple_tables=True, output_format=output_format)\n",
    "    return tables\n",
    "\n",
    "def save_tables_to_csv(tables, output_prefix):\n",
    "    for i, table in enumerate(tables):\n",
    "        output_path = f\"{output_prefix}_table_{i + 1}.csv\"\n",
    "        table.to_csv(output_path, index=False)\n",
    "\n",
    "pdf_path = \"asset/pdf/abl여30세.pdf\"\n",
    "# pdf_path = \"path/to/your/downloaded/abl여30세.pdf\"\n",
    "keyword = \"해약환급금 예시표\"\n",
    "page_with_keyword = find_keyword_page(pdf_path, keyword)\n",
    "\n",
    "if page_with_keyword is not None:\n",
    "    tables = extract_tables_from_pdf(pdf_path, page_with_keyword)\n",
    "    save_tables_to_csv(tables, \"extracted_table\")\n",
    "    print(\"Tables have been saved as CSV files.\")\n",
    "else:\n",
    "    print(f\"Keyword '{keyword}' not found in the PDF.\")\n"
   ]
  },
  {
   "cell_type": "code",
   "execution_count": null,
   "id": "79764783",
   "metadata": {},
   "outputs": [],
   "source": []
  }
 ],
 "metadata": {
  "kernelspec": {
   "display_name": "Python 3 (ipykernel)",
   "language": "python",
   "name": "python3"
  },
  "language_info": {
   "codemirror_mode": {
    "name": "ipython",
    "version": 3
   },
   "file_extension": ".py",
   "mimetype": "text/x-python",
   "name": "python",
   "nbconvert_exporter": "python",
   "pygments_lexer": "ipython3",
   "version": "3.8.13"
  }
 },
 "nbformat": 4,
 "nbformat_minor": 5
}
