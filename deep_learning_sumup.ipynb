{
  "nbformat": 4,
  "nbformat_minor": 0,
  "metadata": {
    "colab": {
      "provenance": [],
      "include_colab_link": true
    },
    "kernelspec": {
      "name": "python3",
      "display_name": "Python 3"
    },
    "language_info": {
      "name": "python"
    }
  },
  "cells": [
    {
      "cell_type": "markdown",
      "metadata": {
        "id": "view-in-github",
        "colab_type": "text"
      },
      "source": [
        "<a href=\"https://colab.research.google.com/github/arkwith7/aSSIST_ML/blob/main/deep_learning_sumup.ipynb\" target=\"_parent\"><img src=\"https://colab.research.google.com/assets/colab-badge.svg\" alt=\"Open In Colab\"/></a>"
      ]
    },
    {
      "cell_type": "markdown",
      "source": [
        "# 문제를 풀기 전에 아래 코드를 꼭 실행시키세요."
      ],
      "metadata": {
        "id": "JvbtEb_LCAm7"
      }
    },
    {
      "cell_type": "code",
      "source": [
        "# 이 셀을 가장 먼저 실행하세요.\n",
        "answer = [0] * 40"
      ],
      "metadata": {
        "id": "hA7HLYrACXi9"
      },
      "execution_count": null,
      "outputs": []
    },
    {
      "cell_type": "markdown",
      "source": [
        "답안의 작성은 아래처럼 하세요.\n",
        "\n",
        "예: 문제 1의 답이 2인 경우\n",
        "\n",
        "\n",
        "```\n",
        "\banswer[1] = 2\n",
        "```\n",
        "\n"
      ],
      "metadata": {
        "id": "U7o3VJKyDh-Q"
      }
    },
    {
      "cell_type": "markdown",
      "source": [
        "문제 1: 머신러닝에서 '지도학습'이란 무엇을 의미하는가?\n",
        "\n",
        "1. 학습 데이터에 정답이 주어지지 않은 상태에서 패턴을 찾아내는 학습 방법\n",
        "2. 학습 데이터에 정답이 포함된 상태에서 패턴을 찾아내는 학습 방법\n",
        "3. 기존 데이터로부터 새로운 데이터를 생성하는 학습 방법\n",
        "4. 일련의 행동을 통해 보상을 최대화하는 학습 방법\n"
      ],
      "metadata": {
        "id": "oy5uu4yZh-qq"
      }
    },
    {
      "cell_type": "code",
      "source": [
        "answer[1] = 2"
      ],
      "metadata": {
        "id": "1CBPfgTDmeAX"
      },
      "execution_count": null,
      "outputs": []
    },
    {
      "cell_type": "markdown",
      "source": [
        "문제 2: 머신러닝에서 '회귀'는 어떤 종류의 문제를 해결하는가?\n",
        "\n",
        "1. 이진 분류 문제\n",
        "2. 다중 분류 문제\n",
        "3. 연속적인 값을 예측하는 문제\n",
        "4. 군집화 문제"
      ],
      "metadata": {
        "id": "N9Atws2FmpWa"
      }
    },
    {
      "cell_type": "code",
      "source": [
        "answer[2] = 3"
      ],
      "metadata": {
        "id": "w0aEekuHmsLs"
      },
      "execution_count": null,
      "outputs": []
    },
    {
      "cell_type": "markdown",
      "source": [
        "문제 3: 과적합(Overfitting)의 정의는 무엇인가?\n",
        "\n",
        "1. 모델이 학습 데이터에만 과도하게 적응하여 새로운 데이터에 대한 일반화 성능이 저하되는 현상\n",
        "2. 모델이 학습 데이터에 충분히 적응하지 못하여 학습 데이터와 새로운 데이터 모두에 대한 성능이 저하되는 현상\n",
        "3. 모델의 학습이 진행될수록 오류가 증가하는 현상\n",
        "4. 모델이 복잡한 형태로 학습되어 해석이 어려워지는 현상"
      ],
      "metadata": {
        "id": "ZApMiR9Cmtps"
      }
    },
    {
      "cell_type": "code",
      "source": [
        "answer[3] = 1"
      ],
      "metadata": {
        "id": "U_GU4bGimsi_"
      },
      "execution_count": null,
      "outputs": []
    },
    {
      "cell_type": "markdown",
      "source": [
        "문제 4: 교차 검증(Cross-Validation)의 목적은 무엇인가?\n",
        "\n",
        "1. 모델의 복잡도를 조절하는 것\n",
        "2. 모델의 성능을 일반화하여 평가하는 것\n",
        "3. 모델의 규제 파라미터를 최적화하는 것\n",
        "4. 모델의 계산 속도를 높이는 것"
      ],
      "metadata": {
        "id": "LtpvB42EsGT2"
      }
    },
    {
      "cell_type": "code",
      "source": [
        "answer[4] = 2"
      ],
      "metadata": {
        "id": "kbNijtkdsNaT"
      },
      "execution_count": null,
      "outputs": []
    },
    {
      "cell_type": "markdown",
      "source": [
        "문제 5: 텍스트 데이터를 벡터 형태로 표현하기 위한 대표적인 분산 표현 기법은 무엇인가?\n",
        "\n",
        "1. 원-핫 인코딩\n",
        "2. Word2Vec\n",
        "3. 배깅\n",
        "4. 결정 트리"
      ],
      "metadata": {
        "id": "hOuVY4KWsHKp"
      }
    },
    {
      "cell_type": "code",
      "source": [
        "answer[5] = 2"
      ],
      "metadata": {
        "id": "zT6UKinEsh7c"
      },
      "execution_count": null,
      "outputs": []
    },
    {
      "cell_type": "markdown",
      "source": [
        "문제 6: 정밀도(Precision)와 재현율(Recall)의 조화 평균으로 계산되는 성능 지표는 무엇인가?\n",
        "\n",
        "1. 정확도\n",
        "2. F1 스코어\n",
        "3. ROC 곡선\n",
        "4. AUC"
      ],
      "metadata": {
        "id": "W-L3cKUmschI"
      }
    },
    {
      "cell_type": "code",
      "source": [
        "answer[6] = 2"
      ],
      "metadata": {
        "id": "2eHRrnxksjOj"
      },
      "execution_count": null,
      "outputs": []
    },
    {
      "cell_type": "markdown",
      "source": [
        "문제 7: 자연어 처리에서 원-핫 인코딩을 대체하는 대표적인 분산 표현 기법이 아닌 것은 무엇인가?\n",
        "\n",
        "1. Word2Vec\n",
        "2. GloVe\n",
        "3. FastText\n",
        "4. 교차 검증"
      ],
      "metadata": {
        "id": "XMpT9I5Jskub"
      }
    },
    {
      "cell_type": "code",
      "source": [
        "answer[7] = 4"
      ],
      "metadata": {
        "id": "jYTjQEMFsy8F"
      },
      "execution_count": null,
      "outputs": []
    },
    {
      "cell_type": "markdown",
      "source": [
        "문제 8: 딥러닝에서 주로 사용되는 역전파 알고리즘이 최적화하는 기법은 무엇인가?\n",
        "\n",
        "1. Gradient Descent\n",
        "2. Dcision Tree\n",
        "3. SVM\n",
        "4. K-NN"
      ],
      "metadata": {
        "id": "ct3Ymr7IsveL"
      }
    },
    {
      "cell_type": "code",
      "source": [
        "answer[8] = 1"
      ],
      "metadata": {
        "id": "XHAivjQvs93d"
      },
      "execution_count": null,
      "outputs": []
    },
    {
      "cell_type": "markdown",
      "source": [
        "문제 9: 비지도학습에서 데이터의 구조나 패턴을 찾기 위해 주로 사용되는 방법은 무엇인가?\n",
        "\n",
        "1. Classification\n",
        "2. Regression\n",
        "3. Clustering\n",
        "4. Reinforcement Learning"
      ],
      "metadata": {
        "id": "clMpO8D6s-2m"
      }
    },
    {
      "cell_type": "code",
      "source": [
        "answer[9] = 3"
      ],
      "metadata": {
        "id": "zei_5JjvtLGH"
      },
      "execution_count": null,
      "outputs": []
    },
    {
      "cell_type": "markdown",
      "source": [
        "문제 10: 다음 중 선형 회귀 모델에서 사용되는 비용 함수는 무엇인가?\n",
        "\n",
        "1. 평균 제곱 오차(MSE)\n",
        "2. 교차 엔트로피 손실\n",
        "3. 절대 평균 오차(MAE)\n",
        "4. 로지스틱 손실"
      ],
      "metadata": {
        "id": "ep9ScgHEtSFc"
      }
    },
    {
      "cell_type": "code",
      "source": [
        "answer[10] = 1"
      ],
      "metadata": {
        "id": "J8dOglacrz43"
      },
      "execution_count": null,
      "outputs": []
    },
    {
      "cell_type": "markdown",
      "source": [
        "문제 11: 다음 중 로지스틱 회귀에서 사용되는 활성화 함수는 무엇인가?\n",
        "\n",
        "1. 시그모이드 함수\n",
        "2. ReLU 함수\n",
        "3. 하이퍼볼릭 탄젠트 함수\n",
        "4. 소프트맥스 함수"
      ],
      "metadata": {
        "id": "elEVEt1Sr00J"
      }
    },
    {
      "cell_type": "code",
      "source": [
        "answer[11] = 1"
      ],
      "metadata": {
        "id": "kphTnehfr0Nm"
      },
      "execution_count": null,
      "outputs": []
    },
    {
      "cell_type": "markdown",
      "source": [
        "문제 12: 다중 클래스 분류 문제에서 확률 값을 출력하기 위해 사용되는 함수는 무엇인가?\n",
        "\n",
        "1. 시그모이드 함수\n",
        "2. ReLU 함수\n",
        "3. 하이퍼볼릭 탄젠트 함수\n",
        "4. 소프트맥스 함수"
      ],
      "metadata": {
        "id": "Fwjq2Ge7r-nM"
      }
    },
    {
      "cell_type": "code",
      "source": [
        "answer[12] = 4"
      ],
      "metadata": {
        "id": "9by6T5BvsDb8"
      },
      "execution_count": null,
      "outputs": []
    },
    {
      "cell_type": "markdown",
      "source": [
        "문제 13: 순환 신경망(RNN)의 주요 특징 중 하나인 '시퀀스'는 무엇을 의미하는가?\n",
        "\n",
        "1. 데이터의 순서\n",
        "2. 데이터의 크기\n",
        "3. 데이터의 형태\n",
        "4. 데이터의 위치"
      ],
      "metadata": {
        "id": "BB2kJUCRsBSx"
      }
    },
    {
      "cell_type": "code",
      "source": [
        "answer[13] = 1"
      ],
      "metadata": {
        "id": "QigOhRa-sLMv"
      },
      "execution_count": null,
      "outputs": []
    },
    {
      "cell_type": "markdown",
      "source": [
        "문제 14: 텍스트 데이터를 숫자 벡터로 변환하는 기법 중 하나인 TF-IDF는 어떤 정보를 고려하는가?\n",
        "\n",
        "1. 단어 빈도와 문서 빈도의 역수\n",
        "2. 단어 빈도와 문서 길이\n",
        "3. 문서 빈도와 문서 길이\n",
        "4. 단어 길이와 문서 길이"
      ],
      "metadata": {
        "id": "UiFNIgmMsL6K"
      }
    },
    {
      "cell_type": "code",
      "source": [
        "answer[14] = 1"
      ],
      "metadata": {
        "id": "OEg8OgawsSbM"
      },
      "execution_count": null,
      "outputs": []
    },
    {
      "cell_type": "markdown",
      "source": [
        "문제 15: 나이브 베이즈 분류기의 핵심 가정은 무엇인가?\n",
        "\n",
        "1. 모든 특성이 독립적이라고 가정한다.\n",
        "2. 모든 특성이 서로 종속적이라고 가정한다.\n",
        "3. 모든 특성이 동일한 중요도를 가진다고 가정한다.\n",
        "4. 모든 특성이 동일한 분포를 가진다고 가정한다."
      ],
      "metadata": {
        "id": "vaSXxO3isS_z"
      }
    },
    {
      "cell_type": "code",
      "source": [
        "answer[15] = 1"
      ],
      "metadata": {
        "id": "60yV2QLxxIYP"
      },
      "execution_count": null,
      "outputs": []
    },
    {
      "cell_type": "markdown",
      "source": [
        "문제 16: 원-핫 인코딩에서 문제점 중 하나인 희소성(sparsity)를 해결하기 위한 방법은 무엇인가?\n",
        "\n",
        "1. 정규화\n",
        "2. 차원 축소\n",
        "3. 밀집 벡터 표현\n",
        "4. 군집화"
      ],
      "metadata": {
        "id": "NHl31IdYxTwj"
      }
    },
    {
      "cell_type": "code",
      "source": [
        "answer[16] = 2"
      ],
      "metadata": {
        "id": "vmcg7q01xZcP"
      },
      "execution_count": null,
      "outputs": []
    },
    {
      "cell_type": "markdown",
      "source": [
        "문제 17: 자연어 처리에서 문장 간 유사도를 측정하는 방법 중 하나는 무엇인가?\n",
        "\n",
        "1. 코사인 유사도\n",
        "2. 유클리디안 거리\n",
        "3. 맨해튼 거리\n",
        "4. 상관 계수"
      ],
      "metadata": {
        "id": "v9vjdZRIxaCx"
      }
    },
    {
      "cell_type": "code",
      "source": [
        "answer[17] = 1"
      ],
      "metadata": {
        "id": "saMQHn0exmnf"
      },
      "execution_count": null,
      "outputs": []
    },
    {
      "cell_type": "markdown",
      "source": [
        "문제 18: 다음 중 지도학습 알고리즘이 아닌 것은 무엇인가?\n",
        "\n",
        "1. 나이브 베이즈\n",
        "2. 서포트 벡터 머신\n",
        "3. 로지스틱 회귀\n",
        "4. k-means clustering"
      ],
      "metadata": {
        "id": "a3jyle_exujw"
      }
    },
    {
      "cell_type": "code",
      "source": [
        "answer[18] = "
      ],
      "metadata": {
        "id": "pbpsCAKUxx-e"
      },
      "execution_count": null,
      "outputs": []
    },
    {
      "cell_type": "markdown",
      "source": [
        "문제 19: 다음 중 시계열 데이터에 적합한 딥러닝 모델은 무엇인가?\n",
        "\n",
        "1. 인공 신경망\n",
        "2. 순환 신경망\n",
        "3. 합성곱 신경망\n",
        "4. 심층 신뢰 신경망"
      ],
      "metadata": {
        "id": "3gqbgDBSx4Jw"
      }
    },
    {
      "cell_type": "code",
      "source": [
        "answer[19] = "
      ],
      "metadata": {
        "id": "HJw3TMy5x7lT"
      },
      "execution_count": null,
      "outputs": []
    },
    {
      "cell_type": "markdown",
      "source": [
        "문제 20: 다음 중 오차 역전파(Backpropagation) 알고리즘의 주요 목적은 무엇인가?\n",
        "\n",
        "1. 가중치와 편향을 초기화한다.\n",
        "2. 가중치와 편향을 업데이트하여 손실을 최소화한다.\n",
        "3. 활성화 함수를 선택한다.\n",
        "4. 모델의 구조를 결정한다."
      ],
      "metadata": {
        "id": "io9qjGJU0UWu"
      }
    },
    {
      "cell_type": "code",
      "source": [
        "answer[20] = "
      ],
      "metadata": {
        "id": "xC09-ddE0nvV"
      },
      "execution_count": null,
      "outputs": []
    },
    {
      "cell_type": "markdown",
      "source": [
        "문제 21: 텍스트 데이터를 수치화하는 방법 중 Bag of Words 표현 방법의 특징은 무엇인가?\n",
        "\n",
        "1. 문장의 구조를 유지한다.\n",
        "2. 단어의 순서를 무시한다.\n",
        "3. 단어 간의 관계를 고려한다.\n",
        "4. 문장의 길이를 고려한다."
      ],
      "metadata": {
        "id": "gpn1E5z20XV1"
      }
    },
    {
      "cell_type": "code",
      "source": [
        "answer[21] = "
      ],
      "metadata": {
        "id": "eshmXxd20pqf"
      },
      "execution_count": null,
      "outputs": []
    },
    {
      "cell_type": "markdown",
      "source": [
        "문제 22: 아래 중 데이터 전처리 과정에서 일반적으로 수행되는 작업은 무엇인가?\n",
        "\n",
        "1. 가중치 초기화\n",
        "2. 결측치 처리\n",
        "3. 하이퍼파라미터 최적화\n",
        "4. 손실 함수 선택"
      ],
      "metadata": {
        "id": "aZ5Zbjvl0qjP"
      }
    },
    {
      "cell_type": "code",
      "source": [
        "answer[22] = "
      ],
      "metadata": {
        "id": "WfYyUw0f02bq"
      },
      "execution_count": null,
      "outputs": []
    },
    {
      "cell_type": "markdown",
      "source": [
        "문제 23: 다음 중 k-폴드 교차 검증에서 k의 의미는 무엇인가?\n",
        "\n",
        "1. 교차 검증을 수행하는 반복 횟수\n",
        "2. 데이터 세트를 분할하는 방법의 수\n",
        "3. 데이터 세트를 나누는 구간의 수\n",
        "4. 사용하는 알고리즘의 수"
      ],
      "metadata": {
        "id": "WfUw9MWg027P"
      }
    },
    {
      "cell_type": "code",
      "source": [
        "answer[23] = "
      ],
      "metadata": {
        "id": "nQcQhRF309ej"
      },
      "execution_count": null,
      "outputs": []
    },
    {
      "cell_type": "markdown",
      "source": [
        "문제 24: 특정 텍스트에서 토큰화(Tokenization)의 주요 목적은 무엇인가?\n",
        "\n",
        "1. 텍스트의 길이를 줄인다.\n",
        "2. 텍스트를 의미있는 단위로 분리한다.\n",
        "3. 텍스트의 구조를 파악한다.\n",
        "4. 텍스트의 감성을 분석한다."
      ],
      "metadata": {
        "id": "2zIiJ5vK1E8J"
      }
    },
    {
      "cell_type": "code",
      "source": [
        "answer[24] = "
      ],
      "metadata": {
        "id": "VX77wlMe1bYN"
      },
      "execution_count": null,
      "outputs": []
    },
    {
      "cell_type": "markdown",
      "source": [
        "문제 25: 다음 중 비지도 학습과 관련된 알고리즘은 무엇인가?\n",
        "\n",
        "1. 로지스틱 회귀\n",
        "2. K-평균 군집화\n",
        "3. 나이브 베이즈 분류기\n",
        "4. 서포트 벡터 머신"
      ],
      "metadata": {
        "id": "gCQXonsw1b9P"
      }
    },
    {
      "cell_type": "code",
      "source": [
        "answer[25] = "
      ],
      "metadata": {
        "id": "4BXyhSC11jJD"
      },
      "execution_count": null,
      "outputs": []
    },
    {
      "cell_type": "markdown",
      "source": [
        "문제 26: 다음 중 단어 임베딩의 주요 목적은 무엇인가?\n",
        "\n",
        "1. 텍스트를 의미있는 단위로 분리한다.\n",
        "2. 단어 간의 유사성을 고려한 벡터 표현을 학습한다.\n",
        "3. 텍스트의 구조를 파악한다.\n",
        "4. 텍스트의 길이를 줄인다."
      ],
      "metadata": {
        "id": "rAANC4dj1jkG"
      }
    },
    {
      "cell_type": "code",
      "source": [
        "answer[26] = "
      ],
      "metadata": {
        "id": "kjKbm80e1sgJ"
      },
      "execution_count": null,
      "outputs": []
    },
    {
      "cell_type": "markdown",
      "source": [
        "문제 27: 다음 중 원-핫 인코딩을 사용한 벡터 표현의 주요 단점은 무엇인가?\n",
        "\n",
        "1. 고차원이다.\n",
        "2. 고밀도다.\n",
        "3. 연산 속도가 빠르다.\n",
        "4. 단어 간의 유사성을 반영한다."
      ],
      "metadata": {
        "id": "FaeYLyXK1tzV"
      }
    },
    {
      "cell_type": "code",
      "source": [
        "answer[27] = "
      ],
      "metadata": {
        "id": "V8-hcpTd1yl0"
      },
      "execution_count": null,
      "outputs": []
    },
    {
      "cell_type": "markdown",
      "source": [
        "문제 28: 다음 중 텍스트 데이터를 처리하는 데 사용되는 RNN(순환 신경망)의 주요 특징은 무엇인가?\n",
        "\n",
        "1. 고정된 입력과 출력 크기를 가진다.\n",
        "2. 순차적인 데이터를 처리하는 데 적합하다.\n",
        "3. 병렬 처리가 가능하다.\n",
        "4. 이미지 분류에 주로 사용된다."
      ],
      "metadata": {
        "id": "4No2qjwQ1267"
      }
    },
    {
      "cell_type": "code",
      "source": [
        "answer[28] = "
      ],
      "metadata": {
        "id": "RbSO-ZGM15I8"
      },
      "execution_count": null,
      "outputs": []
    },
    {
      "cell_type": "markdown",
      "source": [
        "문제 29: 다음 중 로지스틱 회귀에서 사용되는 활성화 함수는 무엇인가?\n",
        "\n",
        "1. 시그모이드 함수\n",
        "2. ReLU 함수\n",
        "3. 하이퍼볼릭 탄젠트 함수\n",
        "4. 소프트맥스 함수"
      ],
      "metadata": {
        "id": "Z6UjQgHC1-gQ"
      }
    },
    {
      "cell_type": "code",
      "source": [
        "answer[29] = "
      ],
      "metadata": {
        "id": "P5LzyMxR2Cbp"
      },
      "execution_count": null,
      "outputs": []
    },
    {
      "cell_type": "markdown",
      "source": [
        "문제 30: 다음 중 Dense Layer에서 주로 사용되는 활성화 함수는 무엇인가?\n",
        "\n",
        "1. 시그모이드 함수\n",
        "2. ReLU 함수\n",
        "3. 하이퍼볼릭 탄젠트 함수\n",
        "4. 소프트맥스 함수"
      ],
      "metadata": {
        "id": "eWn4FSUQ2oui"
      }
    },
    {
      "cell_type": "code",
      "source": [
        "answer[30] = "
      ],
      "metadata": {
        "id": "aQhLEh5o2oVI"
      },
      "execution_count": null,
      "outputs": []
    },
    {
      "cell_type": "markdown",
      "source": [
        "실습 1\n",
        "아래 동작을 수행하는 파이썬 코드를 작성하시오.\n",
        "---\n",
        "1. sklearn 에서 fetch_20newsgroups 데이터 셋을 로드한다\n",
        "2. 로드한 데이터 셋에서 학습 데이터를 X, 레이블 데이터를 y 에 불러온다.\n",
        "3. X 의 데이터를 CountVectorizer 를 이용해서 벡터화 한다. 이 때 ngram_range 는 1에서 3으로 하고, max_features 는 2000 으로 한다. 벡터화 한 데이터는 X_ngram 에 저장한다.\n",
        "4. 이 데이터를 train_test_split 함수를 이용해 학습데이터, 테스트 데이터를 7:3 으로 나눈다.\n",
        "5. MultinomialNB 를 사용해 위에서 나눈 학습데이터로 학습을 한 모델을 naive_nb 에 저장한다.\n",
        "6. naive_nb 모델로 테스트 데이터를 예측하고 classification_report 함수를 사용해 결과를 계산한다."
      ],
      "metadata": {
        "id": "VKem5mUj3W3H"
      }
    },
    {
      "cell_type": "code",
      "source": [],
      "metadata": {
        "id": "MCMddBQk4nuW"
      },
      "execution_count": null,
      "outputs": []
    },
    {
      "cell_type": "markdown",
      "source": [
        "실습2\n",
        "\n",
        "sklearn 의 iris 문제를 학습, 테스트 데이터를 7:3 으로 나눠서 SVM 으로 학습하고 예측한 결과를 출력하는 파이썬 코드를 작성하시오."
      ],
      "metadata": {
        "id": "CZ3pKUGQ8M_7"
      }
    },
    {
      "cell_type": "code",
      "source": [],
      "metadata": {
        "id": "wSkJbuoD8oUy"
      },
      "execution_count": null,
      "outputs": []
    },
    {
      "cell_type": "markdown",
      "source": [
        "실습3\n",
        "\n",
        "keras 의 mnist 예제를 사용해서 아래 내용을 수행하는 코드를 작성하시오.\n",
        "\n",
        "1. keras.Sequential 을 사용하여 1개의 hidden layer, 1개의 output layer 를 구성\n",
        "2. hidden layer 의 perceptron 개수를 256 개\n",
        "3. 훈련할 때 epoch 는 5, 배치사이즈는 128 로 함\n",
        "4. 훈련 데이터의 반은 분리하여 validation 데이터로 사용\n",
        "5. 훈련 과정에서 overfitting 이 일어나는 epoch 를 찾기\n",
        "6. validation 데이터를 포함하고, overfitting 이 일어나지 않는 epoch 를 지정하여 다시 훈련\n",
        "7. 훈련된 모델로 테스트 데이터를 이용하여 정확도 출력 "
      ],
      "metadata": {
        "id": "guFZmxH8-ie8"
      }
    },
    {
      "cell_type": "code",
      "source": [],
      "metadata": {
        "id": "d9GzVS_WBA4K"
      },
      "execution_count": null,
      "outputs": []
    }
  ]
}