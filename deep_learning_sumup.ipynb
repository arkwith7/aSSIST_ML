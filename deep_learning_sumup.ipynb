{
  "nbformat": 4,
  "nbformat_minor": 0,
  "metadata": {
    "colab": {
      "provenance": [],
      "include_colab_link": true
    },
    "kernelspec": {
      "name": "python3",
      "display_name": "Python 3"
    },
    "language_info": {
      "name": "python"
    }
  },
  "cells": [
    {
      "cell_type": "markdown",
      "metadata": {
        "id": "view-in-github",
        "colab_type": "text"
      },
      "source": [
        "<a href=\"https://colab.research.google.com/github/arkwith7/aSSIST_ML/blob/main/deep_learning_sumup.ipynb\" target=\"_parent\"><img src=\"https://colab.research.google.com/assets/colab-badge.svg\" alt=\"Open In Colab\"/></a>"
      ]
    },
    {
      "cell_type": "markdown",
      "source": [
        "# 문제를 풀기 전에 아래 코드를 꼭 실행시키세요."
      ],
      "metadata": {
        "id": "JvbtEb_LCAm7"
      }
    },
    {
      "cell_type": "code",
      "source": [
        "# 이 셀을 가장 먼저 실행하세요.\n",
        "answer = [0] * 40"
      ],
      "metadata": {
        "id": "hA7HLYrACXi9"
      },
      "execution_count": null,
      "outputs": []
    },
    {
      "cell_type": "markdown",
      "source": [
        "답안의 작성은 아래처럼 하세요.\n",
        "\n",
        "예: 문제 1의 답이 2인 경우\n",
        "\n",
        "\n",
        "```\n",
        "\banswer[1] = 2\n",
        "```\n",
        "\n"
      ],
      "metadata": {
        "id": "U7o3VJKyDh-Q"
      }
    },
    {
      "cell_type": "markdown",
      "source": [
        "문제 1: 머신러닝에서 '지도학습'이란 무엇을 의미하는가?\n",
        "\n",
        "1. 학습 데이터에 정답이 주어지지 않은 상태에서 패턴을 찾아내는 학습 방법\n",
        "2. 학습 데이터에 정답이 포함된 상태에서 패턴을 찾아내는 학습 방법\n",
        "3. 기존 데이터로부터 새로운 데이터를 생성하는 학습 방법\n",
        "4. 일련의 행동을 통해 보상을 최대화하는 학습 방법\n"
      ],
      "metadata": {
        "id": "oy5uu4yZh-qq"
      }
    },
    {
      "cell_type": "code",
      "source": [
        "answer[1] = 2"
      ],
      "metadata": {
        "id": "1CBPfgTDmeAX"
      },
      "execution_count": null,
      "outputs": []
    },
    {
      "cell_type": "markdown",
      "source": [
        "문제 2: 머신러닝에서 '회귀'는 어떤 종류의 문제를 해결하는가?\n",
        "\n",
        "1. 이진 분류 문제\n",
        "2. 다중 분류 문제\n",
        "3. 연속적인 값을 예측하는 문제\n",
        "4. 군집화 문제"
      ],
      "metadata": {
        "id": "N9Atws2FmpWa"
      }
    },
    {
      "cell_type": "code",
      "source": [
        "answer[2] = 3"
      ],
      "metadata": {
        "id": "w0aEekuHmsLs"
      },
      "execution_count": null,
      "outputs": []
    },
    {
      "cell_type": "markdown",
      "source": [
        "문제 3: 과적합(Overfitting)의 정의는 무엇인가?\n",
        "\n",
        "1. 모델이 학습 데이터에만 과도하게 적응하여 새로운 데이터에 대한 일반화 성능이 저하되는 현상\n",
        "2. 모델이 학습 데이터에 충분히 적응하지 못하여 학습 데이터와 새로운 데이터 모두에 대한 성능이 저하되는 현상\n",
        "3. 모델의 학습이 진행될수록 오류가 증가하는 현상\n",
        "4. 모델이 복잡한 형태로 학습되어 해석이 어려워지는 현상"
      ],
      "metadata": {
        "id": "ZApMiR9Cmtps"
      }
    },
    {
      "cell_type": "code",
      "source": [
        "answer[3] = 1"
      ],
      "metadata": {
        "id": "U_GU4bGimsi_"
      },
      "execution_count": null,
      "outputs": []
    },
    {
      "cell_type": "markdown",
      "source": [
        "문제 4: 교차 검증(Cross-Validation)의 목적은 무엇인가?\n",
        "\n",
        "1. 모델의 복잡도를 조절하는 것\n",
        "2. 모델의 성능을 일반화하여 평가하는 것\n",
        "3. 모델의 규제 파라미터를 최적화하는 것\n",
        "4. 모델의 계산 속도를 높이는 것"
      ],
      "metadata": {
        "id": "LtpvB42EsGT2"
      }
    },
    {
      "cell_type": "code",
      "source": [
        "answer[4] = 2"
      ],
      "metadata": {
        "id": "kbNijtkdsNaT"
      },
      "execution_count": null,
      "outputs": []
    },
    {
      "cell_type": "markdown",
      "source": [
        "문제 5: 텍스트 데이터를 벡터 형태로 표현하기 위한 대표적인 분산 표현 기법은 무엇인가?\n",
        "\n",
        "1. 원-핫 인코딩\n",
        "2. Word2Vec\n",
        "3. 배깅\n",
        "4. 결정 트리"
      ],
      "metadata": {
        "id": "hOuVY4KWsHKp"
      }
    },
    {
      "cell_type": "code",
      "source": [
        "answer[5] = 2"
      ],
      "metadata": {
        "id": "zT6UKinEsh7c"
      },
      "execution_count": null,
      "outputs": []
    },
    {
      "cell_type": "markdown",
      "source": [
        "문제 6: 정밀도(Precision)와 재현율(Recall)의 조화 평균으로 계산되는 성능 지표는 무엇인가?\n",
        "\n",
        "1. 정확도\n",
        "2. F1 스코어\n",
        "3. ROC 곡선\n",
        "4. AUC"
      ],
      "metadata": {
        "id": "W-L3cKUmschI"
      }
    },
    {
      "cell_type": "code",
      "source": [
        "answer[6] = 2"
      ],
      "metadata": {
        "id": "2eHRrnxksjOj"
      },
      "execution_count": null,
      "outputs": []
    },
    {
      "cell_type": "markdown",
      "source": [
        "문제 7: 자연어 처리에서 원-핫 인코딩을 대체하는 대표적인 분산 표현 기법이 아닌 것은 무엇인가?\n",
        "\n",
        "1. Word2Vec\n",
        "2. GloVe\n",
        "3. FastText\n",
        "4. 교차 검증"
      ],
      "metadata": {
        "id": "XMpT9I5Jskub"
      }
    },
    {
      "cell_type": "code",
      "source": [
        "answer[7] = 4"
      ],
      "metadata": {
        "id": "jYTjQEMFsy8F"
      },
      "execution_count": null,
      "outputs": []
    },
    {
      "cell_type": "markdown",
      "source": [
        "문제 8: 딥러닝에서 주로 사용되는 역전파 알고리즘이 최적화하는 기법은 무엇인가?\n",
        "\n",
        "1. Gradient Descent\n",
        "2. Dcision Tree\n",
        "3. SVM\n",
        "4. K-NN"
      ],
      "metadata": {
        "id": "ct3Ymr7IsveL"
      }
    },
    {
      "cell_type": "code",
      "source": [
        "answer[8] = 1"
      ],
      "metadata": {
        "id": "XHAivjQvs93d"
      },
      "execution_count": null,
      "outputs": []
    },
    {
      "cell_type": "markdown",
      "source": [
        "문제 9: 비지도학습에서 데이터의 구조나 패턴을 찾기 위해 주로 사용되는 방법은 무엇인가?\n",
        "\n",
        "1. Classification\n",
        "2. Regression\n",
        "3. Clustering\n",
        "4. Reinforcement Learning"
      ],
      "metadata": {
        "id": "clMpO8D6s-2m"
      }
    },
    {
      "cell_type": "code",
      "source": [
        "answer[9] = 3"
      ],
      "metadata": {
        "id": "zei_5JjvtLGH"
      },
      "execution_count": null,
      "outputs": []
    },
    {
      "cell_type": "markdown",
      "source": [
        "문제 10: 다음 중 선형 회귀 모델에서 사용되는 비용 함수는 무엇인가?\n",
        "\n",
        "1. 평균 제곱 오차(MSE)\n",
        "2. 교차 엔트로피 손실\n",
        "3. 절대 평균 오차(MAE)\n",
        "4. 로지스틱 손실"
      ],
      "metadata": {
        "id": "ep9ScgHEtSFc"
      }
    },
    {
      "cell_type": "code",
      "source": [
        "answer[10] = 1"
      ],
      "metadata": {
        "id": "J8dOglacrz43"
      },
      "execution_count": null,
      "outputs": []
    },
    {
      "cell_type": "markdown",
      "source": [
        "문제 11: 다음 중 로지스틱 회귀에서 사용되는 활성화 함수는 무엇인가?\n",
        "\n",
        "1. 시그모이드 함수\n",
        "2. ReLU 함수\n",
        "3. 하이퍼볼릭 탄젠트 함수\n",
        "4. 소프트맥스 함수"
      ],
      "metadata": {
        "id": "elEVEt1Sr00J"
      }
    },
    {
      "cell_type": "code",
      "source": [
        "answer[11] = 1"
      ],
      "metadata": {
        "id": "kphTnehfr0Nm"
      },
      "execution_count": null,
      "outputs": []
    },
    {
      "cell_type": "markdown",
      "source": [
        "문제 12: 다중 클래스 분류 문제에서 확률 값을 출력하기 위해 사용되는 함수는 무엇인가?\n",
        "\n",
        "1. 시그모이드 함수\n",
        "2. ReLU 함수\n",
        "3. 하이퍼볼릭 탄젠트 함수\n",
        "4. 소프트맥스 함수"
      ],
      "metadata": {
        "id": "Fwjq2Ge7r-nM"
      }
    },
    {
      "cell_type": "code",
      "source": [
        "answer[12] = 4"
      ],
      "metadata": {
        "id": "9by6T5BvsDb8"
      },
      "execution_count": null,
      "outputs": []
    },
    {
      "cell_type": "markdown",
      "source": [
        "문제 13: 순환 신경망(RNN)의 주요 특징 중 하나인 '시퀀스'는 무엇을 의미하는가?\n",
        "\n",
        "1. 데이터의 순서\n",
        "2. 데이터의 크기\n",
        "3. 데이터의 형태\n",
        "4. 데이터의 위치"
      ],
      "metadata": {
        "id": "BB2kJUCRsBSx"
      }
    },
    {
      "cell_type": "code",
      "source": [
        "answer[13] = 1"
      ],
      "metadata": {
        "id": "QigOhRa-sLMv"
      },
      "execution_count": null,
      "outputs": []
    },
    {
      "cell_type": "markdown",
      "source": [
        "문제 14: 텍스트 데이터를 숫자 벡터로 변환하는 기법 중 하나인 TF-IDF는 어떤 정보를 고려하는가?\n",
        "\n",
        "1. 단어 빈도와 문서 빈도의 역수\n",
        "2. 단어 빈도와 문서 길이\n",
        "3. 문서 빈도와 문서 길이\n",
        "4. 단어 길이와 문서 길이"
      ],
      "metadata": {
        "id": "UiFNIgmMsL6K"
      }
    },
    {
      "cell_type": "code",
      "source": [
        "answer[14] = 1"
      ],
      "metadata": {
        "id": "OEg8OgawsSbM"
      },
      "execution_count": null,
      "outputs": []
    },
    {
      "cell_type": "markdown",
      "source": [
        "문제 15: 나이브 베이즈 분류기의 핵심 가정은 무엇인가?\n",
        "\n",
        "1. 모든 특성이 독립적이라고 가정한다.\n",
        "2. 모든 특성이 서로 종속적이라고 가정한다.\n",
        "3. 모든 특성이 동일한 중요도를 가진다고 가정한다.\n",
        "4. 모든 특성이 동일한 분포를 가진다고 가정한다."
      ],
      "metadata": {
        "id": "vaSXxO3isS_z"
      }
    },
    {
      "cell_type": "code",
      "source": [
        "answer[15] = 1"
      ],
      "metadata": {
        "id": "60yV2QLxxIYP"
      },
      "execution_count": null,
      "outputs": []
    },
    {
      "cell_type": "markdown",
      "source": [
        "문제 16: 원-핫 인코딩에서 문제점 중 하나인 희소성(sparsity)를 해결하기 위한 방법은 무엇인가?\n",
        "\n",
        "1. 정규화\n",
        "2. 차원 축소\n",
        "3. 밀집 벡터 표현\n",
        "4. 군집화"
      ],
      "metadata": {
        "id": "NHl31IdYxTwj"
      }
    },
    {
      "cell_type": "code",
      "source": [
        "answer[16] = 2"
      ],
      "metadata": {
        "id": "vmcg7q01xZcP"
      },
      "execution_count": null,
      "outputs": []
    },
    {
      "cell_type": "markdown",
      "source": [
        "문제 17: 자연어 처리에서 문장 간 유사도를 측정하는 방법 중 하나는 무엇인가?\n",
        "\n",
        "1. 코사인 유사도\n",
        "2. 유클리디안 거리\n",
        "3. 맨해튼 거리\n",
        "4. 상관 계수"
      ],
      "metadata": {
        "id": "v9vjdZRIxaCx"
      }
    },
    {
      "cell_type": "code",
      "source": [
        "answer[17] = 1"
      ],
      "metadata": {
        "id": "saMQHn0exmnf"
      },
      "execution_count": null,
      "outputs": []
    },
    {
      "cell_type": "markdown",
      "source": [
        "문제 18: 다음 중 지도학습 알고리즘이 아닌 것은 무엇인가?\n",
        "\n",
        "1. 나이브 베이즈\n",
        "2. 서포트 벡터 머신\n",
        "3. 로지스틱 회귀\n",
        "4. k-means clustering"
      ],
      "metadata": {
        "id": "a3jyle_exujw"
      }
    },
    {
      "cell_type": "code",
      "source": [
        "answer[18] = 4"
      ],
      "metadata": {
        "id": "pbpsCAKUxx-e"
      },
      "execution_count": null,
      "outputs": []
    },
    {
      "cell_type": "markdown",
      "source": [
        "문제 19: 다음 중 시계열 데이터에 적합한 딥러닝 모델은 무엇인가?\n",
        "\n",
        "1. 인공 신경망\n",
        "2. 순환 신경망\n",
        "3. 합성곱 신경망\n",
        "4. 심층 신뢰 신경망"
      ],
      "metadata": {
        "id": "3gqbgDBSx4Jw"
      }
    },
    {
      "cell_type": "code",
      "source": [
        "answer[19] = 2"
      ],
      "metadata": {
        "id": "HJw3TMy5x7lT"
      },
      "execution_count": null,
      "outputs": []
    },
    {
      "cell_type": "markdown",
      "source": [
        "문제 20: 다음 중 오차 역전파(Backpropagation) 알고리즘의 주요 목적은 무엇인가?\n",
        "\n",
        "1. 가중치와 편향을 초기화한다.\n",
        "2. 가중치와 편향을 업데이트하여 손실을 최소화한다.\n",
        "3. 활성화 함수를 선택한다.\n",
        "4. 모델의 구조를 결정한다."
      ],
      "metadata": {
        "id": "io9qjGJU0UWu"
      }
    },
    {
      "cell_type": "code",
      "source": [
        "answer[20] = 2"
      ],
      "metadata": {
        "id": "xC09-ddE0nvV"
      },
      "execution_count": null,
      "outputs": []
    },
    {
      "cell_type": "markdown",
      "source": [
        "문제 21: 텍스트 데이터를 수치화하는 방법 중 Bag of Words 표현 방법의 특징은 무엇인가?\n",
        "\n",
        "1. 문장의 구조를 유지한다.\n",
        "2. 단어의 순서를 무시한다.\n",
        "3. 단어 간의 관계를 고려한다.\n",
        "4. 문장의 길이를 고려한다."
      ],
      "metadata": {
        "id": "gpn1E5z20XV1"
      }
    },
    {
      "cell_type": "code",
      "source": [
        "answer[21] = 2"
      ],
      "metadata": {
        "id": "eshmXxd20pqf"
      },
      "execution_count": null,
      "outputs": []
    },
    {
      "cell_type": "markdown",
      "source": [
        "문제 22: 아래 중 데이터 전처리 과정에서 일반적으로 수행되는 작업은 무엇인가?\n",
        "\n",
        "1. 가중치 초기화\n",
        "2. 결측치 처리\n",
        "3. 하이퍼파라미터 최적화\n",
        "4. 손실 함수 선택"
      ],
      "metadata": {
        "id": "aZ5Zbjvl0qjP"
      }
    },
    {
      "cell_type": "code",
      "source": [
        "answer[22] = 2"
      ],
      "metadata": {
        "id": "WfYyUw0f02bq"
      },
      "execution_count": null,
      "outputs": []
    },
    {
      "cell_type": "markdown",
      "source": [
        "문제 23: 다음 중 k-폴드 교차 검증에서 k의 의미는 무엇인가?\n",
        "\n",
        "1. 교차 검증을 수행하는 반복 횟수\n",
        "2. 데이터 세트를 분할하는 방법의 수\n",
        "3. 데이터 세트를 나누는 구간의 수\n",
        "4. 사용하는 알고리즘의 수"
      ],
      "metadata": {
        "id": "WfUw9MWg027P"
      }
    },
    {
      "cell_type": "code",
      "source": [
        "answer[23] = 3"
      ],
      "metadata": {
        "id": "nQcQhRF309ej"
      },
      "execution_count": null,
      "outputs": []
    },
    {
      "cell_type": "markdown",
      "source": [
        "문제 24: 특정 텍스트에서 토큰화(Tokenization)의 주요 목적은 무엇인가?\n",
        "\n",
        "1. 텍스트의 길이를 줄인다.\n",
        "2. 텍스트를 의미있는 단위로 분리한다.\n",
        "3. 텍스트의 구조를 파악한다.\n",
        "4. 텍스트의 감성을 분석한다."
      ],
      "metadata": {
        "id": "2zIiJ5vK1E8J"
      }
    },
    {
      "cell_type": "code",
      "source": [
        "answer[24] = 2"
      ],
      "metadata": {
        "id": "VX77wlMe1bYN"
      },
      "execution_count": null,
      "outputs": []
    },
    {
      "cell_type": "markdown",
      "source": [
        "문제 25: 다음 중 비지도 학습과 관련된 알고리즘은 무엇인가?\n",
        "\n",
        "1. 로지스틱 회귀\n",
        "2. K-평균 군집화\n",
        "3. 나이브 베이즈 분류기\n",
        "4. 서포트 벡터 머신"
      ],
      "metadata": {
        "id": "gCQXonsw1b9P"
      }
    },
    {
      "cell_type": "code",
      "source": [
        "answer[25] = 2"
      ],
      "metadata": {
        "id": "4BXyhSC11jJD"
      },
      "execution_count": null,
      "outputs": []
    },
    {
      "cell_type": "markdown",
      "source": [
        "문제 26: 다음 중 단어 임베딩의 주요 목적은 무엇인가?\n",
        "\n",
        "1. 텍스트를 의미있는 단위로 분리한다.\n",
        "2. 단어 간의 유사성을 고려한 벡터 표현을 학습한다.\n",
        "3. 텍스트의 구조를 파악한다.\n",
        "4. 텍스트의 길이를 줄인다."
      ],
      "metadata": {
        "id": "rAANC4dj1jkG"
      }
    },
    {
      "cell_type": "code",
      "source": [
        "answer[26] = 2"
      ],
      "metadata": {
        "id": "kjKbm80e1sgJ"
      },
      "execution_count": null,
      "outputs": []
    },
    {
      "cell_type": "markdown",
      "source": [
        "문제 27: 다음 중 원-핫 인코딩을 사용한 벡터 표현의 주요 단점은 무엇인가?\n",
        "\n",
        "1. 고차원이다.\n",
        "2. 고밀도다.\n",
        "3. 연산 속도가 빠르다.\n",
        "4. 단어 간의 유사성을 반영한다."
      ],
      "metadata": {
        "id": "FaeYLyXK1tzV"
      }
    },
    {
      "cell_type": "code",
      "source": [
        "answer[27] = 1"
      ],
      "metadata": {
        "id": "V8-hcpTd1yl0"
      },
      "execution_count": null,
      "outputs": []
    },
    {
      "cell_type": "markdown",
      "source": [
        "문제 28: 다음 중 텍스트 데이터를 처리하는 데 사용되는 RNN(순환 신경망)의 주요 특징은 무엇인가?\n",
        "\n",
        "1. 고정된 입력과 출력 크기를 가진다.\n",
        "2. 순차적인 데이터를 처리하는 데 적합하다.\n",
        "3. 병렬 처리가 가능하다.\n",
        "4. 이미지 분류에 주로 사용된다."
      ],
      "metadata": {
        "id": "4No2qjwQ1267"
      }
    },
    {
      "cell_type": "code",
      "source": [
        "answer[28] = 2"
      ],
      "metadata": {
        "id": "RbSO-ZGM15I8"
      },
      "execution_count": null,
      "outputs": []
    },
    {
      "cell_type": "markdown",
      "source": [
        "문제 29: 다음 중 로지스틱 회귀에서 사용되는 활성화 함수는 무엇인가?\n",
        "\n",
        "1. 시그모이드 함수\n",
        "2. ReLU 함수\n",
        "3. 하이퍼볼릭 탄젠트 함수\n",
        "4. 소프트맥스 함수"
      ],
      "metadata": {
        "id": "Z6UjQgHC1-gQ"
      }
    },
    {
      "cell_type": "code",
      "source": [
        "answer[29] = 1"
      ],
      "metadata": {
        "id": "P5LzyMxR2Cbp"
      },
      "execution_count": null,
      "outputs": []
    },
    {
      "cell_type": "markdown",
      "source": [
        "문제 30: 다음 중 Dense Layer에서 주로 사용되는 활성화 함수는 무엇인가?\n",
        "\n",
        "1. 시그모이드 함수\n",
        "2. ReLU 함수\n",
        "3. 하이퍼볼릭 탄젠트 함수\n",
        "4. 소프트맥스 함수"
      ],
      "metadata": {
        "id": "eWn4FSUQ2oui"
      }
    },
    {
      "cell_type": "code",
      "source": [
        "answer[30] = 2"
      ],
      "metadata": {
        "id": "aQhLEh5o2oVI"
      },
      "execution_count": null,
      "outputs": []
    },
    {
      "cell_type": "markdown",
      "source": [
        "실습 1\n",
        "아래 동작을 수행하는 파이썬 코드를 작성하시오.\n",
        "---\n",
        "1. sklearn 에서 fetch_20newsgroups 데이터 셋을 로드한다\n",
        "2. 로드한 데이터 셋에서 학습 데이터를 X, 레이블 데이터를 y 에 불러온다.\n",
        "3. X 의 데이터를 CountVectorizer 를 이용해서 벡터화 한다. 이 때 ngram_range 는 1에서 3으로 하고, max_features 는 2000 으로 한다. 벡터화 한 데이터는 X_ngram 에 저장한다.\n",
        "4. 이 데이터를 train_test_split 함수를 이용해 학습데이터, 테스트 데이터를 7:3 으로 나눈다.\n",
        "5. MultinomialNB 를 사용해 위에서 나눈 학습데이터로 학습을 한 모델을 naive_nb 에 저장한다.\n",
        "6. naive_nb 모델로 테스트 데이터를 예측하고 classification_report 함수를 사용해 결과를 계산한다."
      ],
      "metadata": {
        "id": "VKem5mUj3W3H"
      }
    },
    {
      "cell_type": "code",
      "source": [
        "from sklearn.datasets import fetch_20newsgroups\n",
        "from sklearn.feature_extraction.text import CountVectorizer\n",
        "from sklearn.naive_bayes import MultinomialNB\n",
        "from sklearn.metrics import classification_report\n",
        "from sklearn.model_selection import train_test_split\n",
        "\n",
        "# 데이터셋 로드\n",
        "newsgroups = fetch_20newsgroups(subset='all')\n",
        "\n",
        "# 학습 데이터와 레이블 데이터 로드\n",
        "X = newsgroups.data\n",
        "y = newsgroups.target\n",
        "\n",
        "# CountVectorizer로 벡터화\n",
        "vectorizer = CountVectorizer(ngram_range=(1, 3), max_features=2000)\n",
        "X_ngram = vectorizer.fit_transform(X)\n",
        "\n",
        "# 학습 데이터와 테스트 데이터 분리\n",
        "X_train, X_test, y_train, y_test = train_test_split(X_ngram, y, test_size=0.3, random_state=42)\n",
        "\n",
        "# MultinomialNB 모델 학습\n",
        "naive_nb = MultinomialNB()\n",
        "naive_nb.fit(X_train, y_train)\n",
        "\n",
        "# 테스트 데이터 예측 및 결과 출력\n",
        "y_pred = naive_nb.predict(X_test)\n",
        "print(classification_report(y_test, y_pred, target_names=newsgroups.target_names))\n"
      ],
      "metadata": {
        "id": "MCMddBQk4nuW",
        "colab": {
          "base_uri": "https://localhost:8080/"
        },
        "outputId": "bf8f9820-cbc3-463b-e401-486d079b2691"
      },
      "execution_count": 1,
      "outputs": [
        {
          "output_type": "stream",
          "name": "stdout",
          "text": [
            "                          precision    recall  f1-score   support\n",
            "\n",
            "             alt.atheism       0.67      0.74      0.71       236\n",
            "           comp.graphics       0.51      0.59      0.55       287\n",
            " comp.os.ms-windows.misc       1.00      0.02      0.05       290\n",
            "comp.sys.ibm.pc.hardware       0.43      0.62      0.51       285\n",
            "   comp.sys.mac.hardware       0.54      0.63      0.58       312\n",
            "          comp.windows.x       0.63      0.75      0.69       308\n",
            "            misc.forsale       0.59      0.83      0.69       276\n",
            "               rec.autos       0.70      0.73      0.72       304\n",
            "         rec.motorcycles       0.58      0.78      0.66       279\n",
            "      rec.sport.baseball       0.77      0.78      0.78       308\n",
            "        rec.sport.hockey       0.83      0.80      0.82       309\n",
            "               sci.crypt       0.91      0.73      0.81       290\n",
            "         sci.electronics       0.60      0.61      0.61       304\n",
            "                 sci.med       0.76      0.69      0.72       300\n",
            "               sci.space       0.83      0.79      0.81       297\n",
            "  soc.religion.christian       0.86      0.83      0.85       292\n",
            "      talk.politics.guns       0.74      0.79      0.76       270\n",
            "   talk.politics.mideast       0.94      0.75      0.83       272\n",
            "      talk.politics.misc       0.69      0.59      0.64       239\n",
            "      talk.religion.misc       0.68      0.46      0.55       196\n",
            "\n",
            "                accuracy                           0.68      5654\n",
            "               macro avg       0.71      0.68      0.67      5654\n",
            "            weighted avg       0.71      0.68      0.67      5654\n",
            "\n"
          ]
        }
      ]
    },
    {
      "cell_type": "markdown",
      "source": [
        "실습2\n",
        "\n",
        "sklearn 의 iris 문제를 학습, 테스트 데이터를 7:3 으로 나눠서 SVM 으로 학습하고 예측한 결과를 출력하는 파이썬 코드를 작성하시오."
      ],
      "metadata": {
        "id": "CZ3pKUGQ8M_7"
      }
    },
    {
      "cell_type": "code",
      "source": [
        "from sklearn.datasets import load_iris\n",
        "from sklearn.model_selection import train_test_split\n",
        "from sklearn.svm import SVC\n",
        "from sklearn.metrics import classification_report\n",
        "\n",
        "# iris 데이터셋 로드\n",
        "iris = load_iris()\n",
        "\n",
        "# 데이터와 레이블 분리\n",
        "X = iris.data\n",
        "y = iris.target\n",
        "\n",
        "# 학습 데이터와 테스트 데이터 분리\n",
        "X_train, X_test, y_train, y_test = train_test_split(X, y, test_size=0.3, random_state=42)\n",
        "\n",
        "# SVM 모델 학습\n",
        "svm = SVC(kernel='linear', C=1.0, random_state=42)\n",
        "svm.fit(X_train, y_train)\n",
        "\n",
        "# 테스트 데이터 예측 및 결과 출력\n",
        "y_pred = svm.predict(X_test)\n",
        "print(classification_report(y_test, y_pred, target_names=iris.target_names))\n"
      ],
      "metadata": {
        "id": "wSkJbuoD8oUy",
        "colab": {
          "base_uri": "https://localhost:8080/"
        },
        "outputId": "a7e0443d-194e-4e2f-ef8d-d6ac7b07bff3"
      },
      "execution_count": 2,
      "outputs": [
        {
          "output_type": "stream",
          "name": "stdout",
          "text": [
            "              precision    recall  f1-score   support\n",
            "\n",
            "      setosa       1.00      1.00      1.00        19\n",
            "  versicolor       1.00      1.00      1.00        13\n",
            "   virginica       1.00      1.00      1.00        13\n",
            "\n",
            "    accuracy                           1.00        45\n",
            "   macro avg       1.00      1.00      1.00        45\n",
            "weighted avg       1.00      1.00      1.00        45\n",
            "\n"
          ]
        }
      ]
    },
    {
      "cell_type": "markdown",
      "source": [
        "실습3\n",
        "\n",
        "keras 의 mnist 예제를 사용해서 아래 내용을 수행하는 코드를 작성하시오.\n",
        "\n",
        "1. keras.Sequential 을 사용하여 1개의 hidden layer, 1개의 output layer 를 구성\n",
        "2. hidden layer 의 perceptron 개수를 256 개\n",
        "3. 훈련할 때 epoch 는 5, 배치사이즈는 128 로 함\n",
        "4. 훈련 데이터의 반은 분리하여 validation 데이터로 사용\n",
        "5. 훈련 과정에서 overfitting 이 일어나는 epoch 를 찾기\n",
        "6. validation 데이터를 포함하고, overfitting 이 일어나지 않는 epoch 를 지정하여 다시 훈련\n",
        "7. 훈련된 모델로 테스트 데이터를 이용하여 정확도 출력 "
      ],
      "metadata": {
        "id": "guFZmxH8-ie8"
      }
    },
    {
      "cell_type": "code",
      "source": [
        "import numpy as np\n",
        "import tensorflow as tf\n",
        "from tensorflow import keras"
      ],
      "metadata": {
        "id": "d9GzVS_WBA4K"
      },
      "execution_count": 3,
      "outputs": []
    },
    {
      "cell_type": "code",
      "source": [
        "# MNIST 데이터셋 로드\n",
        "(x_train, y_train), (x_test, y_test) = keras.datasets.mnist.load_data()"
      ],
      "metadata": {
        "id": "N3MDvspZYh-W",
        "outputId": "29b24351-af6b-4389-ad61-c9c9cda95aeb",
        "colab": {
          "base_uri": "https://localhost:8080/"
        }
      },
      "execution_count": 4,
      "outputs": [
        {
          "output_type": "stream",
          "name": "stdout",
          "text": [
            "Downloading data from https://storage.googleapis.com/tensorflow/tf-keras-datasets/mnist.npz\n",
            "11490434/11490434 [==============================] - 0s 0us/step\n"
          ]
        }
      ]
    },
    {
      "cell_type": "code",
      "source": [
        "# 레이블 데이터 전처리\n",
        "num_classes = 10\n",
        "y_train = keras.utils.to_categorical(y_train, num_classes)\n",
        "y_test = keras.utils.to_categorical(y_test, num_classes)"
      ],
      "metadata": {
        "id": "1w-P-abhYlj1"
      },
      "execution_count": 5,
      "outputs": []
    },
    {
      "cell_type": "code",
      "source": [
        "# y_train 일부 출력\n",
        "print(\"y_train shape:\", y_train.shape)\n",
        "print(\"y_train[0:10]:\")\n",
        "print(y_train[0:10])\n"
      ],
      "metadata": {
        "id": "XL_EtDVtZRgt",
        "outputId": "b5ac089d-3f5e-4743-c9ce-00bc7bab3ec6",
        "colab": {
          "base_uri": "https://localhost:8080/"
        }
      },
      "execution_count": 6,
      "outputs": [
        {
          "output_type": "stream",
          "name": "stdout",
          "text": [
            "y_train shape: (60000, 10)\n",
            "y_train[0:10]:\n",
            "[[0. 0. 0. 0. 0. 1. 0. 0. 0. 0.]\n",
            " [1. 0. 0. 0. 0. 0. 0. 0. 0. 0.]\n",
            " [0. 0. 0. 0. 1. 0. 0. 0. 0. 0.]\n",
            " [0. 1. 0. 0. 0. 0. 0. 0. 0. 0.]\n",
            " [0. 0. 0. 0. 0. 0. 0. 0. 0. 1.]\n",
            " [0. 0. 1. 0. 0. 0. 0. 0. 0. 0.]\n",
            " [0. 1. 0. 0. 0. 0. 0. 0. 0. 0.]\n",
            " [0. 0. 0. 1. 0. 0. 0. 0. 0. 0.]\n",
            " [0. 1. 0. 0. 0. 0. 0. 0. 0. 0.]\n",
            " [0. 0. 0. 0. 1. 0. 0. 0. 0. 0.]]\n"
          ]
        }
      ]
    },
    {
      "cell_type": "code",
      "source": [
        "import matplotlib.pyplot as plt\n",
        "# 훈련 데이터 이미지 출력\n",
        "plt.figure(figsize=(10, 10))\n",
        "for i in range(25):\n",
        "    plt.subplot(5, 5, i+1)\n",
        "    plt.xticks([])\n",
        "    plt.yticks([])\n",
        "    plt.grid(False)\n",
        "    plt.imshow(x_train[i], cmap=plt.cm.binary)\n",
        "    plt.xlabel(str(y_train[i].argmax()))\n",
        "plt.show()"
      ],
      "metadata": {
        "id": "xVJc19cDaEVL",
        "outputId": "0de7ec0e-896f-4b8f-f876-06fe38d735d5",
        "colab": {
          "base_uri": "https://localhost:8080/",
          "height": 826
        }
      },
      "execution_count": 7,
      "outputs": [
        {
          "output_type": "display_data",
          "data": {
            "text/plain": [
              "<Figure size 1000x1000 with 25 Axes>"
            ],
            "image/png": "[encoded data removed]"
          },
          "metadata": {}
        }
      ]
    },
    {
      "cell_type": "code",
      "source": [
        "# 모델 생성\n",
        "model = keras.Sequential([\n",
        "    keras.layers.Flatten(input_shape=(28, 28, 1)),\n",
        "    keras.layers.Dense(256, activation='relu'),\n",
        "    keras.layers.Dense(num_classes, activation='softmax')\n",
        "])"
      ],
      "metadata": {
        "id": "yBTss5U9YqKm"
      },
      "execution_count": 8,
      "outputs": []
    },
    {
      "cell_type": "code",
      "source": [
        "# 모델 컴파일\n",
        "model.compile(optimizer='adam', loss='categorical_crossentropy', metrics=['accuracy'])\n"
      ],
      "metadata": {
        "id": "v50MTgr-YtiV"
      },
      "execution_count": 9,
      "outputs": []
    },
    {
      "cell_type": "code",
      "source": [
        "# 모델 훈련\n",
        "history = model.fit(x_train, y_train, epochs=5, batch_size=128, validation_split=0.5)\n"
      ],
      "metadata": {
        "id": "1010GyrPYxnF",
        "outputId": "80cc7c34-e6be-40a6-b475-76c50df38915",
        "colab": {
          "base_uri": "https://localhost:8080/"
        }
      },
      "execution_count": 10,
      "outputs": [
        {
          "output_type": "stream",
          "name": "stdout",
          "text": [
            "Epoch 1/5\n",
            "235/235 [==============================] - 3s 9ms/step - loss: 6.6562 - accuracy: 0.8686 - val_loss: 2.8913 - val_accuracy: 0.9044\n",
            "Epoch 2/5\n",
            "235/235 [==============================] - 2s 7ms/step - loss: 1.3885 - accuracy: 0.9360 - val_loss: 1.7862 - val_accuracy: 0.9224\n",
            "Epoch 3/5\n",
            "235/235 [==============================] - 2s 7ms/step - loss: 0.7064 - accuracy: 0.9545 - val_loss: 1.3337 - val_accuracy: 0.9349\n",
            "Epoch 4/5\n",
            "235/235 [==============================] - 2s 7ms/step - loss: 0.4225 - accuracy: 0.9664 - val_loss: 1.3249 - val_accuracy: 0.9417\n",
            "Epoch 5/5\n",
            "235/235 [==============================] - 2s 8ms/step - loss: 0.3403 - accuracy: 0.9722 - val_loss: 1.2070 - val_accuracy: 0.9429\n"
          ]
        }
      ]
    },
    {
      "cell_type": "code",
      "source": [
        "# overfitting이 일어나는 epoch 찾기\n",
        "val_loss = history.history['val_loss']\n",
        "min_val_loss = np.min(val_loss)\n",
        "min_val_loss_epoch = np.argmin(val_loss)\n",
        "print(\"Overfitting이 일어나는 epoch: {}, val_loss: {:.3f}\".format(min_val_loss_epoch, min_val_loss))\n"
      ],
      "metadata": {
        "id": "ylmQKqC9Y1FV",
        "outputId": "eccbfaf9-1fa6-48df-cd89-d2b727143dd4",
        "colab": {
          "base_uri": "https://localhost:8080/"
        }
      },
      "execution_count": 11,
      "outputs": [
        {
          "output_type": "stream",
          "name": "stdout",
          "text": [
            "Overfitting이 일어나는 epoch: 4, val_loss: 1.207\n"
          ]
        }
      ]
    },
    {
      "cell_type": "code",
      "source": [
        "# 다시 훈련\n",
        "best_epoch = min_val_loss_epoch\n",
        "model = keras.Sequential([\n",
        "    keras.layers.Flatten(input_shape=(28, 28, 1)),\n",
        "    keras.layers.Dense(256, activation='relu'),\n",
        "    keras.layers.Dense(num_classes, activation='softmax')\n",
        "])\n",
        "model.compile(optimizer='adam', loss='categorical_crossentropy', metrics=['accuracy'])\n",
        "history = model.fit(x_train, y_train, epochs=best_epoch, batch_size=128, validation_split=0.5)\n"
      ],
      "metadata": {
        "id": "kXQ241JqZA6F",
        "outputId": "e66eed76-135e-4515-8f39-18593cd20cf4",
        "colab": {
          "base_uri": "https://localhost:8080/"
        }
      },
      "execution_count": 12,
      "outputs": [
        {
          "output_type": "stream",
          "name": "stdout",
          "text": [
            "Epoch 1/4\n",
            "235/235 [==============================] - 5s 16ms/step - loss: 7.7650 - accuracy: 0.8650 - val_loss: 2.5919 - val_accuracy: 0.9044\n",
            "Epoch 2/4\n",
            "235/235 [==============================] - 2s 10ms/step - loss: 1.3098 - accuracy: 0.9382 - val_loss: 1.6265 - val_accuracy: 0.9271\n",
            "Epoch 3/4\n",
            "235/235 [==============================] - 2s 7ms/step - loss: 0.7128 - accuracy: 0.9549 - val_loss: 1.4858 - val_accuracy: 0.9347\n",
            "Epoch 4/4\n",
            "235/235 [==============================] - 2s 8ms/step - loss: 0.3994 - accuracy: 0.9678 - val_loss: 1.4155 - val_accuracy: 0.9386\n"
          ]
        }
      ]
    },
    {
      "cell_type": "code",
      "source": [
        "# 모델 평가\n",
        "test_loss, test_acc = model.evaluate(x_test, y_test)\n",
        "print(\"테스트 데이터의 정확도: {:.2f}%\".format(test_acc * 100))"
      ],
      "metadata": {
        "id": "26tqLnjDZHrt",
        "outputId": "2b921b69-aef3-4a8e-85df-9759ef7fdd84",
        "colab": {
          "base_uri": "https://localhost:8080/"
        }
      },
      "execution_count": 13,
      "outputs": [
        {
          "output_type": "stream",
          "name": "stdout",
          "text": [
            "313/313 [==============================] - 0s 2ms/step - loss: 1.2103 - accuracy: 0.9418\n",
            "테스트 데이터의 정확도: 94.18%\n"
          ]
        }
      ]
    },
    {
      "cell_type": "code",
      "source": [
        "# 검증 데이터 예측\n",
        "y_pred = model.predict(x_test)\n",
        "\n",
        "# 예측 결과 이미지 출력\n",
        "plt.figure(figsize=(10, 10))\n",
        "for i in range(25):\n",
        "    plt.subplot(5, 5, i+1)\n",
        "    plt.xticks([])\n",
        "    plt.yticks([])\n",
        "    plt.grid(False)\n",
        "    plt.imshow(x_test[i], cmap=plt.cm.binary)\n",
        "    plt.xlabel(str(y_pred[i].argmax()))\n",
        "plt.show()"
      ],
      "metadata": {
        "id": "pIPTdEAaauyj",
        "outputId": "1a161f42-52c6-4278-b828-0020991f1996",
        "colab": {
          "base_uri": "https://localhost:8080/",
          "height": 844
        }
      },
      "execution_count": 14,
      "outputs": [
        {
          "output_type": "stream",
          "name": "stdout",
          "text": [
            "313/313 [==============================] - 0s 1ms/step\n"
          ]
        },
        {
          "output_type": "display_data",
          "data": {
            "text/plain": [
              "<Figure size 1000x1000 with 25 Axes>"
            ],
            "image/png": "[encoded data removed]"
          },
          "metadata": {}
        }
      ]
    },
    {
      "cell_type": "code",
      "source": [],
      "metadata": {
        "id": "qCwOe7_kawBE"
      },
      "execution_count": null,
      "outputs": []
    }
  ]
}