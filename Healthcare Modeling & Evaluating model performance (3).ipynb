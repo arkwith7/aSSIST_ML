{
 "cells": [
  {
   "cell_type": "markdown",
   "metadata": {},
   "source": [
    "# Health-Care-Data-Analysis"
   ]
  },
  {
   "cell_type": "markdown",
   "metadata": {},
   "source": [
    "### - Modeling & Evaluating model performance (3) -"
   ]
  },
  {
   "cell_type": "markdown",
   "metadata": {},
   "source": [
    "## Load Libraries"
   ]
  },
  {
   "cell_type": "code",
   "execution_count": 1,
   "metadata": {},
   "outputs": [],
   "source": [
    "import pandas as pd\n",
    "import numpy as np\n",
    "import seaborn as sns\n",
    "import matplotlib\n",
    "import matplotlib.pyplot as plt\n",
    "%matplotlib inline"
   ]
  },
  {
   "cell_type": "code",
   "execution_count": 2,
   "metadata": {},
   "outputs": [],
   "source": [
    "import ipywidgets as widgets\n",
    "from IPython.display import display\n",
    "from IPython.display import set_matplotlib_formats"
   ]
  },
  {
   "cell_type": "code",
   "execution_count": 3,
   "metadata": {},
   "outputs": [],
   "source": [
    "# 폰트\n",
    "plt.rc(\"font\",family = \"Malgun Gothic\")\n",
    "\n",
    "# 선명하게 글씨체를 출력시킬때 \n",
    "set_matplotlib_formats('retina')\n",
    "\n",
    "# 음수 값 출력\n",
    "plt.rc('axes',unicode_minus=False)\n",
    "\n",
    "# 최대 출력 column수 지정 \n",
    "pd.options.display.max_columns = 100 "
   ]
  },
  {
   "cell_type": "code",
   "execution_count": 4,
   "metadata": {},
   "outputs": [],
   "source": [
    "df = pd.read_csv('health_real_fin.csv', encoding='utf-8')\n",
    "df['성별'] = df['성별'].astype('object')\n",
    "df['흡연상태'] = df['흡연상태'].astype('object')\n",
    "df['단백뇨'] = df['단백뇨'].astype('object')"
   ]
  },
  {
   "cell_type": "code",
   "execution_count": 5,
   "metadata": {},
   "outputs": [
    {
     "name": "stderr",
     "output_type": "stream",
     "text": [
      "C:\\Users\\Gyulee\\Anaconda3\\lib\\site-packages\\sklearn\\externals\\joblib\\__init__.py:15: DeprecationWarning: sklearn.externals.joblib is deprecated in 0.21 and will be removed in 0.23. Please import this functionality directly from joblib, which can be installed with: pip install joblib. If this warning is raised when loading pickled models, you may need to re-serialize those models with scikit-learn 0.21+.\n",
      "  warnings.warn(msg, category=DeprecationWarning)\n"
     ]
    }
   ],
   "source": [
    "import xgboost as xgb\n",
    "from sklearn.ensemble import GradientBoostingClassifier\n",
    "from sklearn.tree import DecisionTreeClassifier\n",
    "from sklearn.ensemble import RandomForestClassifier\n",
    "from sklearn.linear_model import LogisticRegression\n",
    "\n",
    "from sklearn.model_selection import train_test_split\n",
    "from sklearn.datasets import dump_svmlight_file\n",
    "from sklearn.externals import joblib\n",
    "from sklearn.metrics import accuracy_score, precision_score, recall_score, confusion_matrix"
   ]
  },
  {
   "cell_type": "code",
   "execution_count": 6,
   "metadata": {},
   "outputs": [],
   "source": [
    "dat = df.loc[:, ['가입자일련번호', '허리둘레', '수축기혈압', '이완기혈압', '식전혈당(공복혈당)', '총콜레스테롤', 'HDL콜레스테롤',\n",
    "                 'LDL콜레스테롤', '혈색소', '단백뇨', '혈청크레아티닌', '(혈청지오티)AST', '(혈청지오티)ALT', '감마지티피',\n",
    "                 '흡연상태', '성별', '신장', '체중','BMI', '나이', 'eGFR', '기초대사량']]"
   ]
  },
  {
   "cell_type": "code",
   "execution_count": 7,
   "metadata": {},
   "outputs": [],
   "source": [
    "cell = pd.read_csv('cell_img.csv', encoding='utf-8')\n",
    "# Mean, Max, SE는 서로 corr이 높아 분리하여 암 발병을 예측한다.\n",
    "\n",
    "cell = cell.loc[:, ['Image_ID', 'user_ID', 'Diagnosis']]\n",
    "\n",
    "# cell_mean = df.loc[:, df.columns.str.startswith('Mean')]\n",
    "# cell_mean = common.join(cell_mean)\n",
    "# cell_max = df.loc[:, df.columns.str.startswith('Max')]\n",
    "# cell_max = common.join(cell_max)\n",
    "# cell_se = df.loc[:, df.columns.str.startswith('SE')]\n",
    "# cell_se = common.join(cell_se)"
   ]
  },
  {
   "cell_type": "code",
   "execution_count": 8,
   "metadata": {},
   "outputs": [],
   "source": [
    "cols = cell.columns.to_list()\n",
    "cols[1] = '가입자일련번호'\n",
    "cell.columns = cols\n",
    "cell = pd.merge(cell, dat, how='inner', on='가입자일련번호')\n",
    "cell.drop(['Image_ID', '가입자일련번호'], axis=1, inplace=True)"
   ]
  },
  {
   "cell_type": "code",
   "execution_count": 9,
   "metadata": {},
   "outputs": [],
   "source": [
    "cell['Diagnosis'] = np.where(cell['Diagnosis'] == 'M', 1, 0)\n",
    "Y = cell['Diagnosis']\n",
    "X = cell.iloc[:, 1:23]\n",
    "X = pd.get_dummies(X)"
   ]
  },
  {
   "cell_type": "markdown",
   "metadata": {},
   "source": [
    "## 암 예측 모델"
   ]
  },
  {
   "cell_type": "markdown",
   "metadata": {},
   "source": [
    "#### XGBoost"
   ]
  },
  {
   "cell_type": "code",
   "execution_count": 10,
   "metadata": {
    "scrolled": true
   },
   "outputs": [
    {
     "name": "stdout",
     "output_type": "stream",
     "text": [
      "[0]\ttrain-merror:0.041176\ttest-merror:0.041096\n",
      "Multiple eval metrics have been passed: 'test-merror' will be used for early stopping.\n",
      "\n",
      "Will train until test-merror hasn't improved in 20 rounds.\n",
      "[1]\ttrain-merror:0.035294\ttest-merror:0.041096\n"
     ]
    },
    {
     "name": "stderr",
     "output_type": "stream",
     "text": [
      "C:\\Users\\Gyulee\\Anaconda3\\lib\\site-packages\\xgboost\\core.py:587: FutureWarning: Series.base is deprecated and will be removed in a future version\n",
      "  if getattr(data, 'base', None) is not None and \\\n"
     ]
    },
    {
     "name": "stdout",
     "output_type": "stream",
     "text": [
      "[2]\ttrain-merror:0.035294\ttest-merror:0.041096\n",
      "[3]\ttrain-merror:0.035294\ttest-merror:0.041096\n",
      "[4]\ttrain-merror:0.029412\ttest-merror:0.054795\n",
      "[5]\ttrain-merror:0.029412\ttest-merror:0.054795\n",
      "[6]\ttrain-merror:0.029412\ttest-merror:0.054795\n",
      "[7]\ttrain-merror:0.023529\ttest-merror:0.054795\n",
      "[8]\ttrain-merror:0.023529\ttest-merror:0.054795\n",
      "[9]\ttrain-merror:0.023529\ttest-merror:0.054795\n",
      "[10]\ttrain-merror:0.023529\ttest-merror:0.054795\n",
      "[11]\ttrain-merror:0.023529\ttest-merror:0.054795\n",
      "[12]\ttrain-merror:0.023529\ttest-merror:0.054795\n",
      "[13]\ttrain-merror:0.023529\ttest-merror:0.054795\n",
      "[14]\ttrain-merror:0.023529\ttest-merror:0.054795\n",
      "[15]\ttrain-merror:0.023529\ttest-merror:0.054795\n",
      "[16]\ttrain-merror:0.023529\ttest-merror:0.054795\n",
      "[17]\ttrain-merror:0.023529\ttest-merror:0.054795\n",
      "[18]\ttrain-merror:0.023529\ttest-merror:0.054795\n",
      "[19]\ttrain-merror:0.023529\ttest-merror:0.054795\n",
      "[20]\ttrain-merror:0.023529\ttest-merror:0.054795\n",
      "Stopping. Best iteration:\n",
      "[0]\ttrain-merror:0.041176\ttest-merror:0.041096\n",
      "\n"
     ]
    }
   ],
   "source": [
    "X_train, X_test, y_train, y_test = train_test_split(X, Y, test_size=0.3, random_state=1234)\n",
    "\n",
    "# features = X_train.columns.values.tolist()\n",
    "\n",
    "# use DMatrix for xgbosot\n",
    "dtrain = xgb.DMatrix(X_train, label=y_train)\n",
    "dtest = xgb.DMatrix(X_test, label=y_test)\n",
    "\n",
    "# set xgboost params\n",
    "param = {\n",
    "    'max_depth': 10,  # the maximum depth of each tree\n",
    "    'eta': 0.05,  # the training step for each iteration\n",
    "    'silent': 1,  # logging mode - quiet\n",
    "    'objective': 'multi:softprob',  # error evaluation for multiclass training\n",
    "    'num_class': 4,\n",
    "    'colsample_bytree': 0.85,\n",
    "    'subsample': 0.85}  # the number of classes that exist in this datset\n",
    "num_round = 500  # the number of training iterations\n",
    "\n",
    "#------------- numpy array ------------------\n",
    "# training and testing - numpy matrices\n",
    "# bst = xgb.train(param, dtrain, num_round)\n",
    "# preds = bst.predict(dtest)\n",
    "\n",
    "watch_list = [(dtrain, 'train'), (dtest, 'test')]\n",
    "model = xgb.train(param, dtrain, num_round, evals=watch_list,\n",
    "                 early_stopping_rounds=20)\n",
    "\n",
    "# extracting most confident predictions\n",
    "# preds = model.predict(dtest)\n",
    "# best_preds = np.asarray([np.argmax(line) for line in preds])\n",
    "# print(\"Numpy array precision:\", precision_score(y_test, best_preds, average='macro'))"
   ]
  },
  {
   "cell_type": "code",
   "execution_count": 11,
   "metadata": {},
   "outputs": [
    {
     "name": "stdout",
     "output_type": "stream",
     "text": [
      "Numpy array precision: 0.9741379310344828\n",
      "              precision    recall  f1-score   support\n",
      "\n",
      "       양성 종양      0.948     1.000     0.973        55\n",
      "       악성 종양      1.000     0.833     0.909        18\n",
      "\n",
      "    accuracy                          0.959        73\n",
      "   macro avg      0.974     0.917     0.941        73\n",
      "weighted avg      0.961     0.959     0.958        73\n",
      "\n"
     ]
    }
   ],
   "source": [
    "preds = model.predict(dtest, ntree_limit=model.best_ntree_limit)\n",
    "best_preds = np.asarray([np.argmax(line) for line in preds])\n",
    "print(\"Numpy array precision:\", precision_score(y_test, best_preds, average='macro'))\n",
    "# print('Confusion Matrix: \\n{}'.format(confusion_matrix(y_test, preds)))\n",
    "from sklearn.metrics import classification_report\n",
    "target_names = ['양성 종양', '악성 종양']\n",
    "print(classification_report(y_test, best_preds, target_names=target_names, digits=3))"
   ]
  },
  {
   "cell_type": "markdown",
   "metadata": {},
   "source": [
    "#### GBM"
   ]
  },
  {
   "cell_type": "code",
   "execution_count": 12,
   "metadata": {},
   "outputs": [
    {
     "name": "stdout",
     "output_type": "stream",
     "text": [
      "Accuracy on test set: 0.959\n",
      "              precision    recall  f1-score   support\n",
      "\n",
      "       양성 종양      0.948     1.000     0.973        55\n",
      "       악성 종양      1.000     0.833     0.909        18\n",
      "\n",
      "    accuracy                          0.959        73\n",
      "   macro avg      0.974     0.917     0.941        73\n",
      "weighted avg      0.961     0.959     0.958        73\n",
      "\n"
     ]
    }
   ],
   "source": [
    "gb_final = GradientBoostingClassifier(random_state = 1234,\n",
    "                                learning_rate = 0.04, n_estimators = 300,\n",
    "                                   max_depth = 7, min_samples_leaf = 2, min_samples_split = 4)\n",
    "gb_final.fit(X_train, y_train)\n",
    "y_pred = gb_final.predict(X_test)\n",
    "\n",
    "# print('Accuracy on training set: {:.3f}'.format(gb_final.score(X_train, y_train)))\n",
    "print('Accuracy on test set: {:.3f}'.format(gb_final.score(X_test, y_test)))\n",
    "# print('Confusion Matrix: \\n{}'.format(confusion_matrix(y_test, y_pred)))\n",
    "print(classification_report(y_test, y_pred, target_names=target_names, digits=3))"
   ]
  },
  {
   "cell_type": "markdown",
   "metadata": {},
   "source": [
    "#### RF"
   ]
  },
  {
   "cell_type": "code",
   "execution_count": 13,
   "metadata": {},
   "outputs": [
    {
     "name": "stdout",
     "output_type": "stream",
     "text": [
      "Accuracy: 0.959\n",
      "\n",
      "              precision    recall  f1-score   support\n",
      "\n",
      "       양성 종양      0.948     1.000     0.973        55\n",
      "       악성 종양      1.000     0.833     0.909        18\n",
      "\n",
      "    accuracy                          0.959        73\n",
      "   macro avg      0.974     0.917     0.941        73\n",
      "weighted avg      0.961     0.959     0.958        73\n",
      "\n"
     ]
    }
   ],
   "source": [
    "rf_final = RandomForestClassifier(random_state = 1234, \n",
    "                                max_depth = 5, n_estimators = 500, min_samples_split = 2, \n",
    "                                  min_samples_leaf = 1)\n",
    "rf_final.fit(X_train, y_train)\n",
    "\n",
    "y_pred = rf_final.predict(X_test)\n",
    "print('Accuracy: {0:.3f}\\n'.format(rf_final.score(X_test, y_test)))\n",
    "# print('Confusion Matrix: \\n{}'.format(confusion_matrix(y_test, y_pred)))\n",
    "print(classification_report(y_test, y_pred, target_names=target_names, digits=3))"
   ]
  },
  {
   "cell_type": "markdown",
   "metadata": {},
   "source": [
    "#### Logistic Reg"
   ]
  },
  {
   "cell_type": "code",
   "execution_count": 14,
   "metadata": {},
   "outputs": [
    {
     "name": "stdout",
     "output_type": "stream",
     "text": [
      "Accuracy: 0.863\n",
      "\n",
      "              precision    recall  f1-score   support\n",
      "\n",
      "       양성 종양      0.909     0.909     0.909        55\n",
      "       악성 종양      0.722     0.722     0.722        18\n",
      "\n",
      "    accuracy                          0.863        73\n",
      "   macro avg      0.816     0.816     0.816        73\n",
      "weighted avg      0.863     0.863     0.863        73\n",
      "\n"
     ]
    },
    {
     "name": "stderr",
     "output_type": "stream",
     "text": [
      "C:\\Users\\Gyulee\\Anaconda3\\lib\\site-packages\\sklearn\\linear_model\\logistic.py:947: ConvergenceWarning: lbfgs failed to converge. Increase the number of iterations.\n",
      "  \"of iterations.\", ConvergenceWarning)\n"
     ]
    }
   ],
   "source": [
    "softmax_reg = LogisticRegression(multi_class = 'multinomial',\n",
    "                                solver='lbfgs', C=10, random_state=1234)\n",
    "softmax_reg.fit(X_train, y_train)\n",
    "\n",
    "y_pred = softmax_reg.predict(X_test)\n",
    "print('Accuracy: {0:.3f}\\n'.format(softmax_reg.score(X_test, y_test)))\n",
    "# print('Accuracy: {0:.3f}\\n'.format(softmax_reg.score(X_test, y_test)))\n",
    "# print('Confusion Matrix: \\n{}'.format(confusion_matrix(y_test, y_pred)))\n",
    "print(classification_report(y_test, y_pred, target_names=target_names, digits=3))"
   ]
  },
  {
   "cell_type": "markdown",
   "metadata": {},
   "source": [
    "#### DT"
   ]
  },
  {
   "cell_type": "code",
   "execution_count": 15,
   "metadata": {},
   "outputs": [
    {
     "name": "stdout",
     "output_type": "stream",
     "text": [
      "Accuracy: 0.932\n",
      "\n",
      "              precision    recall  f1-score   support\n",
      "\n",
      "       양성 종양      0.946     0.964     0.955        55\n",
      "       악성 종양      0.882     0.833     0.857        18\n",
      "\n",
      "    accuracy                          0.932        73\n",
      "   macro avg      0.914     0.898     0.906        73\n",
      "weighted avg      0.931     0.932     0.931        73\n",
      "\n"
     ]
    }
   ],
   "source": [
    "tree_final = DecisionTreeClassifier(random_state = 1234,\n",
    "                                  max_depth = 3, min_samples_split = 2, min_samples_leaf = 1)\n",
    "tree_final.fit(X_train, y_train)\n",
    "\n",
    "y_pred = tree_final.predict(X_test)\n",
    "print('Accuracy: {0:.3f}\\n'.format(tree_final.score(X_test, y_test)))\n",
    "# print('Confusion Matrix: \\n{}'.format(confusion_matrix(y_test, y_pred)))\n",
    "print(classification_report(y_test, y_pred, target_names=target_names, digits=3))"
   ]
  }
 ],
 "metadata": {
  "kernelspec": {
   "display_name": "Python 3",
   "language": "python",
   "name": "python3"
  },
  "language_info": {
   "codemirror_mode": {
    "name": "ipython",
    "version": 3
   },
   "file_extension": ".py",
   "mimetype": "text/x-python",
   "name": "python",
   "nbconvert_exporter": "python",
   "pygments_lexer": "ipython3",
   "version": "3.7.4"
  },
  "varInspector": {
   "cols": {
    "lenName": 16,
    "lenType": 16,
    "lenVar": 40
   },
   "kernels_config": {
    "python": {
     "delete_cmd_postfix": "",
     "delete_cmd_prefix": "del ",
     "library": "var_list.py",
     "varRefreshCmd": "print(var_dic_list())"
    },
    "r": {
     "delete_cmd_postfix": ") ",
     "delete_cmd_prefix": "rm(",
     "library": "var_list.r",
     "varRefreshCmd": "cat(var_dic_list()) "
    }
   },
   "types_to_exclude": [
    "module",
    "function",
    "builtin_function_or_method",
    "instance",
    "_Feature"
   ],
   "window_display": false
  }
 },
 "nbformat": 4,
 "nbformat_minor": 2
}
