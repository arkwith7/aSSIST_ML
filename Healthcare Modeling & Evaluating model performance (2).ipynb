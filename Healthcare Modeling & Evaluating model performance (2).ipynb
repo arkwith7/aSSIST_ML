{
 "cells": [
  {
   "cell_type": "markdown",
   "metadata": {},
   "source": [
    "# Health-Care-Data-Analysis"
   ]
  },
  {
   "cell_type": "markdown",
   "metadata": {},
   "source": [
    "### - Modeling & Evaluating model performance (2) -"
   ]
  },
  {
   "cell_type": "markdown",
   "metadata": {},
   "source": [
    "## Load Libraries"
   ]
  },
  {
   "cell_type": "code",
   "execution_count": 1,
   "metadata": {},
   "outputs": [],
   "source": [
    "import pandas as pd\n",
    "import numpy as np\n",
    "import seaborn as sns\n",
    "import matplotlib\n",
    "import matplotlib.pyplot as plt\n",
    "%matplotlib inline"
   ]
  },
  {
   "cell_type": "code",
   "execution_count": 2,
   "metadata": {},
   "outputs": [],
   "source": [
    "import ipywidgets as widgets\n",
    "from IPython.display import display\n",
    "from IPython.display import set_matplotlib_formats"
   ]
  },
  {
   "cell_type": "code",
   "execution_count": 3,
   "metadata": {},
   "outputs": [],
   "source": [
    "# 폰트\n",
    "plt.rc(\"font\",family = \"Malgun Gothic\")\n",
    "\n",
    "# 선명하게 글씨체를 출력시킬때 \n",
    "set_matplotlib_formats('retina')\n",
    "\n",
    "# 음수 값 출력\n",
    "plt.rc('axes',unicode_minus=False)\n",
    "\n",
    "# 최대 출력 column수 지정 \n",
    "pd.options.display.max_columns = 100 "
   ]
  },
  {
   "cell_type": "code",
   "execution_count": 4,
   "metadata": {},
   "outputs": [],
   "source": [
    "df = pd.read_csv('health_real_fin.csv', encoding='utf-8')\n",
    "df['성별'] = df['성별'].astype('object')\n",
    "df['흡연상태'] = df['흡연상태'].astype('object')\n",
    "df['단백뇨'] = df['단백뇨'].astype('object')"
   ]
  },
  {
   "cell_type": "code",
   "execution_count": 5,
   "metadata": {},
   "outputs": [
    {
     "name": "stderr",
     "output_type": "stream",
     "text": [
      "C:\\Users\\Gyulee\\Anaconda3\\lib\\site-packages\\sklearn\\externals\\joblib\\__init__.py:15: DeprecationWarning: sklearn.externals.joblib is deprecated in 0.21 and will be removed in 0.23. Please import this functionality directly from joblib, which can be installed with: pip install joblib. If this warning is raised when loading pickled models, you may need to re-serialize those models with scikit-learn 0.21+.\n",
      "  warnings.warn(msg, category=DeprecationWarning)\n"
     ]
    }
   ],
   "source": [
    "import xgboost as xgb\n",
    "from sklearn.ensemble import GradientBoostingClassifier\n",
    "from sklearn.tree import DecisionTreeClassifier\n",
    "from sklearn.ensemble import RandomForestClassifier\n",
    "from sklearn.linear_model import LogisticRegression\n",
    "\n",
    "from sklearn.model_selection import train_test_split\n",
    "from sklearn.datasets import dump_svmlight_file\n",
    "from sklearn.externals import joblib\n",
    "from sklearn.metrics import accuracy_score, precision_score, recall_score, confusion_matrix"
   ]
  },
  {
   "cell_type": "code",
   "execution_count": 6,
   "metadata": {},
   "outputs": [],
   "source": [
    "dat = df.loc[:, ['심혈관질환', '허리둘레', '수축기혈압', '이완기혈압', '식전혈당(공복혈당)', '총콜레스테롤', 'HDL콜레스테롤',\n",
    "                 'LDL콜레스테롤', '혈색소', '단백뇨', '혈청크레아티닌', '(혈청지오티)AST', '(혈청지오티)ALT', '감마지티피',\n",
    "                 '흡연상태', '성별', '신장', '체중','BMI', '나이', 'eGFR', '기초대사량']]"
   ]
  },
  {
   "cell_type": "code",
   "execution_count": 7,
   "metadata": {},
   "outputs": [],
   "source": [
    "# dat = df.loc[:, ['허리둘레', '수축기혈압', '이완기혈압', '식전혈당(공복혈당)', '총콜레스테롤', 'HDL콜레스테롤',\n",
    "#                  'LDL콜레스테롤', '혈색소', '단백뇨', '혈청크레아티닌', '(혈청지오티)AST', '(혈청지오티)ALT', '감마지티피',\n",
    "#                  '흡연상태', '성별', '신장', '체중','BMI', '나이', 'eGFR', '기초대사량',\n",
    "#                 '고혈압_k', '대사증후군_k', '당뇨_k', '빈혈_k', '단백뇨_k', 'whtr_k', '혈청크레아티닌_진단', 'eGFR_진단',\n",
    "#                 '고지혈증', '고혈압', '신장질환', '심혈관질환',]]"
   ]
  },
  {
   "cell_type": "markdown",
   "metadata": {},
   "source": [
    "## 심혈관질환 예측 모델"
   ]
  },
  {
   "cell_type": "markdown",
   "metadata": {},
   "source": [
    "#### XGBoost"
   ]
  },
  {
   "cell_type": "code",
   "execution_count": 8,
   "metadata": {},
   "outputs": [],
   "source": [
    "def obj_to_int(row):\n",
    "    if row == '저위험' :\n",
    "        return 0\n",
    "    elif row == '중등도위험' :\n",
    "        return 1\n",
    "    elif row == '고위험' :\n",
    "        return 2\n",
    "    else:\n",
    "        return 3"
   ]
  },
  {
   "cell_type": "code",
   "execution_count": 9,
   "metadata": {},
   "outputs": [],
   "source": [
    "Y = dat['심혈관질환']\n",
    "Y = Y.apply(obj_to_int)\n",
    "X = dat.iloc[:, 1:]\n",
    "cols = ['허리둘레', '수축기혈압', '이완기혈압', '공복혈당', '총콜레스테롤','HDL콜레스테롤', 'LDL콜레스테롤', '혈색소', \n",
    "        '단백뇨', '혈청크레아티닌', 'AST', 'ALT', '감마지티피', '흡연상태', '성별', '신장', '체중', 'BMI',\n",
    "        '나이', 'eGFR', '기초대사량']\n",
    "X.columns = cols\n",
    "nobj_cols = X.select_dtypes(exclude='object').columns\n",
    "X.columns = cols\n",
    "X = pd.get_dummies(X)"
   ]
  },
  {
   "cell_type": "code",
   "execution_count": 10,
   "metadata": {
    "scrolled": true
   },
   "outputs": [
    {
     "name": "stderr",
     "output_type": "stream",
     "text": [
      "C:\\Users\\Gyulee\\Anaconda3\\lib\\site-packages\\xgboost\\core.py:587: FutureWarning: Series.base is deprecated and will be removed in a future version\n",
      "  if getattr(data, 'base', None) is not None and \\\n"
     ]
    },
    {
     "name": "stdout",
     "output_type": "stream",
     "text": [
      "[0]\ttrain-merror:0.070002\ttest-merror:0.085681\n",
      "Multiple eval metrics have been passed: 'test-merror' will be used for early stopping.\n",
      "\n",
      "Will train until test-merror hasn't improved in 20 rounds.\n",
      "[1]\ttrain-merror:0.032951\ttest-merror:0.04837\n",
      "[2]\ttrain-merror:0.033693\ttest-merror:0.04813\n",
      "[3]\ttrain-merror:0.031405\ttest-merror:0.046928\n",
      "[4]\ttrain-merror:0.031446\ttest-merror:0.048226\n",
      "[5]\ttrain-merror:0.02545\ttest-merror:0.039812\n",
      "[6]\ttrain-merror:0.022235\ttest-merror:0.036398\n",
      "[7]\ttrain-merror:0.021143\ttest-merror:0.033849\n",
      "[8]\ttrain-merror:0.020442\ttest-merror:0.033032\n",
      "[9]\ttrain-merror:0.020422\ttest-merror:0.032359\n",
      "[10]\ttrain-merror:0.020896\ttest-merror:0.033321\n",
      "[11]\ttrain-merror:0.019865\ttest-merror:0.032118\n",
      "[12]\ttrain-merror:0.019391\ttest-merror:0.03207\n",
      "[13]\ttrain-merror:0.018773\ttest-merror:0.031349\n",
      "[14]\ttrain-merror:0.018278\ttest-merror:0.030965\n",
      "[15]\ttrain-merror:0.018175\ttest-merror:0.030388\n",
      "[16]\ttrain-merror:0.01834\ttest-merror:0.030532\n",
      "[17]\ttrain-merror:0.017763\ttest-merror:0.030147\n",
      "[18]\ttrain-merror:0.017681\ttest-merror:0.030195\n",
      "[19]\ttrain-merror:0.017289\ttest-merror:0.030243\n",
      "[20]\ttrain-merror:0.016733\ttest-merror:0.029714\n",
      "[21]\ttrain-merror:0.016238\ttest-merror:0.028993\n",
      "[22]\ttrain-merror:0.015167\ttest-merror:0.028801\n",
      "[23]\ttrain-merror:0.014384\ttest-merror:0.027647\n",
      "[24]\ttrain-merror:0.013786\ttest-merror:0.027262\n",
      "[25]\ttrain-merror:0.013292\ttest-merror:0.027022\n",
      "[26]\ttrain-merror:0.013044\ttest-merror:0.026685\n",
      "[27]\ttrain-merror:0.012735\ttest-merror:0.026397\n",
      "[28]\ttrain-merror:0.011993\ttest-merror:0.025627\n",
      "[29]\ttrain-merror:0.011828\ttest-merror:0.025339\n",
      "[30]\ttrain-merror:0.011416\ttest-merror:0.025002\n",
      "[31]\ttrain-merror:0.010963\ttest-merror:0.02481\n",
      "[32]\ttrain-merror:0.010736\ttest-merror:0.024906\n",
      "[33]\ttrain-merror:0.010242\ttest-merror:0.024618\n",
      "[34]\ttrain-merror:0.009747\ttest-merror:0.023704\n",
      "[35]\ttrain-merror:0.009665\ttest-merror:0.023704\n",
      "[36]\ttrain-merror:0.009685\ttest-merror:0.023368\n",
      "[37]\ttrain-merror:0.009417\ttest-merror:0.02332\n",
      "[38]\ttrain-merror:0.008964\ttest-merror:0.022983\n",
      "[39]\ttrain-merror:0.008593\ttest-merror:0.022598\n",
      "[40]\ttrain-merror:0.007893\ttest-merror:0.022021\n",
      "[41]\ttrain-merror:0.007625\ttest-merror:0.021733\n",
      "[42]\ttrain-merror:0.007068\ttest-merror:0.020867\n",
      "[43]\ttrain-merror:0.0068\ttest-merror:0.020819\n",
      "[44]\ttrain-merror:0.006532\ttest-merror:0.020579\n",
      "[45]\ttrain-merror:0.006326\ttest-merror:0.020387\n",
      "[46]\ttrain-merror:0.005935\ttest-merror:0.02005\n",
      "[47]\ttrain-merror:0.005461\ttest-merror:0.019665\n",
      "[48]\ttrain-merror:0.005337\ttest-merror:0.019473\n",
      "[49]\ttrain-merror:0.005131\ttest-merror:0.019233\n",
      "[50]\ttrain-merror:0.004595\ttest-merror:0.0188\n",
      "[51]\ttrain-merror:0.004431\ttest-merror:0.018752\n",
      "[52]\ttrain-merror:0.004224\ttest-merror:0.018656\n",
      "[53]\ttrain-merror:0.004163\ttest-merror:0.0188\n",
      "[54]\ttrain-merror:0.00408\ttest-merror:0.018319\n",
      "[55]\ttrain-merror:0.003915\ttest-merror:0.018559\n",
      "[56]\ttrain-merror:0.003524\ttest-merror:0.017934\n",
      "[57]\ttrain-merror:0.003421\ttest-merror:0.018127\n",
      "[58]\ttrain-merror:0.00305\ttest-merror:0.017502\n",
      "[59]\ttrain-merror:0.002844\ttest-merror:0.017454\n",
      "[60]\ttrain-merror:0.002741\ttest-merror:0.017069\n",
      "[61]\ttrain-merror:0.002638\ttest-merror:0.01678\n",
      "[62]\ttrain-merror:0.002617\ttest-merror:0.01654\n",
      "[63]\ttrain-merror:0.002452\ttest-merror:0.01654\n",
      "[64]\ttrain-merror:0.002205\ttest-merror:0.016636\n",
      "[65]\ttrain-merror:0.001958\ttest-merror:0.016396\n",
      "[66]\ttrain-merror:0.001978\ttest-merror:0.016155\n",
      "[67]\ttrain-merror:0.001813\ttest-merror:0.016155\n",
      "[68]\ttrain-merror:0.001628\ttest-merror:0.016011\n",
      "[69]\ttrain-merror:0.001442\ttest-merror:0.015771\n",
      "[70]\ttrain-merror:0.001442\ttest-merror:0.015867\n",
      "[71]\ttrain-merror:0.001381\ttest-merror:0.015578\n",
      "[72]\ttrain-merror:0.001319\ttest-merror:0.01553\n",
      "[73]\ttrain-merror:0.001175\ttest-merror:0.015338\n",
      "[74]\ttrain-merror:0.001175\ttest-merror:0.015242\n",
      "[75]\ttrain-merror:0.001113\ttest-merror:0.015242\n",
      "[76]\ttrain-merror:0.001072\ttest-merror:0.015194\n",
      "[77]\ttrain-merror:0.001051\ttest-merror:0.015146\n",
      "[78]\ttrain-merror:0.00101\ttest-merror:0.015001\n",
      "[79]\ttrain-merror:0.000969\ttest-merror:0.014713\n",
      "[80]\ttrain-merror:0.000907\ttest-merror:0.014473\n",
      "[81]\ttrain-merror:0.000907\ttest-merror:0.014569\n",
      "[82]\ttrain-merror:0.000886\ttest-merror:0.014376\n",
      "[83]\ttrain-merror:0.000824\ttest-merror:0.014184\n",
      "[84]\ttrain-merror:0.000742\ttest-merror:0.014328\n",
      "[85]\ttrain-merror:0.000742\ttest-merror:0.013992\n",
      "[86]\ttrain-merror:0.00068\ttest-merror:0.013896\n",
      "[87]\ttrain-merror:0.000577\ttest-merror:0.013655\n",
      "[88]\ttrain-merror:0.000598\ttest-merror:0.013703\n",
      "[89]\ttrain-merror:0.000515\ttest-merror:0.013703\n",
      "[90]\ttrain-merror:0.000495\ttest-merror:0.013655\n",
      "[91]\ttrain-merror:0.000453\ttest-merror:0.013703\n",
      "[92]\ttrain-merror:0.000495\ttest-merror:0.013703\n",
      "[93]\ttrain-merror:0.000433\ttest-merror:0.013655\n",
      "[94]\ttrain-merror:0.000392\ttest-merror:0.013559\n",
      "[95]\ttrain-merror:0.000371\ttest-merror:0.013655\n",
      "[96]\ttrain-merror:0.000371\ttest-merror:0.013703\n",
      "[97]\ttrain-merror:0.00035\ttest-merror:0.013655\n",
      "[98]\ttrain-merror:0.00035\ttest-merror:0.013367\n",
      "[99]\ttrain-merror:0.00033\ttest-merror:0.013367\n",
      "[100]\ttrain-merror:0.000288\ttest-merror:0.013319\n",
      "[101]\ttrain-merror:0.000227\ttest-merror:0.013367\n",
      "[102]\ttrain-merror:0.000206\ttest-merror:0.013367\n",
      "[103]\ttrain-merror:0.000206\ttest-merror:0.013078\n",
      "[104]\ttrain-merror:0.000206\ttest-merror:0.013174\n",
      "[105]\ttrain-merror:0.000206\ttest-merror:0.01303\n",
      "[106]\ttrain-merror:0.000206\ttest-merror:0.013078\n",
      "[107]\ttrain-merror:0.000185\ttest-merror:0.013078\n",
      "[108]\ttrain-merror:0.000185\ttest-merror:0.012982\n",
      "[109]\ttrain-merror:0.000165\ttest-merror:0.012982\n",
      "[110]\ttrain-merror:0.000144\ttest-merror:0.012886\n",
      "[111]\ttrain-merror:0.000144\ttest-merror:0.01303\n",
      "[112]\ttrain-merror:0.000144\ttest-merror:0.012886\n",
      "[113]\ttrain-merror:0.000124\ttest-merror:0.012886\n",
      "[114]\ttrain-merror:0.000103\ttest-merror:0.012838\n",
      "[115]\ttrain-merror:0.000103\ttest-merror:0.012742\n",
      "[116]\ttrain-merror:0.000103\ttest-merror:0.01279\n",
      "[117]\ttrain-merror:0.000103\ttest-merror:0.012645\n",
      "[118]\ttrain-merror:0.000103\ttest-merror:0.012742\n",
      "[119]\ttrain-merror:0.000103\ttest-merror:0.012694\n",
      "[120]\ttrain-merror:8.2e-05\ttest-merror:0.012549\n",
      "[121]\ttrain-merror:8.2e-05\ttest-merror:0.012645\n",
      "[122]\ttrain-merror:8.2e-05\ttest-merror:0.012357\n",
      "[123]\ttrain-merror:8.2e-05\ttest-merror:0.012357\n",
      "[124]\ttrain-merror:8.2e-05\ttest-merror:0.012405\n",
      "[125]\ttrain-merror:6.2e-05\ttest-merror:0.012453\n",
      "[126]\ttrain-merror:6.2e-05\ttest-merror:0.012405\n",
      "[127]\ttrain-merror:6.2e-05\ttest-merror:0.012501\n",
      "[128]\ttrain-merror:6.2e-05\ttest-merror:0.012405\n",
      "[129]\ttrain-merror:6.2e-05\ttest-merror:0.012309\n",
      "[130]\ttrain-merror:6.2e-05\ttest-merror:0.012261\n",
      "[131]\ttrain-merror:6.2e-05\ttest-merror:0.012213\n",
      "[132]\ttrain-merror:6.2e-05\ttest-merror:0.012213\n",
      "[133]\ttrain-merror:4.1e-05\ttest-merror:0.012213\n",
      "[134]\ttrain-merror:6.2e-05\ttest-merror:0.012309\n",
      "[135]\ttrain-merror:4.1e-05\ttest-merror:0.012261\n",
      "[136]\ttrain-merror:4.1e-05\ttest-merror:0.012309\n",
      "[137]\ttrain-merror:4.1e-05\ttest-merror:0.012261\n",
      "[138]\ttrain-merror:4.1e-05\ttest-merror:0.012309\n",
      "[139]\ttrain-merror:4.1e-05\ttest-merror:0.012165\n",
      "[140]\ttrain-merror:4.1e-05\ttest-merror:0.012068\n",
      "[141]\ttrain-merror:4.1e-05\ttest-merror:0.012068\n",
      "[142]\ttrain-merror:2.1e-05\ttest-merror:0.012068\n",
      "[143]\ttrain-merror:2.1e-05\ttest-merror:0.012117\n",
      "[144]\ttrain-merror:2.1e-05\ttest-merror:0.012165\n",
      "[145]\ttrain-merror:2.1e-05\ttest-merror:0.012213\n",
      "[146]\ttrain-merror:2.1e-05\ttest-merror:0.012068\n",
      "[147]\ttrain-merror:2.1e-05\ttest-merror:0.01202\n",
      "[148]\ttrain-merror:2.1e-05\ttest-merror:0.011972\n",
      "[149]\ttrain-merror:2.1e-05\ttest-merror:0.011972\n",
      "[150]\ttrain-merror:2.1e-05\ttest-merror:0.011924\n",
      "[151]\ttrain-merror:2.1e-05\ttest-merror:0.011876\n",
      "[152]\ttrain-merror:2.1e-05\ttest-merror:0.011876\n",
      "[153]\ttrain-merror:2.1e-05\ttest-merror:0.011924\n",
      "[154]\ttrain-merror:2.1e-05\ttest-merror:0.011876\n",
      "[155]\ttrain-merror:2.1e-05\ttest-merror:0.011828\n",
      "[156]\ttrain-merror:0\ttest-merror:0.01178\n",
      "[157]\ttrain-merror:0\ttest-merror:0.011828\n",
      "[158]\ttrain-merror:0\ttest-merror:0.011876\n",
      "[159]\ttrain-merror:0\ttest-merror:0.011972\n",
      "[160]\ttrain-merror:0\ttest-merror:0.011828\n",
      "[161]\ttrain-merror:0\ttest-merror:0.011828\n",
      "[162]\ttrain-merror:0\ttest-merror:0.011828\n",
      "[163]\ttrain-merror:0\ttest-merror:0.011876\n",
      "[164]\ttrain-merror:0\ttest-merror:0.011828\n",
      "[165]\ttrain-merror:0\ttest-merror:0.011924\n",
      "[166]\ttrain-merror:0\ttest-merror:0.011972\n",
      "[167]\ttrain-merror:0\ttest-merror:0.011924\n",
      "[168]\ttrain-merror:0\ttest-merror:0.011876\n",
      "[169]\ttrain-merror:0\ttest-merror:0.01202\n"
     ]
    },
    {
     "name": "stdout",
     "output_type": "stream",
     "text": [
      "[170]\ttrain-merror:0\ttest-merror:0.011876\n",
      "[171]\ttrain-merror:0\ttest-merror:0.012068\n",
      "[172]\ttrain-merror:0\ttest-merror:0.01202\n",
      "[173]\ttrain-merror:0\ttest-merror:0.011924\n",
      "[174]\ttrain-merror:0\ttest-merror:0.011924\n",
      "[175]\ttrain-merror:0\ttest-merror:0.011924\n",
      "[176]\ttrain-merror:0\ttest-merror:0.011924\n",
      "Stopping. Best iteration:\n",
      "[156]\ttrain-merror:0\ttest-merror:0.01178\n",
      "\n"
     ]
    }
   ],
   "source": [
    "X_train, X_test, y_train, y_test = train_test_split(X, Y, test_size=0.3, random_state=1234)\n",
    "\n",
    "# features = X_train.columns.values.tolist()\n",
    "\n",
    "# use DMatrix for xgbosot\n",
    "dtrain = xgb.DMatrix(X_train, label=y_train)\n",
    "dtest = xgb.DMatrix(X_test, label=y_test)\n",
    "\n",
    "# set xgboost params\n",
    "param = {\n",
    "    'max_depth': 10,  # the maximum depth of each tree\n",
    "    'eta': 0.1,  # the training step for each iteration\n",
    "    'silent': 1,  # logging mode - quiet\n",
    "    'objective': 'multi:softprob',  # error evaluation for multiclass training\n",
    "    'num_class': 4,\n",
    "    'colsample_bytree': 0.8,\n",
    "    'subsample': 0.8}  # the number of classes that exist in this datset\n",
    "num_round = 500  # the number of training iterations\n",
    "\n",
    "#------------- numpy array ------------------\n",
    "# training and testing - numpy matrices\n",
    "# bst = xgb.train(param, dtrain, num_round)\n",
    "# preds = bst.predict(dtest)\n",
    "\n",
    "watch_list = [(dtrain, 'train'), (dtest, 'test')]\n",
    "model = xgb.train(param, dtrain, num_round, evals=watch_list,\n",
    "                 early_stopping_rounds=20)\n",
    "\n",
    "# extracting most confident predictions\n",
    "# preds = model.predict(dtest)\n",
    "# best_preds = np.asarray([np.argmax(line) for line in preds])\n",
    "# print(\"Numpy array precision:\", precision_score(y_test, best_preds, average='macro'))"
   ]
  },
  {
   "cell_type": "code",
   "execution_count": 11,
   "metadata": {},
   "outputs": [
    {
     "name": "stdout",
     "output_type": "stream",
     "text": [
      "Numpy array precision: 0.9788839855534722\n",
      "Confusion Matrix: \n",
      "[[13697    33     0     3]\n",
      " [   98  4129    49     0]\n",
      " [    0    55  2625     1]\n",
      " [    6     0     0   102]]\n"
     ]
    }
   ],
   "source": [
    "preds = model.predict(dtest, ntree_limit=model.best_ntree_limit)\n",
    "\n",
    "# extracting most confident predictions\n",
    "best_preds = np.asarray([np.argmax(line) for line in preds])\n",
    "print(\"Numpy array precision:\", precision_score(y_test, best_preds, average='macro'))\n",
    "print('Confusion Matrix: \\n{}'.format(confusion_matrix(y_test, best_preds)))"
   ]
  },
  {
   "cell_type": "code",
   "execution_count": 12,
   "metadata": {},
   "outputs": [
    {
     "name": "stdout",
     "output_type": "stream",
     "text": [
      "              precision    recall  f1-score   support\n",
      "\n",
      "         저위험      0.992     0.997     0.995     13733\n",
      "       중등도위험      0.979     0.966     0.972      4276\n",
      "         고위험      0.982     0.979     0.980      2681\n",
      "        최고위험      0.962     0.944     0.953       108\n",
      "\n",
      "    accuracy                          0.988     20798\n",
      "   macro avg      0.979     0.972     0.975     20798\n",
      "weighted avg      0.988     0.988     0.988     20798\n",
      "\n"
     ]
    }
   ],
   "source": [
    "from sklearn.metrics import classification_report\n",
    "target_names = ['저위험', '중등도위험', '고위험', '최고위험']\n",
    "print(classification_report(y_test, best_preds, target_names=target_names, digits=3))"
   ]
  },
  {
   "cell_type": "code",
   "execution_count": 13,
   "metadata": {},
   "outputs": [
    {
     "data": {
      "text/plain": [
       "Text(0, 0.5, 'Variable')"
      ]
     },
     "execution_count": 13,
     "metadata": {},
     "output_type": "execute_result"
    },
    {
     "data": {
      "image/png": "[encoded data removed]",
      "text/plain": [
       "<Figure size 432x288 with 1 Axes>"
      ]
     },
     "metadata": {
      "image/png": {
       "height": 263,
       "width": 440
      },
      "needs_background": "light"
     },
     "output_type": "display_data"
    }
   ],
   "source": [
    "df_importance = pd.DataFrame(list(model.get_fscore().items()), columns=['Variable', 'Importance'])\n",
    "\n",
    "df_importance.sort_values('Importance', ascending=False, inplace=True)\n",
    "# df_importance.round(3)\n",
    "df_importance.sort_values('Importance', ascending=True, inplace=True)\n",
    "coordinates = range(len(df_importance))\n",
    "plt.barh(y=coordinates, width = df_importance['Importance'])\n",
    "plt.yticks(coordinates, df_importance['Variable'])\n",
    "plt.xlabel('Variable Importance')\n",
    "plt.ylabel('Variable')"
   ]
  },
  {
   "cell_type": "markdown",
   "metadata": {},
   "source": [
    "#### GBM"
   ]
  },
  {
   "cell_type": "code",
   "execution_count": 14,
   "metadata": {},
   "outputs": [
    {
     "name": "stdout",
     "output_type": "stream",
     "text": [
      "Accuracy on test set: 0.988\n",
      "              precision    recall  f1-score   support\n",
      "\n",
      "         저위험      0.994     0.998     0.996     13733\n",
      "       중등도위험      0.982     0.965     0.973      4276\n",
      "         고위험      0.976     0.980     0.978      2681\n",
      "        최고위험      0.912     0.954     0.932       108\n",
      "\n",
      "    accuracy                          0.988     20798\n",
      "   macro avg      0.966     0.974     0.970     20798\n",
      "weighted avg      0.988     0.988     0.988     20798\n",
      "\n"
     ]
    }
   ],
   "source": [
    "gb_final = GradientBoostingClassifier(random_state = 1234,\n",
    "                                learning_rate = 0.04, n_estimators = 300,\n",
    "                                   max_depth = 7, min_samples_leaf = 5, min_samples_split = 10)\n",
    "gb_final.fit(X_train, y_train)\n",
    "y_pred = gb_final.predict(X_test)\n",
    "\n",
    "# print('Accuracy on training set: {:.3f}'.format(gb_final.score(X_train, y_train)))\n",
    "print('Accuracy on test set: {:.3f}'.format(gb_final.score(X_test, y_test)))\n",
    "# print('Confusion Matrix: \\n{}'.format(confusion_matrix(y_test, y_pred)))\n",
    "print(classification_report(y_test, y_pred, target_names=target_names, digits=3))"
   ]
  },
  {
   "cell_type": "markdown",
   "metadata": {},
   "source": [
    "#### RF"
   ]
  },
  {
   "cell_type": "code",
   "execution_count": 15,
   "metadata": {},
   "outputs": [
    {
     "name": "stdout",
     "output_type": "stream",
     "text": [
      "Accuracy: 0.896\n",
      "\n",
      "              precision    recall  f1-score   support\n",
      "\n",
      "         저위험      0.899     0.991     0.943     13733\n",
      "       중등도위험      0.869     0.673     0.759      4276\n",
      "         고위험      0.918     0.793     0.851      2681\n",
      "        최고위험      1.000     0.222     0.364       108\n",
      "\n",
      "    accuracy                          0.896     20798\n",
      "   macro avg      0.921     0.670     0.729     20798\n",
      "weighted avg      0.896     0.896     0.890     20798\n",
      "\n"
     ]
    }
   ],
   "source": [
    "rf_final = RandomForestClassifier(random_state = 1234, \n",
    "                                max_depth = 7, n_estimators = 500, min_samples_split = 2, \n",
    "                                  min_samples_leaf = 1)\n",
    "rf_final.fit(X_train, y_train)\n",
    "\n",
    "y_pred = rf_final.predict(X_test)\n",
    "print('Accuracy: {0:.3f}\\n'.format(rf_final.score(X_test, y_test)))\n",
    "# print('Confusion Matrix: \\n{}'.format(confusion_matrix(y_test, y_pred)))\n",
    "print(classification_report(y_test, y_pred, target_names=target_names, digits=3))"
   ]
  },
  {
   "cell_type": "markdown",
   "metadata": {},
   "source": [
    "#### Logistic Reg"
   ]
  },
  {
   "cell_type": "code",
   "execution_count": 16,
   "metadata": {},
   "outputs": [
    {
     "name": "stdout",
     "output_type": "stream",
     "text": [
      "Accuracy: 0.768\n",
      "\n",
      "              precision    recall  f1-score   support\n",
      "\n",
      "         저위험      0.832     0.933     0.879     13733\n",
      "       중등도위험      0.560     0.520     0.539      4276\n",
      "         고위험      0.661     0.349     0.457      2681\n",
      "        최고위험      0.000     0.000     0.000       108\n",
      "\n",
      "    accuracy                          0.768     20798\n",
      "   macro avg      0.513     0.451     0.469     20798\n",
      "weighted avg      0.749     0.768     0.750     20798\n",
      "\n"
     ]
    },
    {
     "name": "stderr",
     "output_type": "stream",
     "text": [
      "C:\\Users\\Gyulee\\Anaconda3\\lib\\site-packages\\sklearn\\linear_model\\logistic.py:947: ConvergenceWarning: lbfgs failed to converge. Increase the number of iterations.\n",
      "  \"of iterations.\", ConvergenceWarning)\n"
     ]
    }
   ],
   "source": [
    "softmax_reg = LogisticRegression(multi_class = 'multinomial',\n",
    "                                solver='lbfgs', C=10, random_state=1234)\n",
    "softmax_reg.fit(X_train, y_train)\n",
    "\n",
    "y_pred = softmax_reg.predict(X_test)\n",
    "print('Accuracy: {0:.3f}\\n'.format(softmax_reg.score(X_test, y_test)))\n",
    "# print('Accuracy: {0:.3f}\\n'.format(softmax_reg.score(X_test, y_test)))\n",
    "# print('Confusion Matrix: \\n{}'.format(confusion_matrix(y_test, y_pred)))\n",
    "print(classification_report(y_test, y_pred, target_names=target_names, digits=3))"
   ]
  },
  {
   "cell_type": "markdown",
   "metadata": {},
   "source": [
    "#### DT"
   ]
  },
  {
   "cell_type": "code",
   "execution_count": 17,
   "metadata": {},
   "outputs": [
    {
     "name": "stderr",
     "output_type": "stream",
     "text": [
      "C:\\Users\\Gyulee\\Anaconda3\\lib\\site-packages\\sklearn\\metrics\\classification.py:1437: UndefinedMetricWarning: Precision and F-score are ill-defined and being set to 0.0 in labels with no predicted samples.\n",
      "  'precision', 'predicted', average, warn_for)\n"
     ]
    },
    {
     "name": "stdout",
     "output_type": "stream",
     "text": [
      "Accuracy: 0.816\n",
      "\n",
      "              precision    recall  f1-score   support\n",
      "\n",
      "         저위험      0.855     0.982     0.914     13733\n",
      "       중등도위험      0.720     0.450     0.554      4276\n",
      "         고위험      0.668     0.584     0.623      2681\n",
      "        최고위험      0.000     0.000     0.000       108\n",
      "\n",
      "    accuracy                          0.816     20798\n",
      "   macro avg      0.561     0.504     0.523     20798\n",
      "weighted avg      0.799     0.816     0.798     20798\n",
      "\n"
     ]
    }
   ],
   "source": [
    "tree_final = DecisionTreeClassifier(random_state = 1234,\n",
    "                                  max_depth = 3, min_samples_split = 2, min_samples_leaf = 1)\n",
    "tree_final.fit(X_train, y_train)\n",
    "\n",
    "y_pred = tree_final.predict(X_test)\n",
    "print('Accuracy: {0:.3f}\\n'.format(tree_final.score(X_test, y_test)))\n",
    "# print('Confusion Matrix: \\n{}'.format(confusion_matrix(y_test, y_pred)))\n",
    "print(classification_report(y_test, y_pred, target_names=target_names, digits=3))"
   ]
  }
 ],
 "metadata": {
  "kernelspec": {
   "display_name": "Python 3",
   "language": "python",
   "name": "python3"
  },
  "language_info": {
   "codemirror_mode": {
    "name": "ipython",
    "version": 3
   },
   "file_extension": ".py",
   "mimetype": "text/x-python",
   "name": "python",
   "nbconvert_exporter": "python",
   "pygments_lexer": "ipython3",
   "version": "3.7.4"
  },
  "varInspector": {
   "cols": {
    "lenName": 16,
    "lenType": 16,
    "lenVar": 40
   },
   "kernels_config": {
    "python": {
     "delete_cmd_postfix": "",
     "delete_cmd_prefix": "del ",
     "library": "var_list.py",
     "varRefreshCmd": "print(var_dic_list())"
    },
    "r": {
     "delete_cmd_postfix": ") ",
     "delete_cmd_prefix": "rm(",
     "library": "var_list.r",
     "varRefreshCmd": "cat(var_dic_list()) "
    }
   },
   "types_to_exclude": [
    "module",
    "function",
    "builtin_function_or_method",
    "instance",
    "_Feature"
   ],
   "window_display": false
  }
 },
 "nbformat": 4,
 "nbformat_minor": 2
}
