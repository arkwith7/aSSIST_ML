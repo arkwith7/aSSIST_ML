{
 "cells": [
  {
   "cell_type": "markdown",
   "metadata": {},
   "source": [
    "# Health-Care-Data-Analysis"
   ]
  },
  {
   "cell_type": "markdown",
   "metadata": {},
   "source": [
    "### - Data Preprocessing -"
   ]
  },
  {
   "cell_type": "markdown",
   "metadata": {},
   "source": [
    "## Load Libraries"
   ]
  },
  {
   "cell_type": "code",
   "execution_count": 1,
   "metadata": {},
   "outputs": [],
   "source": [
    "import pandas as pd\n",
    "import numpy as np\n",
    "import seaborn as sns\n",
    "import matplotlib\n",
    "import matplotlib.pyplot as plt\n",
    "%matplotlib inline"
   ]
  },
  {
   "cell_type": "code",
   "execution_count": 2,
   "metadata": {},
   "outputs": [],
   "source": [
    "plt.rcParams['font.family'] = 'Malgun Gothic'\n",
    "plt.rcParams['axes.unicode_minus']=False"
   ]
  },
  {
   "cell_type": "code",
   "execution_count": 3,
   "metadata": {},
   "outputs": [],
   "source": [
    "dat = pd.read_csv('health_data.csv', encoding='utf-8')"
   ]
  },
  {
   "cell_type": "code",
   "execution_count": 4,
   "metadata": {},
   "outputs": [],
   "source": [
    "df = dat.copy()"
   ]
  },
  {
   "cell_type": "code",
   "execution_count": 5,
   "metadata": {},
   "outputs": [
    {
     "data": {
      "text/html": [
       "<div>\n",
       "<style scoped>\n",
       "    .dataframe tbody tr th:only-of-type {\n",
       "        vertical-align: middle;\n",
       "    }\n",
       "\n",
       "    .dataframe tbody tr th {\n",
       "        vertical-align: top;\n",
       "    }\n",
       "\n",
       "    .dataframe thead th {\n",
       "        text-align: right;\n",
       "    }\n",
       "</style>\n",
       "<table border=\"1\" class=\"dataframe\">\n",
       "  <thead>\n",
       "    <tr style=\"text-align: right;\">\n",
       "      <th></th>\n",
       "      <th>기준년도</th>\n",
       "      <th>가입자일련번호</th>\n",
       "      <th>성별코드</th>\n",
       "      <th>연령대코드(5세단위)</th>\n",
       "      <th>시도코드</th>\n",
       "      <th>신장(5Cm단위)</th>\n",
       "      <th>체중(5Kg단위)</th>\n",
       "      <th>허리둘레</th>\n",
       "      <th>시력(좌)</th>\n",
       "      <th>시력(우)</th>\n",
       "      <th>...</th>\n",
       "      <th>LDL콜레스테롤</th>\n",
       "      <th>혈색소</th>\n",
       "      <th>요단백</th>\n",
       "      <th>혈청크레아티닌</th>\n",
       "      <th>(혈청지오티)AST</th>\n",
       "      <th>(혈청지오티)ALT</th>\n",
       "      <th>감마지티피</th>\n",
       "      <th>흡연상태</th>\n",
       "      <th>구강검진 수검여부</th>\n",
       "      <th>치석</th>\n",
       "    </tr>\n",
       "  </thead>\n",
       "  <tbody>\n",
       "    <tr>\n",
       "      <td>0</td>\n",
       "      <td>2016</td>\n",
       "      <td>5</td>\n",
       "      <td>2</td>\n",
       "      <td>6</td>\n",
       "      <td>11</td>\n",
       "      <td>160.0</td>\n",
       "      <td>50.0</td>\n",
       "      <td>67.0</td>\n",
       "      <td>0.4</td>\n",
       "      <td>0.5</td>\n",
       "      <td>...</td>\n",
       "      <td>130.0</td>\n",
       "      <td>12.8</td>\n",
       "      <td>1.0</td>\n",
       "      <td>0.7</td>\n",
       "      <td>13.0</td>\n",
       "      <td>7.0</td>\n",
       "      <td>20.0</td>\n",
       "      <td>1.0</td>\n",
       "      <td>0</td>\n",
       "      <td>NaN</td>\n",
       "    </tr>\n",
       "    <tr>\n",
       "      <td>1</td>\n",
       "      <td>2016</td>\n",
       "      <td>8</td>\n",
       "      <td>2</td>\n",
       "      <td>16</td>\n",
       "      <td>48</td>\n",
       "      <td>155.0</td>\n",
       "      <td>60.0</td>\n",
       "      <td>81.0</td>\n",
       "      <td>0.7</td>\n",
       "      <td>0.5</td>\n",
       "      <td>...</td>\n",
       "      <td>108.0</td>\n",
       "      <td>13.0</td>\n",
       "      <td>1.0</td>\n",
       "      <td>0.7</td>\n",
       "      <td>23.0</td>\n",
       "      <td>14.0</td>\n",
       "      <td>14.0</td>\n",
       "      <td>1.0</td>\n",
       "      <td>0</td>\n",
       "      <td>NaN</td>\n",
       "    </tr>\n",
       "    <tr>\n",
       "      <td>2</td>\n",
       "      <td>2016</td>\n",
       "      <td>29</td>\n",
       "      <td>2</td>\n",
       "      <td>9</td>\n",
       "      <td>11</td>\n",
       "      <td>155.0</td>\n",
       "      <td>60.0</td>\n",
       "      <td>83.0</td>\n",
       "      <td>1.0</td>\n",
       "      <td>1.0</td>\n",
       "      <td>...</td>\n",
       "      <td>116.0</td>\n",
       "      <td>12.7</td>\n",
       "      <td>1.0</td>\n",
       "      <td>0.8</td>\n",
       "      <td>21.0</td>\n",
       "      <td>20.0</td>\n",
       "      <td>55.0</td>\n",
       "      <td>1.0</td>\n",
       "      <td>0</td>\n",
       "      <td>NaN</td>\n",
       "    </tr>\n",
       "    <tr>\n",
       "      <td>3</td>\n",
       "      <td>2016</td>\n",
       "      <td>41</td>\n",
       "      <td>2</td>\n",
       "      <td>15</td>\n",
       "      <td>28</td>\n",
       "      <td>150.0</td>\n",
       "      <td>45.0</td>\n",
       "      <td>71.0</td>\n",
       "      <td>0.8</td>\n",
       "      <td>0.5</td>\n",
       "      <td>...</td>\n",
       "      <td>135.0</td>\n",
       "      <td>13.0</td>\n",
       "      <td>1.0</td>\n",
       "      <td>0.8</td>\n",
       "      <td>23.0</td>\n",
       "      <td>13.0</td>\n",
       "      <td>18.0</td>\n",
       "      <td>1.0</td>\n",
       "      <td>1</td>\n",
       "      <td>0.0</td>\n",
       "    </tr>\n",
       "    <tr>\n",
       "      <td>4</td>\n",
       "      <td>2016</td>\n",
       "      <td>56</td>\n",
       "      <td>2</td>\n",
       "      <td>12</td>\n",
       "      <td>26</td>\n",
       "      <td>145.0</td>\n",
       "      <td>55.0</td>\n",
       "      <td>75.0</td>\n",
       "      <td>1.2</td>\n",
       "      <td>1.2</td>\n",
       "      <td>...</td>\n",
       "      <td>160.0</td>\n",
       "      <td>13.9</td>\n",
       "      <td>1.0</td>\n",
       "      <td>0.7</td>\n",
       "      <td>87.0</td>\n",
       "      <td>246.0</td>\n",
       "      <td>99.0</td>\n",
       "      <td>1.0</td>\n",
       "      <td>0</td>\n",
       "      <td>NaN</td>\n",
       "    </tr>\n",
       "  </tbody>\n",
       "</table>\n",
       "<p>5 rows × 28 columns</p>\n",
       "</div>"
      ],
      "text/plain": [
       "   기준년도  가입자일련번호  성별코드  연령대코드(5세단위)  시도코드  신장(5Cm단위)  체중(5Kg단위)  허리둘레  시력(좌)  \\\n",
       "0  2016        5     2            6    11      160.0       50.0  67.0    0.4   \n",
       "1  2016        8     2           16    48      155.0       60.0  81.0    0.7   \n",
       "2  2016       29     2            9    11      155.0       60.0  83.0    1.0   \n",
       "3  2016       41     2           15    28      150.0       45.0  71.0    0.8   \n",
       "4  2016       56     2           12    26      145.0       55.0  75.0    1.2   \n",
       "\n",
       "   시력(우)  ...  LDL콜레스테롤   혈색소  요단백  혈청크레아티닌  (혈청지오티)AST  (혈청지오티)ALT  감마지티피  \\\n",
       "0    0.5  ...     130.0  12.8  1.0      0.7        13.0         7.0   20.0   \n",
       "1    0.5  ...     108.0  13.0  1.0      0.7        23.0        14.0   14.0   \n",
       "2    1.0  ...     116.0  12.7  1.0      0.8        21.0        20.0   55.0   \n",
       "3    0.5  ...     135.0  13.0  1.0      0.8        23.0        13.0   18.0   \n",
       "4    1.2  ...     160.0  13.9  1.0      0.7        87.0       246.0   99.0   \n",
       "\n",
       "   흡연상태  구강검진 수검여부   치석  \n",
       "0   1.0          0  NaN  \n",
       "1   1.0          0  NaN  \n",
       "2   1.0          0  NaN  \n",
       "3   1.0          1  0.0  \n",
       "4   1.0          0  NaN  \n",
       "\n",
       "[5 rows x 28 columns]"
      ]
     },
     "execution_count": 5,
     "metadata": {},
     "output_type": "execute_result"
    }
   ],
   "source": [
    "df.head()"
   ]
  },
  {
   "cell_type": "markdown",
   "metadata": {},
   "source": [
    "## Data Preprocessing"
   ]
  },
  {
   "cell_type": "markdown",
   "metadata": {},
   "source": [
    "#### 분석에 사용할 수 없는 변수 제거"
   ]
  },
  {
   "cell_type": "code",
   "execution_count": 7,
   "metadata": {},
   "outputs": [],
   "source": [
    "df.drop('기준년도', axis=1, inplace=True) # 값이 2016년 밖에 없다\n",
    "df.drop('치석', axis=1, inplace=True) # 결측치가 너무 많고 이해하기 어려운 값이 있다."
   ]
  },
  {
   "cell_type": "markdown",
   "metadata": {},
   "source": [
    "#### 이상치 제거"
   ]
  },
  {
   "cell_type": "code",
   "execution_count": 8,
   "metadata": {},
   "outputs": [],
   "source": [
    "df.loc[df['허리둘레'] > 900, '허리둘레'] = np.nan # 허리둘레 900이상인 값 결측치로 변경\n",
    "df.loc[df['시력(좌)'] == 9.9, '시력(좌)'] = 0; df.loc[df['시력(우)'] == 9.9, '시력(우)'] = 0 # 시력이 0인 사람을 실명으로 간주\n",
    "df = df[df['LDL콜레스테롤'] <= df['총콜레스테롤']] # 총콜레스테롤 보다 LDL이 높은 경우 제거\n",
    "df.loc[df['트리글리세라이드'] > 1500, '트리글리세라이드'] = np.nan # 결측치로 변경\n",
    "df.loc[df['LDL콜레스테롤'] > 300, 'LDL콜레스테롤'] = np.nan # 결측치로 변경\n",
    "df.loc[df['HDL콜레스테롤'] > 300, 'HDL콜레스테롤'] = np.nan # 결측치로 변경\n",
    "df.loc[df['총콜레스테롤'] > 500, '총콜레스테롤'] = np.nan # 결측치로 변경"
   ]
  },
  {
   "cell_type": "markdown",
   "metadata": {},
   "source": [
    "#### 결측치 제거"
   ]
  },
  {
   "cell_type": "code",
   "execution_count": 9,
   "metadata": {},
   "outputs": [],
   "source": [
    "df.dropna(inplace=True)"
   ]
  },
  {
   "cell_type": "markdown",
   "metadata": {},
   "source": [
    "#### 범주형 변수로 데이터 타입 수정"
   ]
  },
  {
   "cell_type": "code",
   "execution_count": 10,
   "metadata": {},
   "outputs": [],
   "source": [
    "# 1,2로 되어있는 성별코드 0,1 로 변경 후 성별로 이름 변경 \n",
    "df['성별코드'] = np.where(df['성별코드'] == 1, 0, 1)\n",
    "df['성별'] = df['성별코드'].astype('object')\n",
    "df.drop('성별코드', axis=1, inplace=True)\n",
    "\n",
    "# 컬럼명 '연령대코드(5세단위)', '연령대'로 변경 \n",
    "df['연령대'] = df['연령대코드(5세단위)'].astype('object')\n",
    "df.drop('연령대코드(5세단위)', axis=1, inplace=True)\n",
    "\n",
    "# 시도 코드\n",
    "df['시도코드'] = df['시도코드'].astype('object')\n",
    "\n",
    "# 청력\n",
    "df['청력(좌)'] = df['청력(좌)'].astype('int')\n",
    "df['청력(좌)'] = df['청력(좌)'].astype('object')\n",
    "df['청력(우)'] = df['청력(우)'].astype('int')\n",
    "df['청력(우)'] = df['청력(우)'].astype('object')\n",
    "\n",
    "# 요단백\n",
    "df['요단백'] = df['요단백'].astype('int')\n",
    "df['요단백'] = df['요단백'].astype('object')\n",
    "\n",
    "# 흡연상태\n",
    "df['흡연상태'] = df['흡연상태'].astype('int')\n",
    "df['흡연상태'] = df['흡연상태'].astype('object')\n",
    "\n",
    "# 컬럼명 '구강검진 수검여부', '구강검진_수검'으로 변경\n",
    "df['구강검진_수검'] = df['구강검진 수검여부'].astype('object')\n",
    "df.drop('구강검진 수검여부', axis=1, inplace=True)\n",
    "\n",
    "# 컬럼명 '신장(5Cm단위)', '신장'으로 변경\n",
    "df['신장'] = df['신장(5Cm단위)'].astype('object')\n",
    "df.drop('신장(5Cm단위)', axis=1, inplace=True)\n",
    "\n",
    "# 컬러명 '체중(5Kg단위)', '체중'으로 변경\n",
    "df['체중'] = df['체중(5Kg단위)'].astype('object')\n",
    "df.drop('체중(5Kg단위)', axis=1, inplace=True)"
   ]
  },
  {
   "cell_type": "code",
   "execution_count": 11,
   "metadata": {},
   "outputs": [
    {
     "data": {
      "text/plain": [
       "Index(['시도코드', '청력(좌)', '청력(우)', '요단백', '흡연상태', '성별', '연령대', '구강검진_수검', '신장',\n",
       "       '체중'],\n",
       "      dtype='object')"
      ]
     },
     "execution_count": 11,
     "metadata": {},
     "output_type": "execute_result"
    }
   ],
   "source": [
    "obj_cols = df.select_dtypes('object').columns   # object 변수\n",
    "obj_cols"
   ]
  },
  {
   "cell_type": "markdown",
   "metadata": {},
   "source": [
    "### 1. 파생변수 (기초질환)"
   ]
  },
  {
   "cell_type": "code",
   "execution_count": 12,
   "metadata": {},
   "outputs": [],
   "source": [
    "# 실명\n",
    "# 복부비만\n",
    "# 고지혈증\n",
    "# 고혈압, 고혈압_k\n",
    "# 총콜레스테롤_div\n",
    "# 공복혈당\n",
    "# 당뇨, 당뇨_k\n",
    "# 당뇨_표적장기손상\n",
    "# 빈혈, 빈혈_k\n",
    "# whtr, whtr_k (허리둘레/키)\n",
    "# 도시\n",
    "# bmi, bmi_div, bmi_div_k, BMI\n",
    "# 심혈관질환 관련 콜레스테롤 지수 (non-HDL, CRF, 대사증후군)\n",
    "# 혈청크레아티닌_진단\n",
    "# 나이\n",
    "# eGFR, GFR, eGFR_진단\n",
    "# 신장질환\n",
    "# 심혈관질환\n",
    "# 단백뇨, 단백뇨_k\n",
    "# AST구분, ALT구분, 감마지티피구분, AST/ALT비율, GTP/ALT비율, 알코올성간질환여부\n",
    "# 기초대사량"
   ]
  },
  {
   "cell_type": "markdown",
   "metadata": {},
   "source": [
    "#### 실명"
   ]
  },
  {
   "cell_type": "code",
   "execution_count": 13,
   "metadata": {},
   "outputs": [],
   "source": [
    "df['실명'] = np.where((df['시력(좌)'] == 0) | (df['시력(우)'] == 0) == True, 1, 0).astype('object')"
   ]
  },
  {
   "cell_type": "markdown",
   "metadata": {},
   "source": [
    "#### 복부비만"
   ]
  },
  {
   "cell_type": "code",
   "execution_count": 14,
   "metadata": {},
   "outputs": [],
   "source": [
    "df['복부비만'] = np.where(((df['허리둘레'] >= 90) & (df['성별']==0)) | ((df['허리둘레'] >= 85) & (df['성별']==1)) == True, 1, 0).astype('object')"
   ]
  },
  {
   "cell_type": "markdown",
   "metadata": {},
   "source": [
    "#### 고지혈증"
   ]
  },
  {
   "cell_type": "code",
   "execution_count": 15,
   "metadata": {},
   "outputs": [],
   "source": [
    "df['고지혈증']=np.where((df['총콜레스테롤'] > 230) | (df['트리글리세라이드'] >= 200) == True, 1, 0).astype('object')"
   ]
  },
  {
   "cell_type": "markdown",
   "metadata": {},
   "source": [
    "#### 고혈압"
   ]
  },
  {
   "cell_type": "code",
   "execution_count": 16,
   "metadata": {},
   "outputs": [],
   "source": [
    "def div_high(row):\n",
    "    if row <120 :\n",
    "        return 0\n",
    "    elif (row >=120) & (row <140):\n",
    "        return 1\n",
    "    elif row >=160 :\n",
    "        return 3\n",
    "    else:\n",
    "        return 2\n",
    "    \n",
    "df['고혈압']=df['수축기혈압'].apply(div_high)\n",
    "\n",
    "def div_low(row):\n",
    "    if row <80 :\n",
    "        return 0\n",
    "    elif (row >=80) & (row <90):\n",
    "        return 1\n",
    "    elif row >=100 :\n",
    "        return 3\n",
    "    else:\n",
    "        return 2\n",
    "\n",
    "# 정상: 0, 고혈압전단계: 1, 1단계고혈압: 2, 2단계고혈압: 3\n",
    "df['고혈압'] = np.where(df['고혈압']>=df['이완기혈압'].apply(div_low), df['고혈압'], df['이완기혈압'].apply(div_low)).astype('object')\n",
    "\n",
    "\n",
    "def div_higpress_k(row):\n",
    "    if row ==0 :\n",
    "        return '정상'\n",
    "    elif row ==1 :\n",
    "        return '고혈압전단계'\n",
    "    elif row ==2 :\n",
    "        return '1단계고혈압'\n",
    "    else:\n",
    "        return '2단계고혈압'\n",
    "\n",
    "df['고혈압_k']=df['고혈압'].apply(div_higpress_k)"
   ]
  },
  {
   "cell_type": "markdown",
   "metadata": {},
   "source": [
    "#### 총콜레스테롤"
   ]
  },
  {
   "cell_type": "code",
   "execution_count": 17,
   "metadata": {},
   "outputs": [],
   "source": [
    "def tr(tr) :\n",
    "    if tr < 200 :\n",
    "        return 0 \n",
    "    elif tr < 240 :\n",
    "        return 1 \n",
    "    else :\n",
    "        return 2"
   ]
  },
  {
   "cell_type": "code",
   "execution_count": 18,
   "metadata": {},
   "outputs": [],
   "source": [
    "df['총콜레스테롤_div']=df['총콜레스테롤'].apply(tr).astype('object')"
   ]
  },
  {
   "cell_type": "markdown",
   "metadata": {},
   "source": [
    "#### 공복혈당"
   ]
  },
  {
   "cell_type": "code",
   "execution_count": 19,
   "metadata": {},
   "outputs": [],
   "source": [
    "def tran(tr) :\n",
    "    if tr < 100 :\n",
    "        return 0 \n",
    "    elif tr < 110 :\n",
    "        return 1 \n",
    "    elif tr < 126 :\n",
    "        return 2\n",
    "    elif tr < 140 :\n",
    "        return 3\n",
    "    else :\n",
    "        return 4"
   ]
  },
  {
   "cell_type": "code",
   "execution_count": 20,
   "metadata": {},
   "outputs": [],
   "source": [
    "df['공복혈당']=df['식전혈당(공복혈당)'].apply(tran).astype('object')"
   ]
  },
  {
   "cell_type": "markdown",
   "metadata": {},
   "source": [
    "#### 당뇨"
   ]
  },
  {
   "cell_type": "code",
   "execution_count": 21,
   "metadata": {},
   "outputs": [],
   "source": [
    "def trans(tr) :\n",
    "    if tr < 70 :\n",
    "        return 0 # 저혈당\n",
    "    elif 70 <= tr < 100 :\n",
    "        return 1 # 이상없음\n",
    "    elif 100 <= tr < 126 :\n",
    "        return 2 # 공복혈당장애\n",
    "                 # 100 ~ 110 : 100 미만 대비 당뇨병 위험도가 3.17배, 110 ~ 126 : 100 미만 대비 당뇨병 위험도가 7.42배\n",
    "    else :\n",
    "        return 3 # 당뇨병\n",
    "    \n",
    "def trans_han(tr) :\n",
    "    if tr < 70 :\n",
    "        return \"저혈당\" # 저혈당\n",
    "    elif 70 <= tr < 100 :\n",
    "        return \"정상\" # 이상없음\n",
    "    elif 100 <= tr < 126 :\n",
    "        return \"공복혈당장애\" # 공복혈당장애\n",
    "                 # 100 ~ 110 : 100 미만 대비 당뇨병 위험도가 3.17배, 110 ~ 126 : 100 미만 대비 당뇨병 위험도가 7.42배\n",
    "    else :\n",
    "        return \"당뇨병\" # 당뇨병\n"
   ]
  },
  {
   "cell_type": "code",
   "execution_count": 22,
   "metadata": {},
   "outputs": [],
   "source": [
    "df['당뇨']=df['식전혈당(공복혈당)'].apply(trans).astype('object')\n",
    "df['당뇨_k']=df['식전혈당(공복혈당)'].apply(trans_han)"
   ]
  },
  {
   "cell_type": "markdown",
   "metadata": {},
   "source": [
    "#### 당뇨병 표적장기손상"
   ]
  },
  {
   "cell_type": "code",
   "execution_count": 23,
   "metadata": {},
   "outputs": [],
   "source": [
    "df['당뇨_표적장기손상'] = np.where((df['당뇨_k'] == '당뇨병') & \n",
    "                               ((df['요단백'] >= 5) | (df['고혈압'] == 3) | (df['총콜레스테롤'] >= 310)), 1, 0).astype('object')"
   ]
  },
  {
   "cell_type": "markdown",
   "metadata": {},
   "source": [
    "#### 빈혈"
   ]
  },
  {
   "cell_type": "code",
   "execution_count": 24,
   "metadata": {},
   "outputs": [],
   "source": [
    "cond1 = (df['성별'] == '1')\n",
    "cond2 = (df['혈색소'] < 12)\n",
    "cond3 = (df['혈색소'] < 13)\n",
    "\n",
    "df.loc[cond1&cond2, '빈혈'] = 1 # 여자 and 혈색소 < 12 : 빈혈\n",
    "df.loc[~cond1&~cond2, '빈혈'] = 0 # 여자 and 혈색소 >= 12 : 빈혈 아님\n",
    "df.loc[~cond1&cond3, '빈혈'] = 1 # 남자 and 혈색소 < 13 : 빈혈\n",
    "df.loc[~cond1&~cond3, '빈혈'] = 0 # 남자 and 혈색소 >= 13 : 빈혈 아님 \n",
    "\n",
    "df['빈혈']=df['빈혈'].astype('object')"
   ]
  },
  {
   "cell_type": "code",
   "execution_count": 25,
   "metadata": {},
   "outputs": [],
   "source": [
    "cond1 = (df['성별'] == '1') \n",
    "cond2 = (df['혈색소'] < 12)\n",
    "cond3 = (df['혈색소'] < 13)\n",
    "\n",
    "df.loc[cond1&cond2, '빈혈_k'] = \"빈혈\" # 여자 and 혈색소 < 12 : 빈혈\n",
    "df.loc[~cond1&~cond2, '빈혈_k'] = \"빈혈 아님\" # 여자 and 혈색소 >= 12 : 빈혈 아님\n",
    "df.loc[~cond1&cond3, '빈혈_k'] = \"빈혈\" # 남자 and 혈색소 < 13 : 빈혈\n",
    "df.loc[~cond1&~cond3, '빈혈_k'] = \"빈혈 아님\" # 남자 and 혈색소 >= 13 : 빈혈 아님 "
   ]
  },
  {
   "cell_type": "markdown",
   "metadata": {},
   "source": [
    "#### 허리둘레/키"
   ]
  },
  {
   "cell_type": "code",
   "execution_count": 26,
   "metadata": {},
   "outputs": [],
   "source": [
    "df['whtr'] = df['허리둘레']/df['신장']\n",
    "\n",
    "# 저체중: -1, 정상: 0, 과체중: 1, 비만: 2\n",
    "def div_whtr(row):\n",
    "    if row <0.43 :\n",
    "        return '-1'\n",
    "    elif (row >=0.43) & (row <0.53) :\n",
    "        return '0'\n",
    "    elif row >=0.58 :\n",
    "        return '2'\n",
    "    else:\n",
    "        return '1'\n",
    "\n",
    "df['whtr']=df['whtr'].apply(div_whtr)\n",
    "\n",
    "\n",
    "def div_whtr_k(row):\n",
    "    if row == '-1' :\n",
    "        return '저체중'\n",
    "    elif row == '0' :\n",
    "        return '정상'\n",
    "    elif row == '1' :\n",
    "        return '과체중'\n",
    "    else:\n",
    "        return '비만'\n",
    "\n",
    "df['whtr_k']=df['whtr'].apply(div_whtr_k)\n"
   ]
  },
  {
   "cell_type": "markdown",
   "metadata": {},
   "source": [
    "#### 도시"
   ]
  },
  {
   "cell_type": "code",
   "execution_count": 27,
   "metadata": {},
   "outputs": [],
   "source": [
    "def trans_addr (addr) :\n",
    "    if addr == 11 :\n",
    "        return \"서울특별시\"\n",
    "    elif addr == 26 :\n",
    "        return \"부산광역시\"\n",
    "    elif addr == 27 :\n",
    "        return \"대구광역시\"\n",
    "    elif addr == 28 :\n",
    "        return \"인천광역시\"\n",
    "    elif addr == 29 :\n",
    "        return \"광주광역시\"\n",
    "    elif addr == 30 :\n",
    "        return \"대전광역시\"\n",
    "    elif addr == 31 :\n",
    "        return \"울산광역시\"\n",
    "    elif addr == 36 :\n",
    "        return \"세종특별자치시\"\n",
    "    elif addr == 41 :\n",
    "        return \"경기도\"\n",
    "    elif addr == 42 :\n",
    "        return \"강원도\"\n",
    "    elif addr == 43 :\n",
    "        return \"충청북도\"\n",
    "    elif addr == 44 :\n",
    "        return \"충청남도\"\n",
    "    elif addr == 45 :\n",
    "        return \"전라북도\"\n",
    "    elif addr == 46 :\n",
    "        return \"전라남도\"\n",
    "    elif addr == 47 :\n",
    "        return \"경상북도\"\n",
    "    elif addr == 48 :\n",
    "        return \"경상남도\"\n",
    "    elif addr == 49 :\n",
    "        return \"제주특별자치도\"\n",
    "    \n",
    "df['도시']=df['시도코드'].apply(trans_addr)"
   ]
  },
  {
   "cell_type": "markdown",
   "metadata": {},
   "source": [
    "#### BMI"
   ]
  },
  {
   "cell_type": "code",
   "execution_count": 28,
   "metadata": {},
   "outputs": [],
   "source": [
    "df['bmi']=df['체중']/(df['신장']/100) ** 2\n",
    "df['bmi']=df['bmi'].astype('float64')\n",
    "df['bmi'] = df['bmi'].round(1)"
   ]
  },
  {
   "cell_type": "code",
   "execution_count": 29,
   "metadata": {},
   "outputs": [],
   "source": [
    "def class_bmi_div (bmi) :\n",
    "    if bmi < 18.5 :\n",
    "        return \"저체중\"\n",
    "    elif 18.5 <= bmi < 23 :\n",
    "        return \"정상체중\"\n",
    "    elif 23 <= bmi < 25 :\n",
    "        return \"과체중\"\n",
    "    elif 25 <= bmi < 30 :\n",
    "        return \"경도비만\"\n",
    "    elif 30 <= bmi < 35 :\n",
    "        return \"중정도비만\"\n",
    "    elif 35 <= bmi :\n",
    "        return \"고도비만\"\n",
    "    \n",
    "def class_bmi_div_num (bmi) :\n",
    "    if bmi < 18.5 :\n",
    "        return 0 #\"저체중\"\n",
    "    elif 18.5 <= bmi < 23 :\n",
    "        return 1 #\"정상체중\"\n",
    "    elif 23 <= bmi < 25 :\n",
    "        return 2 #\"과체중\"\n",
    "    elif 25 <= bmi < 30 :\n",
    "        return 3 #\"경도비만\"\n",
    "    elif 30 <= bmi < 35 :\n",
    "        return 4 #\"중정도비만\"\n",
    "    elif 35 <= bmi :\n",
    "        return 5 #\"고도비만\"\n",
    "\n",
    "    \n",
    "df['bmi_div_k']=df['bmi'].apply(class_bmi_div)\n",
    "df['bmi_div']=df['bmi'].apply(class_bmi_div_num).astype('object')"
   ]
  },
  {
   "cell_type": "code",
   "execution_count": 30,
   "metadata": {},
   "outputs": [],
   "source": [
    "def class_bmi_num (bmi) :\n",
    "    if bmi < 25 :\n",
    "        return 0\n",
    "    elif bmi < 26.5 :\n",
    "        return 1\n",
    "    elif bmi < 28 :\n",
    "        return 2\n",
    "    elif bmi < 30 :\n",
    "        return 3\n",
    "    else :\n",
    "        return 4\n",
    "\n",
    "df['BMI']=df['bmi'].apply(class_bmi_num).astype('object')"
   ]
  },
  {
   "cell_type": "markdown",
   "metadata": {},
   "source": [
    "#### 심혈관질환 관련 콜레스테롤 지수\n",
    "- non-HDL, CRF, 대사증후군"
   ]
  },
  {
   "cell_type": "code",
   "execution_count": 31,
   "metadata": {},
   "outputs": [],
   "source": [
    "df['non-HDL']=df['총콜레스테롤']-df['HDL콜레스테롤'] #심혈관 질환 위험도 관련\n",
    "\n",
    "df['CRF']=df['총콜레스테롤']/df['HDL콜레스테롤'] # 심혈관 질환 위험도 관련"
   ]
  },
  {
   "cell_type": "code",
   "execution_count": 32,
   "metadata": {},
   "outputs": [],
   "source": [
    "def div_d(row):\n",
    "    cnt=0\n",
    "    if (row['성별'] == '0')&(row['허리둘레'] >= 90) :\n",
    "        cnt+=1\n",
    "    elif ~(row['성별'] == '0')&(row['허리둘레'] >= 85) :\n",
    "        cnt+=1\n",
    "    if row['트리글리세라이드'] >= 150 :\n",
    "        cnt+=1\n",
    "    if (row['성별'] == '0')&(row['HDL콜레스테롤'] < 40) :\n",
    "        cnt+=1\n",
    "    elif ~(row['성별'] == '0')&(row['HDL콜레스테롤'] < 50) :\n",
    "        cnt+=1\n",
    "    if (row['수축기혈압'] >= 130) | (row['이완기혈압'] >= 85) :\n",
    "        cnt+=1\n",
    "    if row['식전혈당(공복혈당)'] >= 100 :\n",
    "        cnt+=1\n",
    "    return cnt\n",
    "        \n",
    "        \n",
    "df['대사증후군']=df[['성별','허리둘레','트리글리세라이드','HDL콜레스테롤','수축기혈압','이완기혈압','식전혈당(공복혈당)']].apply(div_d, axis = 1)\n",
    "df['대사증후군_k']=np.where(df['대사증후군']>=3, '대사증후군', '해당없음')\n",
    "df['대사증후군']=np.where(df['대사증후군']>=3, '1', '0')"
   ]
  },
  {
   "cell_type": "markdown",
   "metadata": {},
   "source": [
    "#### 혈청크레아티닌"
   ]
  },
  {
   "cell_type": "code",
   "execution_count": 33,
   "metadata": {},
   "outputs": [],
   "source": [
    "def func_1(row) : \n",
    "    \n",
    "    # 남자\n",
    "    \n",
    "    if row['성별'] == 0 :\n",
    "    \n",
    "        if row['혈청크레아티닌'] < 0.61 :\n",
    "            result =  \"low\"\n",
    "        elif row['혈청크레아티닌'] > 1.04 :\n",
    "            result =  \"high\"\n",
    "        else : \n",
    "            result =  \"normal\"\n",
    "            \n",
    "    # 여자\n",
    "    \n",
    "    else :\n",
    "        if row['혈청크레아티닌'] < 0.47 :\n",
    "            result =  \"low\"\n",
    "        elif row['혈청크레아티닌'] > 0.79 :\n",
    "            result =  \"high\"\n",
    "        else : \n",
    "            result =  \"normal\"\n",
    "            \n",
    "    return result"
   ]
  },
  {
   "cell_type": "code",
   "execution_count": 34,
   "metadata": {},
   "outputs": [],
   "source": [
    "df['혈청크레아티닌_진단'] = df[['성별','혈청크레아티닌']].apply(func_1, axis = 1)"
   ]
  },
  {
   "cell_type": "markdown",
   "metadata": {},
   "source": [
    "#### 나이"
   ]
  },
  {
   "cell_type": "code",
   "execution_count": 35,
   "metadata": {},
   "outputs": [
    {
     "data": {
      "text/plain": [
       "[5, 6, 7, 8, 9, 10, 11, 12, 13, 14, 15, 16, 17, 18]"
      ]
     },
     "execution_count": 35,
     "metadata": {},
     "output_type": "execute_result"
    }
   ],
   "source": [
    "age_list = list(df['연령대'].unique())\n",
    "age_list.sort()\n",
    "age_list"
   ]
  },
  {
   "cell_type": "code",
   "execution_count": 36,
   "metadata": {},
   "outputs": [],
   "source": [
    "# 연령 코드 딕셔너리 생성\n",
    "# 5단위 -> 10단위 변경\n",
    "\n",
    "age_code = {5 : 20,\n",
    "            6 : 20,\n",
    "            7 : 30,\n",
    "            8 : 30,\n",
    "            9 : 40,\n",
    "            10 : 40,\n",
    "            11 : 50,\n",
    "            12 : 50,\n",
    "            13 : 60,\n",
    "            14 : 60,\n",
    "            15 : 70,\n",
    "            16 : 70,\n",
    "            17 : 80,\n",
    "            18 : 80\n",
    "}\n",
    "\n",
    "def func_1(row, age_code):\n",
    "    return age_code[row]\n",
    "\n",
    "df['나이'] = df['연령대'].apply(func_1, args = (age_code,))"
   ]
  },
  {
   "cell_type": "markdown",
   "metadata": {},
   "source": [
    "#### 사구체 여과율"
   ]
  },
  {
   "cell_type": "code",
   "execution_count": 37,
   "metadata": {},
   "outputs": [],
   "source": [
    "def eGFR(row) :\n",
    "    if row['성별'] == 1 :\n",
    "        result = 175 * (row['혈청크레아티닌'] **(-1.154)) * (row['나이']**(-0.203)) * (0.742)\n",
    "        \n",
    "    else :\n",
    "        result = 175 * (row['혈청크레아티닌'] **(-1.154)) * (row['나이']**(-0.203))\n",
    "        \n",
    "    return result"
   ]
  },
  {
   "cell_type": "code",
   "execution_count": 38,
   "metadata": {},
   "outputs": [],
   "source": [
    "df['eGFR'] = df[['성별', '나이', '혈청크레아티닌']].apply(eGFR, axis = 1)"
   ]
  },
  {
   "cell_type": "markdown",
   "metadata": {},
   "source": [
    "#### GFR(MDRD)"
   ]
  },
  {
   "cell_type": "code",
   "execution_count": 39,
   "metadata": {},
   "outputs": [],
   "source": [
    "def GFR(row) :\n",
    "    if row >=60 :\n",
    "        return 0\n",
    "    elif row >= 45:\n",
    "        return 1\n",
    "    else :\n",
    "        return 2"
   ]
  },
  {
   "cell_type": "code",
   "execution_count": 40,
   "metadata": {},
   "outputs": [],
   "source": [
    "df['GFR'] = df['eGFR'].apply(GFR).astype('object')"
   ]
  },
  {
   "cell_type": "markdown",
   "metadata": {},
   "source": [
    "#### 추정 사구체여과율 진단 (eGRF)"
   ]
  },
  {
   "cell_type": "code",
   "execution_count": 41,
   "metadata": {},
   "outputs": [],
   "source": [
    "def eGFR_diagnosis(row) : \n",
    "    if row >= 90.0 :\n",
    "        result = '정상 신기능'\n",
    "    elif row >= 60.0 :\n",
    "        result = '경도 신기능 저하'\n",
    "    elif row >= 30.0 :\n",
    "        result = '중등도 신기능 저하'\n",
    "    elif row >= 15.0 :\n",
    "        result = '중증 신기능 저하'\n",
    "    else : \n",
    "        result = '말기 신부전'\n",
    "    return result"
   ]
  },
  {
   "cell_type": "code",
   "execution_count": 42,
   "metadata": {},
   "outputs": [],
   "source": [
    "df['eGFR_진단'] = df['eGFR'].apply(eGFR_diagnosis)"
   ]
  },
  {
   "cell_type": "markdown",
   "metadata": {},
   "source": [
    "#### 고혈압성 신장병"
   ]
  },
  {
   "cell_type": "code",
   "execution_count": 43,
   "metadata": {},
   "outputs": [],
   "source": [
    "cond1 = (((df['혈청크레아티닌'] >= 1.5) & (df['성별'] == 0)) | ((df['혈청크레아티닌'] >= 1.4) & (df['성별'] == 1)))\n",
    "cond2 = (df['요단백'] >= 5)\n",
    "cond3 = (df['eGFR'] < 60) # GFR 병수가 계산중\n",
    "\n",
    "df.loc[cond1|cond2|cond3, '신장질환'] = 1\n",
    "df['신장질환'].fillna(0, inplace=True)"
   ]
  },
  {
   "cell_type": "markdown",
   "metadata": {},
   "source": [
    "#### 심혈관질환 발병위험도"
   ]
  },
  {
   "cell_type": "code",
   "execution_count": 44,
   "metadata": {},
   "outputs": [],
   "source": [
    "cond1 = (((df['나이'] >= 45) & (df['성별'] == 0)) | ((df['나이'] >= 55) & (df['성별'] == 1)))\n",
    "cond2 = (df['흡연상태'] == 3) # 금연 성공한 사람 어떻게 처리할까?\n",
    "cond3 = ((df['BMI'] >= 25) | (df['복부비만'] == 1))\n",
    "cond4 = (df['당뇨_k'] == '공복혈당장애')\n",
    "cond5 = (df['HDL콜레스테롤'] < 40)\n",
    "cond6 = ((df['총콜레스테롤'] >= 220) | (df['LDL콜레스테롤'] >= 150) |\n",
    "        (df['트리글리세라이드'] >= 200))\n",
    "\n",
    "cond7 = (df['HDL콜레스테롤'] >= 60) # 좋은 요인"
   ]
  },
  {
   "cell_type": "code",
   "execution_count": 45,
   "metadata": {},
   "outputs": [],
   "source": [
    "df['risk_factor'] = 0\n",
    "df.loc[cond1, 'risk_factor'] += 1\n",
    "df.loc[cond2, 'risk_factor'] += 1\n",
    "df.loc[cond3, 'risk_factor'] += 1\n",
    "df.loc[cond4, 'risk_factor'] += 1\n",
    "df.loc[cond5, 'risk_factor'] += 1\n",
    "df.loc[cond6, 'risk_factor'] += 1\n",
    "df.loc[cond7, 'risk_factor'] -= 1"
   ]
  },
  {
   "cell_type": "code",
   "execution_count": 46,
   "metadata": {},
   "outputs": [],
   "source": [
    "cond8 = (df['eGFR'] < 30)\n",
    "cond9 = ((30 <= df['eGFR']) & (df['eGFR'] < 60))\n",
    "cond10 = (df['eGFR'] >= 60)\n",
    "\n",
    "cond1 = (((df['당뇨_k'] == '당뇨병') & (df['당뇨_표적장기손상'] == 1)) | cond8) # 최고위험\n",
    "cond2 = ((((df['당뇨_k'] == '당뇨병') & (df['당뇨_표적장기손상'] == 0)) | cond9) &\n",
    "        (df['고혈압_k'] == '2단계고혈압')) # 최고위험\n",
    "codn3 = ((((df['당뇨_k'] == '당뇨병') & (df['당뇨_표적장기손상'] == 0)) | cond9) &\n",
    "        ((df['고혈압_k'] != '2단계고혈압'))) # 고위험\n",
    "cond4 = ((df['고혈압_k'] == '2단계고혈압') & (df['risk_factor'] >= 3) &\n",
    "         (df['당뇨_k'] != '당뇨병') & cond10) # 고위험\n",
    "cond5 = ((df['고혈압_k'] != '2단계고혈압') &\n",
    "         (df['risk_factor'] >= 3) & (df['당뇨_k'] != '당뇨병') & cond10) # 중등도위험\n",
    "cond6 = (((df['고혈압_k'] == '1단계고혈압') | (df['고혈압_k'] == '2단계고혈압')) &\n",
    "         ((1 <= df['risk_factor']) & (df['risk_factor'] <= 2)) &\n",
    "         (df['당뇨_k'] != '당뇨병') & cond10) # 중등도위험\n",
    "# cond7 = (df['고혈압_k'] == '고혈압전단계') & (1 <= df['risk_factor'] <= 2) # 저위험\n",
    "cond7 = ((df['고혈압_k'] == '2단계고혈압') & (df['risk_factor'] == 0) &\n",
    "         (df['당뇨_k'] != '당뇨병') & cond10) # 중등도위험\n",
    "# cond8 = (((df['고혈압_k'] == '1단계고혈압') | (df['고혈압_k'] == '고혈압전단계')) & (df['risk_factor'] == 0)) # 저위험\n",
    "# fillna로 나머지 저위험\n",
    "\n",
    "df.loc[cond1|cond2, '심혈관질환'] = '최고위험'\n",
    "df.loc[cond3|cond4, '심혈관질환'] = '고위험'\n",
    "df.loc[cond5|cond6|cond7, '심혈관질환'] = '중등도위험'\n",
    "df['심혈관질환'].fillna('저위험', inplace=True)"
   ]
  },
  {
   "cell_type": "markdown",
   "metadata": {},
   "source": [
    "#### 단백뇨"
   ]
  },
  {
   "cell_type": "code",
   "execution_count": 47,
   "metadata": {},
   "outputs": [],
   "source": [
    "df['단백뇨'] = df['요단백']\n",
    "\n",
    "# 일반적 기준\n",
    "# 정상: 0, 미세단백뇨: 1, 단백뇨: 2\n",
    "def div_yo_k(row):\n",
    "    if (row ==1)|(row==2) :\n",
    "        return '정상'\n",
    "    elif (row ==3)|(row==4) :\n",
    "        return '미세단백뇨'\n",
    "    else:\n",
    "        return '단백뇨'\n",
    "\n",
    "df['단백뇨_k']=df['단백뇨'].apply(div_yo_k)"
   ]
  },
  {
   "cell_type": "code",
   "execution_count": 48,
   "metadata": {},
   "outputs": [],
   "source": [
    "# 심뇌혈관질환을 위한 기준\n",
    "def div_yo(row):\n",
    "    if row <= 3 :\n",
    "        return '0'\n",
    "    elif row==4 :\n",
    "        return '1'\n",
    "    else:\n",
    "        return '2'\n",
    "\n",
    "df['단백뇨']=df['단백뇨'].apply(div_yo)"
   ]
  },
  {
   "cell_type": "markdown",
   "metadata": {},
   "source": [
    "#### ALT"
   ]
  },
  {
   "cell_type": "code",
   "execution_count": 49,
   "metadata": {},
   "outputs": [],
   "source": [
    "cond1 = (df['(혈청지오티)ALT']<=40)\n",
    "cond2 = ((df['(혈청지오티)ALT']>40)&(df['(혈청지오티)ALT']<=200))\n",
    "cond3 = ((df['(혈청지오티)ALT']>200)&(df['(혈청지오티)ALT']<=400))\n",
    "cond4 = (df['(혈청지오티)ALT']>400)\n",
    "\n",
    "df.loc[cond1, 'ALT구분'] = '정상'\n",
    "df.loc[cond2, 'ALT구분'] = '경도'\n",
    "df.loc[cond3, 'ALT구분'] = '중등도'\n",
    "df.loc[cond4, 'ALT구분'] = '중증'\n"
   ]
  },
  {
   "cell_type": "markdown",
   "metadata": {},
   "source": [
    "#### AST"
   ]
  },
  {
   "cell_type": "code",
   "execution_count": 50,
   "metadata": {},
   "outputs": [],
   "source": [
    "cond1 = (df['(혈청지오티)AST']<=40)\n",
    "cond2 = ((df['(혈청지오티)AST']>40)&(df['(혈청지오티)AST']<=200))\n",
    "cond3 = ((df['(혈청지오티)AST']>200)&(df['(혈청지오티)AST']<=400))\n",
    "cond4 = (df['(혈청지오티)AST']>400)\n",
    "\n",
    "df.loc[cond1, 'AST구분'] = '정상'\n",
    "df.loc[cond2, 'AST구분'] = '경도'\n",
    "df.loc[cond3, 'AST구분'] = '중등도'\n",
    "df.loc[cond4, 'AST구분'] = '중증'"
   ]
  },
  {
   "cell_type": "markdown",
   "metadata": {},
   "source": [
    "#### 감마지티피"
   ]
  },
  {
   "cell_type": "code",
   "execution_count": 51,
   "metadata": {},
   "outputs": [],
   "source": [
    "cond1 = (df['감마지티피']<=34)\n",
    "cond2 = (df['감마지티피']>34)\n",
    "\n",
    "df.loc[cond1, '감마지티피구분'] = '정상'\n",
    "df.loc[cond2, '감마지티피구분'] = '비정상'"
   ]
  },
  {
   "cell_type": "markdown",
   "metadata": {},
   "source": [
    "#### AST/ALT 비율"
   ]
  },
  {
   "cell_type": "code",
   "execution_count": 52,
   "metadata": {},
   "outputs": [],
   "source": [
    "df['AST/ALT비율'] = df['(혈청지오티)AST']/df['(혈청지오티)ALT']"
   ]
  },
  {
   "cell_type": "markdown",
   "metadata": {},
   "source": [
    "#### 감마지티피/ALT비율"
   ]
  },
  {
   "cell_type": "code",
   "execution_count": 53,
   "metadata": {},
   "outputs": [],
   "source": [
    "df['GTP/ALT비율'] = df['감마지티피']/df['(혈청지오티)ALT']"
   ]
  },
  {
   "cell_type": "markdown",
   "metadata": {},
   "source": [
    "#### 알코올성 간질환 여부"
   ]
  },
  {
   "cell_type": "code",
   "execution_count": 54,
   "metadata": {},
   "outputs": [],
   "source": [
    "# AST/ALT비율 > 1\n",
    "# 감마지티피/ALT > 2.5\n",
    "# AST는 300을 넘지 않음\n",
    "# ALT는 종종 정상\n",
    "# AST/ALT비율이 2~3 이상인 경우 알코올성 간질환을 강하게 시사한다.\n",
    "\n",
    "cond1 = ((df['AST/ALT비율']>1)&(df['GTP/ALT비율']>2.5)&(df['(혈청지오티)AST']<=300))\n",
    "\n",
    "df.loc[cond1, '알코올성간질환여부'] = 'O'\n",
    "df.loc[~cond1, '알코올성간질환여부'] = 'X'"
   ]
  },
  {
   "cell_type": "markdown",
   "metadata": {},
   "source": [
    "#### 기초대사량"
   ]
  },
  {
   "cell_type": "code",
   "execution_count": 55,
   "metadata": {},
   "outputs": [],
   "source": [
    "df['기초대사량'] = np.where((df['성별'] == 0) == True, 66+(13.8*df['체중'])+(5*df['신장'])-(6.8*df['나이']), \n",
    "                       655+(9.6*df['체중'])+(1.8*df['신장'])-(4.7*df['나이']))"
   ]
  },
  {
   "cell_type": "markdown",
   "metadata": {},
   "source": [
    "#### 파생변수(기초질환) 완료"
   ]
  },
  {
   "cell_type": "code",
   "execution_count": 56,
   "metadata": {},
   "outputs": [
    {
     "name": "stdout",
     "output_type": "stream",
     "text": [
      "<class 'pandas.core.frame.DataFrame'>\n",
      "Int64Index: 69325 entries, 0 to 69999\n",
      "Data columns (total 66 columns):\n",
      "가입자일련번호        69325 non-null int64\n",
      "시도코드           69325 non-null object\n",
      "허리둘레           69325 non-null float64\n",
      "시력(좌)          69325 non-null float64\n",
      "시력(우)          69325 non-null float64\n",
      "청력(좌)          69325 non-null object\n",
      "청력(우)          69325 non-null object\n",
      "수축기혈압          69325 non-null float64\n",
      "이완기혈압          69325 non-null float64\n",
      "식전혈당(공복혈당)     69325 non-null float64\n",
      "총콜레스테롤         69325 non-null float64\n",
      "트리글리세라이드       69325 non-null float64\n",
      "HDL콜레스테롤       69325 non-null float64\n",
      "LDL콜레스테롤       69325 non-null float64\n",
      "혈색소            69325 non-null float64\n",
      "요단백            69325 non-null object\n",
      "혈청크레아티닌        69325 non-null float64\n",
      "(혈청지오티)AST     69325 non-null float64\n",
      "(혈청지오티)ALT     69325 non-null float64\n",
      "감마지티피          69325 non-null float64\n",
      "흡연상태           69325 non-null object\n",
      "성별             69325 non-null object\n",
      "연령대            69325 non-null object\n",
      "구강검진_수검        69325 non-null object\n",
      "신장             69325 non-null object\n",
      "체중             69325 non-null object\n",
      "실명             69325 non-null object\n",
      "복부비만           69325 non-null object\n",
      "고지혈증           69325 non-null object\n",
      "고혈압            69325 non-null object\n",
      "고혈압_k          69325 non-null object\n",
      "총콜레스테롤_div     69325 non-null object\n",
      "공복혈당           69325 non-null object\n",
      "당뇨             69325 non-null object\n",
      "당뇨_k           69325 non-null object\n",
      "당뇨_표적장기손상      69325 non-null object\n",
      "빈혈             69325 non-null object\n",
      "빈혈_k           69325 non-null object\n",
      "whtr           69325 non-null object\n",
      "whtr_k         69325 non-null object\n",
      "도시             69325 non-null object\n",
      "bmi            69325 non-null float64\n",
      "bmi_div_k      69325 non-null object\n",
      "bmi_div        69325 non-null object\n",
      "BMI            69325 non-null object\n",
      "non-HDL        69325 non-null float64\n",
      "CRF            69325 non-null float64\n",
      "대사증후군          69325 non-null object\n",
      "대사증후군_k        69325 non-null object\n",
      "혈청크레아티닌_진단     69325 non-null object\n",
      "나이             69325 non-null int64\n",
      "eGFR           69325 non-null float64\n",
      "GFR            69325 non-null object\n",
      "eGFR_진단        69325 non-null object\n",
      "신장질환           69325 non-null float64\n",
      "risk_factor    69325 non-null int64\n",
      "심혈관질환          69325 non-null object\n",
      "단백뇨            69325 non-null object\n",
      "단백뇨_k          69325 non-null object\n",
      "ALT구분          69325 non-null object\n",
      "AST구분          69325 non-null object\n",
      "감마지티피구분        69325 non-null object\n",
      "AST/ALT비율      69325 non-null float64\n",
      "GTP/ALT비율      69325 non-null float64\n",
      "알코올성간질환여부      69325 non-null object\n",
      "기초대사량          69325 non-null object\n",
      "dtypes: float64(22), int64(3), object(41)\n",
      "memory usage: 35.4+ MB\n"
     ]
    }
   ],
   "source": [
    "df.info()"
   ]
  },
  {
   "cell_type": "code",
   "execution_count": 57,
   "metadata": {},
   "outputs": [
    {
     "data": {
      "text/html": [
       "<div>\n",
       "<style scoped>\n",
       "    .dataframe tbody tr th:only-of-type {\n",
       "        vertical-align: middle;\n",
       "    }\n",
       "\n",
       "    .dataframe tbody tr th {\n",
       "        vertical-align: top;\n",
       "    }\n",
       "\n",
       "    .dataframe thead th {\n",
       "        text-align: right;\n",
       "    }\n",
       "</style>\n",
       "<table border=\"1\" class=\"dataframe\">\n",
       "  <thead>\n",
       "    <tr style=\"text-align: right;\">\n",
       "      <th></th>\n",
       "      <th>가입자일련번호</th>\n",
       "      <th>시도코드</th>\n",
       "      <th>허리둘레</th>\n",
       "      <th>시력(좌)</th>\n",
       "      <th>시력(우)</th>\n",
       "      <th>청력(좌)</th>\n",
       "      <th>청력(우)</th>\n",
       "      <th>수축기혈압</th>\n",
       "      <th>이완기혈압</th>\n",
       "      <th>식전혈당(공복혈당)</th>\n",
       "      <th>...</th>\n",
       "      <th>심혈관질환</th>\n",
       "      <th>단백뇨</th>\n",
       "      <th>단백뇨_k</th>\n",
       "      <th>ALT구분</th>\n",
       "      <th>AST구분</th>\n",
       "      <th>감마지티피구분</th>\n",
       "      <th>AST/ALT비율</th>\n",
       "      <th>GTP/ALT비율</th>\n",
       "      <th>알코올성간질환여부</th>\n",
       "      <th>기초대사량</th>\n",
       "    </tr>\n",
       "  </thead>\n",
       "  <tbody>\n",
       "    <tr>\n",
       "      <td>0</td>\n",
       "      <td>5</td>\n",
       "      <td>11</td>\n",
       "      <td>67.0</td>\n",
       "      <td>0.4</td>\n",
       "      <td>0.5</td>\n",
       "      <td>1</td>\n",
       "      <td>1</td>\n",
       "      <td>121.0</td>\n",
       "      <td>68.0</td>\n",
       "      <td>96.0</td>\n",
       "      <td>...</td>\n",
       "      <td>저위험</td>\n",
       "      <td>0</td>\n",
       "      <td>정상</td>\n",
       "      <td>정상</td>\n",
       "      <td>정상</td>\n",
       "      <td>정상</td>\n",
       "      <td>1.857143</td>\n",
       "      <td>2.857143</td>\n",
       "      <td>O</td>\n",
       "      <td>1329</td>\n",
       "    </tr>\n",
       "    <tr>\n",
       "      <td>1</td>\n",
       "      <td>8</td>\n",
       "      <td>48</td>\n",
       "      <td>81.0</td>\n",
       "      <td>0.7</td>\n",
       "      <td>0.5</td>\n",
       "      <td>1</td>\n",
       "      <td>1</td>\n",
       "      <td>130.0</td>\n",
       "      <td>70.0</td>\n",
       "      <td>101.0</td>\n",
       "      <td>...</td>\n",
       "      <td>저위험</td>\n",
       "      <td>0</td>\n",
       "      <td>정상</td>\n",
       "      <td>정상</td>\n",
       "      <td>정상</td>\n",
       "      <td>정상</td>\n",
       "      <td>1.642857</td>\n",
       "      <td>1.000000</td>\n",
       "      <td>X</td>\n",
       "      <td>1181</td>\n",
       "    </tr>\n",
       "    <tr>\n",
       "      <td>2</td>\n",
       "      <td>29</td>\n",
       "      <td>11</td>\n",
       "      <td>83.0</td>\n",
       "      <td>1.0</td>\n",
       "      <td>1.0</td>\n",
       "      <td>1</td>\n",
       "      <td>1</td>\n",
       "      <td>108.0</td>\n",
       "      <td>65.0</td>\n",
       "      <td>87.0</td>\n",
       "      <td>...</td>\n",
       "      <td>저위험</td>\n",
       "      <td>0</td>\n",
       "      <td>정상</td>\n",
       "      <td>정상</td>\n",
       "      <td>정상</td>\n",
       "      <td>비정상</td>\n",
       "      <td>1.050000</td>\n",
       "      <td>2.750000</td>\n",
       "      <td>O</td>\n",
       "      <td>1322</td>\n",
       "    </tr>\n",
       "    <tr>\n",
       "      <td>3</td>\n",
       "      <td>41</td>\n",
       "      <td>28</td>\n",
       "      <td>71.0</td>\n",
       "      <td>0.8</td>\n",
       "      <td>0.5</td>\n",
       "      <td>1</td>\n",
       "      <td>1</td>\n",
       "      <td>135.0</td>\n",
       "      <td>70.0</td>\n",
       "      <td>90.0</td>\n",
       "      <td>...</td>\n",
       "      <td>저위험</td>\n",
       "      <td>0</td>\n",
       "      <td>정상</td>\n",
       "      <td>정상</td>\n",
       "      <td>정상</td>\n",
       "      <td>정상</td>\n",
       "      <td>1.769231</td>\n",
       "      <td>1.384615</td>\n",
       "      <td>X</td>\n",
       "      <td>1028</td>\n",
       "    </tr>\n",
       "    <tr>\n",
       "      <td>4</td>\n",
       "      <td>56</td>\n",
       "      <td>26</td>\n",
       "      <td>75.0</td>\n",
       "      <td>1.2</td>\n",
       "      <td>1.2</td>\n",
       "      <td>1</td>\n",
       "      <td>1</td>\n",
       "      <td>110.0</td>\n",
       "      <td>70.0</td>\n",
       "      <td>75.0</td>\n",
       "      <td>...</td>\n",
       "      <td>저위험</td>\n",
       "      <td>0</td>\n",
       "      <td>정상</td>\n",
       "      <td>중등도</td>\n",
       "      <td>경도</td>\n",
       "      <td>비정상</td>\n",
       "      <td>0.353659</td>\n",
       "      <td>0.402439</td>\n",
       "      <td>X</td>\n",
       "      <td>1209</td>\n",
       "    </tr>\n",
       "  </tbody>\n",
       "</table>\n",
       "<p>5 rows × 66 columns</p>\n",
       "</div>"
      ],
      "text/plain": [
       "   가입자일련번호 시도코드  허리둘레  시력(좌)  시력(우) 청력(좌) 청력(우)  수축기혈압  이완기혈압  식전혈당(공복혈당)  \\\n",
       "0        5   11  67.0    0.4    0.5     1     1  121.0   68.0        96.0   \n",
       "1        8   48  81.0    0.7    0.5     1     1  130.0   70.0       101.0   \n",
       "2       29   11  83.0    1.0    1.0     1     1  108.0   65.0        87.0   \n",
       "3       41   28  71.0    0.8    0.5     1     1  135.0   70.0        90.0   \n",
       "4       56   26  75.0    1.2    1.2     1     1  110.0   70.0        75.0   \n",
       "\n",
       "   ...  심혈관질환  단백뇨  단백뇨_k  ALT구분  AST구분 감마지티피구분  AST/ALT비율  GTP/ALT비율  \\\n",
       "0  ...    저위험    0     정상     정상     정상      정상   1.857143   2.857143   \n",
       "1  ...    저위험    0     정상     정상     정상      정상   1.642857   1.000000   \n",
       "2  ...    저위험    0     정상     정상     정상     비정상   1.050000   2.750000   \n",
       "3  ...    저위험    0     정상     정상     정상      정상   1.769231   1.384615   \n",
       "4  ...    저위험    0     정상    중등도     경도     비정상   0.353659   0.402439   \n",
       "\n",
       "   알코올성간질환여부  기초대사량  \n",
       "0          O   1329  \n",
       "1          X   1181  \n",
       "2          O   1322  \n",
       "3          X   1028  \n",
       "4          X   1209  \n",
       "\n",
       "[5 rows x 66 columns]"
      ]
     },
     "execution_count": 57,
     "metadata": {},
     "output_type": "execute_result"
    }
   ],
   "source": [
    "df.head()"
   ]
  },
  {
   "cell_type": "markdown",
   "metadata": {},
   "source": [
    "### 2. 파생변수(HRA)"
   ]
  },
  {
   "cell_type": "code",
   "execution_count": 58,
   "metadata": {},
   "outputs": [],
   "source": [
    "# 위험도_허리둘레\n",
    "# 복합상대위험도\n",
    "# 평균절대위험도\n",
    "# 조정복합상대위험도\n",
    "# 절대위험도\n",
    "# 심뇌혈관나이\n",
    "# 교정복합상대위험도\n",
    "# 교정절대위험도 \n",
    "# 교정심뇌혈관나이"
   ]
  },
  {
   "cell_type": "markdown",
   "metadata": {},
   "source": [
    "#### 위험도 허리둘레"
   ]
  },
  {
   "cell_type": "code",
   "execution_count": 59,
   "metadata": {},
   "outputs": [],
   "source": [
    "def wr(row):\n",
    "    if row['성별']==0 and row['허리둘레'] < 90:\n",
    "        return 0\n",
    "    elif row['성별']==1 and row['허리둘레'] < 85:\n",
    "        return 0\n",
    "    elif row['성별']==0 and row['허리둘레']>=90:\n",
    "        return 1\n",
    "    elif row['성별']==1 and row['허리둘레']>=85:\n",
    "        return 1\n",
    "    \n",
    "df['위험도_허리둘레']=df[['성별','허리둘레']].apply(wr, axis=1)"
   ]
  },
  {
   "cell_type": "markdown",
   "metadata": {},
   "source": [
    "#### 복합상대위험도"
   ]
  },
  {
   "cell_type": "code",
   "execution_count": 60,
   "metadata": {},
   "outputs": [],
   "source": [
    "def man_risk(row):\n",
    "    risk1, risk2, risk3, risk4, risk5, risk6, risk7, risk8, risk9 = 0, 0, 0, 0, 0, 0, 0, 0, 0\n",
    "    if row['성별']==0:\n",
    "        if row['bmi']<25:\n",
    "            risk1 = 1.00\n",
    "        elif row['bmi']< 26.5:\n",
    "            risk1 = 1.04\n",
    "        elif row['bmi']< 28:\n",
    "            risk1 = 1.15\n",
    "        elif row['bmi']< 30:\n",
    "            risk1 = 1.36\n",
    "        elif row['bmi']>= 30:\n",
    "            risk1 = 1.58\n",
    "        if row['허리둘레']<90:\n",
    "            risk2 = 1.00\n",
    "        elif row['허리둘레']>=90:\n",
    "            risk2 = 1.44\n",
    "        if row['흡연상태']==1:\n",
    "            risk3 = 1.00\n",
    "        elif row['흡연상태']==2:\n",
    "            risk3 = 1.30\n",
    "        elif row['흡연상태']==3:\n",
    "            risk3 = 1.60\n",
    "        if row['고혈압']==0:\n",
    "            risk4 = 1.00\n",
    "        elif row['고혈압']==1:\n",
    "            risk4 = 1.25\n",
    "        elif row['고혈압']==2:\n",
    "            risk4 = 1.78\n",
    "        elif row['고혈압']==3:\n",
    "            risk4 = 2.71\n",
    "        if row['식전혈당(공복혈당)']<100:\n",
    "            risk5 = 1.00\n",
    "        elif row['식전혈당(공복혈당)']<110:\n",
    "            risk5 = 1.04\n",
    "        elif row['식전혈당(공복혈당)']<126:\n",
    "            risk5 = 1.12\n",
    "        elif row['식전혈당(공복혈당)']<140:\n",
    "            risk5 = 1.27\n",
    "        elif row['식전혈당(공복혈당)']>=140:\n",
    "            risk5 = 1.75\n",
    "        if row['총콜레스테롤']<200:\n",
    "            risk6 = 1.00\n",
    "        elif row['총콜레스테롤']<240:\n",
    "            risk6 = 1.15\n",
    "        elif row['총콜레스테롤']>=240:\n",
    "            risk6 = 1.37\n",
    "        if row['eGFR']>=60:\n",
    "            risk7 = 1.00\n",
    "        elif row['eGFR']>= 45:\n",
    "            risk7 = 1.34\n",
    "        elif row['eGFR']< 45:\n",
    "            risk7 = 2.09\n",
    "        if row['단백뇨']==0:\n",
    "            risk8 = 1.00\n",
    "        elif row['단백뇨']==1:\n",
    "            risk8 = 1.69\n",
    "        elif row['단백뇨']==2:\n",
    "            risk8 = 2.43\n",
    "        risk9 = risk7 if risk7 > risk8 else risk8\n",
    "        comp_risk = 1.00 + (risk1-1.00 if risk1>1.00 else 0) +(risk2-1.00 if risk2>1.00 else 0) + (risk3-1.00 if risk3>1.00 else 0) + (risk4-1.00 if risk4>1.00 else 0)\\\n",
    "        + (risk5-1.00 if risk5>1.00 else 0) + (risk6-1.00 if risk6>1.00 else 0) + (risk9-1.00 if risk9>1.00 else 0) # 복합 상대위험도\n",
    "        return comp_risk\n",
    "    \n",
    "    elif row['성별']==1:\n",
    "        if row['bmi']<25:\n",
    "            risk1 = 1.00\n",
    "        elif row['bmi']< 26.5:\n",
    "            risk1 = 1.02\n",
    "        elif row['bmi']< 28:\n",
    "            risk1 = 1.03\n",
    "        elif row['bmi']< 30:\n",
    "            risk1 = 1.15\n",
    "        elif row['bmi']>= 30:\n",
    "            risk1 = 1.33\n",
    "        if row['허리둘레']<85:\n",
    "            risk2 = 1.00\n",
    "        elif row['허리둘레']>=85:\n",
    "            risk2 = 1.52\n",
    "        if row['흡연상태']==1:\n",
    "            risk3 = 1.00\n",
    "        elif row['흡연상태']==2:\n",
    "            risk3 = 1.20\n",
    "        elif row['흡연상태']==3:\n",
    "            risk3 = 1.60\n",
    "        if row['고혈압']==0:\n",
    "            risk4 = 1.00\n",
    "        elif row['고혈압']==1:\n",
    "            risk4 = 1.43\n",
    "        elif row['고혈압']==2:\n",
    "            risk4 = 2.06\n",
    "        elif row['고혈압']==3:\n",
    "            risk4 = 3.20\n",
    "        if row['식전혈당(공복혈당)']<100:\n",
    "            risk5 = 1.00\n",
    "        elif row['식전혈당(공복혈당)']<110:\n",
    "            risk5 = 1.03\n",
    "        elif row['식전혈당(공복혈당)']<126:\n",
    "            risk5 = 1.14\n",
    "        elif row['식전혈당(공복혈당)']<140:\n",
    "            risk5 = 1.31\n",
    "        elif row['식전혈당(공복혈당)']>=140:\n",
    "            risk5 = 1.80\n",
    "        if row['총콜레스테롤']<200:\n",
    "            risk6 = 1.00\n",
    "        elif row['총콜레스테롤']<240:\n",
    "            risk6 = 1.07\n",
    "        elif row['총콜레스테롤']>=240:\n",
    "            risk6 = 1.20\n",
    "        if row['eGFR']>=60:\n",
    "            risk7 = 1.00\n",
    "        elif row['eGFR']>= 45:\n",
    "            risk7 = 1.34\n",
    "        elif row['eGFR']< 45:\n",
    "            risk7 = 2.09\n",
    "        if row['단백뇨']==0:\n",
    "            risk8 = 1.00\n",
    "        elif row['단백뇨']==1:\n",
    "            risk8 = 1.69\n",
    "        elif row['단백뇨']==2:\n",
    "            risk8 = 2.43\n",
    "        risk9 = risk7 if risk7 > risk8 else risk8\n",
    "        comp_risk = 1.00 + (risk1-1.00 if risk1>1.00 else 0) +(risk2-1.00 if risk2>1.00 else 0) + (risk3-1.00 if risk3>1.00 else 0) + (risk4-1.00 if risk4>1.00 else 0)\\\n",
    "        + (risk5-1.00 if risk5>1.00 else 0) + (risk6-1.00 if risk6>1.00 else 0) + (risk9-1.00 if risk9>1.00 else 0) # 복합 상대위험도\n",
    "        return comp_risk\n",
    "\n",
    "df['복합상대위험도']=df[['성별', 'bmi', '허리둘레', '흡연상태', '고혈압', '식전혈당(공복혈당)', '총콜레스테롤', 'eGFR', '단백뇨']].apply(man_risk, axis=1)"
   ]
  },
  {
   "cell_type": "markdown",
   "metadata": {},
   "source": [
    "#### 평균절대위험도"
   ]
  },
  {
   "cell_type": "code",
   "execution_count": 61,
   "metadata": {},
   "outputs": [],
   "source": [
    "man_mean_ab_risk={\n",
    "    20:99, 21:138, 22:178, 23:217, 24:256, 25:295,\n",
    "    26:334, 27:374, 28:449, 29:524, 30:600, 31:675,\n",
    "    32:751, 33:873, 34:995, 35:1117, 36:1239, 37:1362,\n",
    "    38:1557, 39:1752, 40:1947, 41:2142, 42:2337, 43:2591, \n",
    "    44:2846, 45:3101, 46:3356, 47:3611, 48:3920, 49:4229, \n",
    "    50:4539, 51:4848, 52:5158, 53:5573, 54:5988, 55:6403,\n",
    "    56:6818, 57:7234, 58:7928, 59:8622, 60:9316, 61:10010,\n",
    "    62:10705, 63:11462, 64:12219, 65:12976, 66:13733, 67:14491,\n",
    "    68:15205, 69:15919, 70:16633, 71:17347, 72:18062, 73:18380,\n",
    "    74:18698, 75:19017, 76:19335, 77:19654, 78:19972, 79:20290,\n",
    "    80:20609, 81:20927, 82:21246, 83:21564, 84:21882, 85:22201, 86:22201, 87:22201\n",
    "}"
   ]
  },
  {
   "cell_type": "code",
   "execution_count": 62,
   "metadata": {},
   "outputs": [],
   "source": [
    "woman_mean_ab_risk={\n",
    "    20:92, 21: 103, 22:115, 23:126, 24:137, 25:149, \n",
    "    26:160, 27:172, 28:211, 29:250, 30:289, 31:328, \n",
    "    32:368, 33:402, 34:437, 35:472, 36:507, 37:542, \n",
    "    38:646, 39:750, 40:854, 41:958, 42:1062, 43:1143, \n",
    "    44:1225, 45:1307, 46:1389, 47:1471, 48:1698, 49:1926, \n",
    "    50:2154, 51:2382, 52:2610, 53:2905, 54:3201, 55:3496,\n",
    "    56:3792, 57:4088, 58:4720, 59:5353, 60:5986, 61:6619,\n",
    "    62:7252, 63:8001, 64:8750, 65:9499, 66:10248, 67:10997,\n",
    "    68:11975, 69:12953, 70:13931, 71:14909, 72:15887, 73:16307,\n",
    "    74:16728, 75:17148, 76:17569, 77:17990, 78:18410, 79:18831,\n",
    "    80:19251, 81:19672, 82:20093, 83:20513, 84:20934, 85:21354, 86:21354, 87:21354\n",
    "}"
   ]
  },
  {
   "cell_type": "code",
   "execution_count": 63,
   "metadata": {},
   "outputs": [],
   "source": [
    "def func_2(row, age):\n",
    "    return age[row]\n",
    "df['평균절대위험도']=np.where(df['성별']==0, df['나이'].apply(func_2, args = (man_mean_ab_risk,)), df['나이'].apply(func_2, args=(woman_mean_ab_risk,)))"
   ]
  },
  {
   "cell_type": "markdown",
   "metadata": {},
   "source": [
    "#### 조정복합상대위험도"
   ]
  },
  {
   "cell_type": "code",
   "execution_count": 64,
   "metadata": {},
   "outputs": [],
   "source": [
    "man_co_risk={\n",
    "    20:1.83, 21:1.83, 22:1.83, 23:1.83, 24:1.83, 25:1.91,\n",
    "    26:1.91, 27:1.91, 28:1.91, 29:1.91, 30:2.02, 31:2.02,\n",
    "    32:2.02, 33:2.02, 34:2.02, 35:2.08, 36:2.08, 37:2.08,\n",
    "    38:2.08, 39:2.08, 40:2.11, 41:2.11, 42:2.11, 43:2.11,\n",
    "    44:2.11, 45:2.14, 46:2.14, 47:2.14, 48:2.14, 49:2.14,\n",
    "    50:2.19, 51:2.19, 52:2.19, 53:2.19, 54:2.19, 55:2.23,\n",
    "    56:2.23, 57:2.23, 58:2.23, 59:2.23, 60:2.25, 61:2.25,\n",
    "    62:2.25, 63:2.25, 64:2.25, 65:2.28, 66:2.28, 67:2.28,\n",
    "    68:2.28, 69:2.28, 70:2.25, 71:2.25, 72:2.25, 73:2.25,\n",
    "    74:2.25, 75:2.24, 76:2.24, 77:2.24, 78:2.24, 79:2.24,\n",
    "    80:2.24, 81:2.24, 82:2.24, 83:2.24, 84:2.24, 85:2.24, 86:2.24, 87:2.24\n",
    "}"
   ]
  },
  {
   "cell_type": "code",
   "execution_count": 65,
   "metadata": {},
   "outputs": [],
   "source": [
    "woman_co_risk={\n",
    "    20:1.43, 21: 1.43, 22:1.43, 23:1.43, 24:1.43, 25:1.40,\n",
    "    26:1.40, 27:1.40, 28:1.40, 29:1.40, 30:1.44, 31:1.44,\n",
    "    32:1.44, 33:1.44, 34:1.44, 35:1.47, 36:1.47, 37:1.47,\n",
    "    38:1.47, 39:1.47, 40:1.54, 41:1.54, 42:1.54, 43:1.54,\n",
    "    44:1.54, 45:1.64, 46:1.64, 47:1.64, 48:1.64, 49:1.64,\n",
    "    50:1.78, 51:1.78, 52:1.78, 53:1.78, 54:1.78, 55:1.92,\n",
    "    56:1.92, 57:1.92, 58:1.92, 59:1.92, 60:2.08, 61:2.08,\n",
    "    62:2.08, 63:2.08, 64:2.08, 65:2.22, 66:2.22, 67:2.22,\n",
    "    68:2.22, 69:2.22, 70:2.32, 71:2.32, 72:2.32, 73:2.32,\n",
    "    74:2.32, 75:2.40, 76:2.40, 77:2.40, 78:2.40, 79:2.40,\n",
    "    80:2.40, 81:2.40, 82:2.40, 83:2.40, 84:2.40, 85:2.40, 86:2.40, 87:2.40\n",
    "}"
   ]
  },
  {
   "cell_type": "code",
   "execution_count": 66,
   "metadata": {},
   "outputs": [],
   "source": [
    "# 현재 나이 (남성/여성) 평균대비 심 뇌혈관질환 발생 위험 ex) 45세 남성 평균 대비 발생위험\n",
    "\n",
    "df['조정복합상대위험도']=np.where(df['성별']==0, df['복합상대위험도']/df['나이'].apply(func_2, args = (man_co_risk,)), df['복합상대위험도']/df['나이'].apply(func_2, args=(woman_co_risk,)))\n",
    "df['조정복합상대위험도'] = df['조정복합상대위험도'].round(3)"
   ]
  },
  {
   "cell_type": "markdown",
   "metadata": {},
   "source": [
    "#### 절대위험도"
   ]
  },
  {
   "cell_type": "code",
   "execution_count": 67,
   "metadata": {},
   "outputs": [],
   "source": [
    "# 향후 10년 이내에 심뇌혈관질환이 발생할 확률 (인구 10만명 당)\n",
    "df['절대위험도']=df['조정복합상대위험도']*df['평균절대위험도']"
   ]
  },
  {
   "cell_type": "markdown",
   "metadata": {},
   "source": [
    "#### 심뇌혈관나이"
   ]
  },
  {
   "cell_type": "code",
   "execution_count": 68,
   "metadata": {},
   "outputs": [],
   "source": [
    "def find_age(row, age):\n",
    "    l = []\n",
    "    for i in range(len(age)):\n",
    "        a = list(age.values())\n",
    "        l.append(abs(a[i]-row))\n",
    "        i = l.index(min(l))\n",
    "    res = list(age.keys())[i]\n",
    "    return res\n",
    "\n",
    "df['심뇌혈관나이']=np.where(df['성별']==0, df['절대위험도'].apply(find_age, args = (man_mean_ab_risk,)), df['절대위험도'].apply(find_age, args=(woman_mean_ab_risk,)))"
   ]
  },
  {
   "cell_type": "markdown",
   "metadata": {},
   "source": [
    "#### 교정복합상대위험도"
   ]
  },
  {
   "cell_type": "code",
   "execution_count": 69,
   "metadata": {},
   "outputs": [],
   "source": [
    "def change_risk(row):\n",
    "    risk1, risk2, risk3, risk4, risk5, risk6, risk7, risk8, risk9 = 0, 0, 0, 0, 0, 0, 0, 0, 0\n",
    "    if row['성별']==0:\n",
    "        risk1 = 1.00\n",
    "        risk2 = 1.00\n",
    "        \n",
    "        if row['흡연상태']==1:\n",
    "            risk3 = 1.00\n",
    "        elif row['흡연상태']==2:\n",
    "            risk3 = 1.30\n",
    "        elif row['흡연상태']==3:\n",
    "            risk3 = 1.30\n",
    "        \n",
    "        risk4 = 1.00\n",
    "        risk5 = 1.00\n",
    "        risk6 = 1.00\n",
    "        \n",
    "        if row['eGFR']>=60:\n",
    "            risk7 = 1.00\n",
    "        elif row['eGFR']>= 45:\n",
    "            risk7 = 1.34\n",
    "        elif row['eGFR']< 45:\n",
    "            risk7 = 2.09\n",
    "        \n",
    "        if row['단백뇨']==0:\n",
    "            risk8 = 1.00\n",
    "        elif row['단백뇨']==1:\n",
    "            risk8 = 1.69\n",
    "        elif row['단백뇨']==2:\n",
    "            risk8 = 2.43\n",
    "        \n",
    "        risk9 = risk7 if risk7 > risk8 else risk8\n",
    "        \n",
    "        comp_risk = 1.00 + (risk1-1.00 if risk1>1.00 else 0) +(risk2-1.00 if risk2>1.00 else 0) + (risk3-1.00 if risk3>1.00 else 0) + (risk4-1.00 if risk4>1.00 else 0)\\\n",
    "        + (risk5-1.00 if risk5>1.00 else 0) + (risk6-1.00 if risk6>1.00 else 0) + (risk9-1.00 if risk9>1.00 else 0) # 복합 상대위험도\n",
    "        return comp_risk\n",
    "    \n",
    "    elif row['성별']==1:\n",
    "        risk1 = 1.00\n",
    "        risk2 = 1.00\n",
    "        \n",
    "        if row['흡연상태']==1:\n",
    "            risk3 = 1.00\n",
    "        elif row['흡연상태']==2:\n",
    "            risk3 = 1.20\n",
    "        elif row['흡연상태']==3:\n",
    "            risk3 = 1.20\n",
    "            \n",
    "        risk4 = 1.00\n",
    "        risk5 = 1.00\n",
    "        risk6 = 1.00\n",
    "        \n",
    "        if row['eGFR']>=60:\n",
    "            risk7 = 1.00\n",
    "        elif row['eGFR']>= 45:\n",
    "            risk7 = 1.34\n",
    "        elif row['eGFR']< 45:\n",
    "            risk7 = 2.09\n",
    "        \n",
    "        if row['단백뇨']==0:\n",
    "            risk8 = 1.00\n",
    "        elif row['단백뇨']==1:\n",
    "            risk8 = 1.69\n",
    "        elif row['단백뇨']==2:\n",
    "            risk8 = 2.43\n",
    "        \n",
    "        risk9 = risk7 if risk7 > risk8 else risk8\n",
    "        \n",
    "        comp_risk = 1.00 + (risk1-1.00 if risk1>1.00 else 0) +(risk2-1.00 if risk2>1.00 else 0) + (risk3-1.00 if risk3>1.00 else 0) + (risk4-1.00 if risk4>1.00 else 0)\\\n",
    "        + (risk5-1.00 if risk5>1.00 else 0) + (risk6-1.00 if risk6>1.00 else 0) + (risk9-1.00 if risk9>1.00 else 0) # 교정 복합 상대위험도\n",
    "        return comp_risk\n",
    "\n",
    "df['교정복합상대위험도']=df[['성별', '흡연상태', 'eGFR', '단백뇨']].apply(change_risk, axis=1)"
   ]
  },
  {
   "cell_type": "markdown",
   "metadata": {},
   "source": [
    "#### 교정절대위험도"
   ]
  },
  {
   "cell_type": "code",
   "execution_count": 70,
   "metadata": {},
   "outputs": [],
   "source": [
    "# 현재 나이 (남성/여성) 평균대비 심 뇌혈관질환 발생 위험 ex) 45세 남성 평균 대비 발생위험\n",
    "\n",
    "df['교정절대위험도']=np.where(df['성별']==0, df['교정복합상대위험도']/df['나이'].apply(func_2, args = (man_co_risk,))*df['평균절대위험도'], df['교정복합상대위험도']/df['나이'].apply(func_2, args=(woman_co_risk,))*df['평균절대위험도'])\n",
    "df['교정절대위험도'] = df['교정절대위험도'].round(3)"
   ]
  },
  {
   "cell_type": "markdown",
   "metadata": {},
   "source": [
    "#### 교정심뇌혈관나이"
   ]
  },
  {
   "cell_type": "code",
   "execution_count": 71,
   "metadata": {},
   "outputs": [],
   "source": [
    "df['교정심뇌혈관나이']=np.where(df['성별']==0, df['교정절대위험도'].apply(find_age, args = (man_mean_ab_risk,)), df['교정절대위험도'].apply(find_age, args=(woman_mean_ab_risk,)))"
   ]
  },
  {
   "cell_type": "markdown",
   "metadata": {},
   "source": [
    "#### 파생변수(HRA) 완료"
   ]
  },
  {
   "cell_type": "code",
   "execution_count": 72,
   "metadata": {},
   "outputs": [
    {
     "name": "stdout",
     "output_type": "stream",
     "text": [
      "<class 'pandas.core.frame.DataFrame'>\n",
      "Int64Index: 69325 entries, 0 to 69999\n",
      "Data columns (total 75 columns):\n",
      "가입자일련번호        69325 non-null int64\n",
      "시도코드           69325 non-null object\n",
      "허리둘레           69325 non-null float64\n",
      "시력(좌)          69325 non-null float64\n",
      "시력(우)          69325 non-null float64\n",
      "청력(좌)          69325 non-null object\n",
      "청력(우)          69325 non-null object\n",
      "수축기혈압          69325 non-null float64\n",
      "이완기혈압          69325 non-null float64\n",
      "식전혈당(공복혈당)     69325 non-null float64\n",
      "총콜레스테롤         69325 non-null float64\n",
      "트리글리세라이드       69325 non-null float64\n",
      "HDL콜레스테롤       69325 non-null float64\n",
      "LDL콜레스테롤       69325 non-null float64\n",
      "혈색소            69325 non-null float64\n",
      "요단백            69325 non-null object\n",
      "혈청크레아티닌        69325 non-null float64\n",
      "(혈청지오티)AST     69325 non-null float64\n",
      "(혈청지오티)ALT     69325 non-null float64\n",
      "감마지티피          69325 non-null float64\n",
      "흡연상태           69325 non-null object\n",
      "성별             69325 non-null object\n",
      "연령대            69325 non-null object\n",
      "구강검진_수검        69325 non-null object\n",
      "신장             69325 non-null object\n",
      "체중             69325 non-null object\n",
      "실명             69325 non-null object\n",
      "복부비만           69325 non-null object\n",
      "고지혈증           69325 non-null object\n",
      "고혈압            69325 non-null object\n",
      "고혈압_k          69325 non-null object\n",
      "총콜레스테롤_div     69325 non-null object\n",
      "공복혈당           69325 non-null object\n",
      "당뇨             69325 non-null object\n",
      "당뇨_k           69325 non-null object\n",
      "당뇨_표적장기손상      69325 non-null object\n",
      "빈혈             69325 non-null object\n",
      "빈혈_k           69325 non-null object\n",
      "whtr           69325 non-null object\n",
      "whtr_k         69325 non-null object\n",
      "도시             69325 non-null object\n",
      "bmi            69325 non-null float64\n",
      "bmi_div_k      69325 non-null object\n",
      "bmi_div        69325 non-null object\n",
      "BMI            69325 non-null object\n",
      "non-HDL        69325 non-null float64\n",
      "CRF            69325 non-null float64\n",
      "대사증후군          69325 non-null object\n",
      "대사증후군_k        69325 non-null object\n",
      "혈청크레아티닌_진단     69325 non-null object\n",
      "나이             69325 non-null int64\n",
      "eGFR           69325 non-null float64\n",
      "GFR            69325 non-null object\n",
      "eGFR_진단        69325 non-null object\n",
      "신장질환           69325 non-null float64\n",
      "risk_factor    69325 non-null int64\n",
      "심혈관질환          69325 non-null object\n",
      "단백뇨            69325 non-null object\n",
      "단백뇨_k          69325 non-null object\n",
      "ALT구분          69325 non-null object\n",
      "AST구분          69325 non-null object\n",
      "감마지티피구분        69325 non-null object\n",
      "AST/ALT비율      69325 non-null float64\n",
      "GTP/ALT비율      69325 non-null float64\n",
      "알코올성간질환여부      69325 non-null object\n",
      "기초대사량          69325 non-null object\n",
      "위험도_허리둘레       69325 non-null int64\n",
      "복합상대위험도        69325 non-null float64\n",
      "평균절대위험도        69325 non-null int64\n",
      "조정복합상대위험도      69325 non-null float64\n",
      "절대위험도          69325 non-null float64\n",
      "심뇌혈관나이         69325 non-null int64\n",
      "교정복합상대위험도      69325 non-null float64\n",
      "교정절대위험도        69325 non-null float64\n",
      "교정심뇌혈관나이       69325 non-null int64\n",
      "dtypes: float64(27), int64(7), object(41)\n",
      "memory usage: 40.2+ MB\n"
     ]
    }
   ],
   "source": [
    "df.info()"
   ]
  },
  {
   "cell_type": "code",
   "execution_count": 73,
   "metadata": {},
   "outputs": [
    {
     "data": {
      "text/html": [
       "<div>\n",
       "<style scoped>\n",
       "    .dataframe tbody tr th:only-of-type {\n",
       "        vertical-align: middle;\n",
       "    }\n",
       "\n",
       "    .dataframe tbody tr th {\n",
       "        vertical-align: top;\n",
       "    }\n",
       "\n",
       "    .dataframe thead th {\n",
       "        text-align: right;\n",
       "    }\n",
       "</style>\n",
       "<table border=\"1\" class=\"dataframe\">\n",
       "  <thead>\n",
       "    <tr style=\"text-align: right;\">\n",
       "      <th></th>\n",
       "      <th>가입자일련번호</th>\n",
       "      <th>시도코드</th>\n",
       "      <th>허리둘레</th>\n",
       "      <th>시력(좌)</th>\n",
       "      <th>시력(우)</th>\n",
       "      <th>청력(좌)</th>\n",
       "      <th>청력(우)</th>\n",
       "      <th>수축기혈압</th>\n",
       "      <th>이완기혈압</th>\n",
       "      <th>식전혈당(공복혈당)</th>\n",
       "      <th>...</th>\n",
       "      <th>기초대사량</th>\n",
       "      <th>위험도_허리둘레</th>\n",
       "      <th>복합상대위험도</th>\n",
       "      <th>평균절대위험도</th>\n",
       "      <th>조정복합상대위험도</th>\n",
       "      <th>절대위험도</th>\n",
       "      <th>심뇌혈관나이</th>\n",
       "      <th>교정복합상대위험도</th>\n",
       "      <th>교정절대위험도</th>\n",
       "      <th>교정심뇌혈관나이</th>\n",
       "    </tr>\n",
       "  </thead>\n",
       "  <tbody>\n",
       "    <tr>\n",
       "      <td>0</td>\n",
       "      <td>5</td>\n",
       "      <td>11</td>\n",
       "      <td>67.0</td>\n",
       "      <td>0.4</td>\n",
       "      <td>0.5</td>\n",
       "      <td>1</td>\n",
       "      <td>1</td>\n",
       "      <td>121.0</td>\n",
       "      <td>68.0</td>\n",
       "      <td>96.0</td>\n",
       "      <td>...</td>\n",
       "      <td>1329</td>\n",
       "      <td>0</td>\n",
       "      <td>1.50</td>\n",
       "      <td>92</td>\n",
       "      <td>1.049</td>\n",
       "      <td>96.508</td>\n",
       "      <td>20</td>\n",
       "      <td>1.0</td>\n",
       "      <td>64.336</td>\n",
       "      <td>20</td>\n",
       "    </tr>\n",
       "    <tr>\n",
       "      <td>1</td>\n",
       "      <td>8</td>\n",
       "      <td>48</td>\n",
       "      <td>81.0</td>\n",
       "      <td>0.7</td>\n",
       "      <td>0.5</td>\n",
       "      <td>1</td>\n",
       "      <td>1</td>\n",
       "      <td>130.0</td>\n",
       "      <td>70.0</td>\n",
       "      <td>101.0</td>\n",
       "      <td>...</td>\n",
       "      <td>1181</td>\n",
       "      <td>0</td>\n",
       "      <td>1.48</td>\n",
       "      <td>13931</td>\n",
       "      <td>0.638</td>\n",
       "      <td>8887.978</td>\n",
       "      <td>64</td>\n",
       "      <td>1.0</td>\n",
       "      <td>6004.741</td>\n",
       "      <td>60</td>\n",
       "    </tr>\n",
       "    <tr>\n",
       "      <td>2</td>\n",
       "      <td>29</td>\n",
       "      <td>11</td>\n",
       "      <td>83.0</td>\n",
       "      <td>1.0</td>\n",
       "      <td>1.0</td>\n",
       "      <td>1</td>\n",
       "      <td>1</td>\n",
       "      <td>108.0</td>\n",
       "      <td>65.0</td>\n",
       "      <td>87.0</td>\n",
       "      <td>...</td>\n",
       "      <td>1322</td>\n",
       "      <td>0</td>\n",
       "      <td>1.09</td>\n",
       "      <td>854</td>\n",
       "      <td>0.708</td>\n",
       "      <td>604.632</td>\n",
       "      <td>38</td>\n",
       "      <td>1.0</td>\n",
       "      <td>554.545</td>\n",
       "      <td>37</td>\n",
       "    </tr>\n",
       "    <tr>\n",
       "      <td>3</td>\n",
       "      <td>41</td>\n",
       "      <td>28</td>\n",
       "      <td>71.0</td>\n",
       "      <td>0.8</td>\n",
       "      <td>0.5</td>\n",
       "      <td>1</td>\n",
       "      <td>1</td>\n",
       "      <td>135.0</td>\n",
       "      <td>70.0</td>\n",
       "      <td>90.0</td>\n",
       "      <td>...</td>\n",
       "      <td>1028</td>\n",
       "      <td>0</td>\n",
       "      <td>1.50</td>\n",
       "      <td>13931</td>\n",
       "      <td>0.647</td>\n",
       "      <td>9013.357</td>\n",
       "      <td>64</td>\n",
       "      <td>1.0</td>\n",
       "      <td>6004.741</td>\n",
       "      <td>60</td>\n",
       "    </tr>\n",
       "    <tr>\n",
       "      <td>4</td>\n",
       "      <td>56</td>\n",
       "      <td>26</td>\n",
       "      <td>75.0</td>\n",
       "      <td>1.2</td>\n",
       "      <td>1.2</td>\n",
       "      <td>1</td>\n",
       "      <td>1</td>\n",
       "      <td>110.0</td>\n",
       "      <td>70.0</td>\n",
       "      <td>75.0</td>\n",
       "      <td>...</td>\n",
       "      <td>1209</td>\n",
       "      <td>0</td>\n",
       "      <td>1.22</td>\n",
       "      <td>2154</td>\n",
       "      <td>0.685</td>\n",
       "      <td>1475.490</td>\n",
       "      <td>47</td>\n",
       "      <td>1.0</td>\n",
       "      <td>1210.112</td>\n",
       "      <td>44</td>\n",
       "    </tr>\n",
       "  </tbody>\n",
       "</table>\n",
       "<p>5 rows × 75 columns</p>\n",
       "</div>"
      ],
      "text/plain": [
       "   가입자일련번호 시도코드  허리둘레  시력(좌)  시력(우) 청력(좌) 청력(우)  수축기혈압  이완기혈압  식전혈당(공복혈당)  \\\n",
       "0        5   11  67.0    0.4    0.5     1     1  121.0   68.0        96.0   \n",
       "1        8   48  81.0    0.7    0.5     1     1  130.0   70.0       101.0   \n",
       "2       29   11  83.0    1.0    1.0     1     1  108.0   65.0        87.0   \n",
       "3       41   28  71.0    0.8    0.5     1     1  135.0   70.0        90.0   \n",
       "4       56   26  75.0    1.2    1.2     1     1  110.0   70.0        75.0   \n",
       "\n",
       "   ...  기초대사량  위험도_허리둘레  복합상대위험도  평균절대위험도  조정복합상대위험도     절대위험도  심뇌혈관나이  \\\n",
       "0  ...   1329         0     1.50       92      1.049    96.508      20   \n",
       "1  ...   1181         0     1.48    13931      0.638  8887.978      64   \n",
       "2  ...   1322         0     1.09      854      0.708   604.632      38   \n",
       "3  ...   1028         0     1.50    13931      0.647  9013.357      64   \n",
       "4  ...   1209         0     1.22     2154      0.685  1475.490      47   \n",
       "\n",
       "   교정복합상대위험도   교정절대위험도  교정심뇌혈관나이  \n",
       "0        1.0    64.336        20  \n",
       "1        1.0  6004.741        60  \n",
       "2        1.0   554.545        37  \n",
       "3        1.0  6004.741        60  \n",
       "4        1.0  1210.112        44  \n",
       "\n",
       "[5 rows x 75 columns]"
      ]
     },
     "execution_count": 73,
     "metadata": {},
     "output_type": "execute_result"
    }
   ],
   "source": [
    "df.head()"
   ]
  },
  {
   "cell_type": "code",
   "execution_count": 74,
   "metadata": {},
   "outputs": [],
   "source": [
    "# health_data 전처리 완료한 최종 file 저장\n",
    "\n",
    "df.to_csv('health_real_fin.csv', index=False, encoding='utf-8')"
   ]
  }
 ],
 "metadata": {
  "kernelspec": {
   "display_name": "Python 3",
   "language": "python",
   "name": "python3"
  },
  "language_info": {
   "codemirror_mode": {
    "name": "ipython",
    "version": 3
   },
   "file_extension": ".py",
   "mimetype": "text/x-python",
   "name": "python",
   "nbconvert_exporter": "python",
   "pygments_lexer": "ipython3",
   "version": "3.7.4"
  }
 },
 "nbformat": 4,
 "nbformat_minor": 2
}
