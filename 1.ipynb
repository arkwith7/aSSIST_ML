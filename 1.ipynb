{
 "cells": [
  {
   "cell_type": "code",
   "execution_count": 2,
   "metadata": {},
   "outputs": [],
   "source": [
    "import requests\n",
    "import os\n",
    "from PyPDF4 import PdfFileReader\n",
    "import tabula\n"
   ]
  },
  {
   "cell_type": "code",
   "execution_count": 3,
   "metadata": {},
   "outputs": [],
   "source": [
    "def download_file(url, output_folder):\n",
    "    response = requests.get(url)\n",
    "    file_name = url.split('/')[-1]\n",
    "    output_path = os.path.join(output_folder, file_name)\n",
    "\n",
    "    with open(output_path, 'wb') as f:\n",
    "        f.write(response.content)\n",
    "    return output_path\n",
    "\n",
    "\n",
    "def find_keyword_pages(pdf_path, keyword):\n",
    "    with open(pdf_path, 'rb') as f:\n",
    "        reader = PdfFileReader(f)\n",
    "        num_pages = reader.getNumPages()\n",
    "\n",
    "        pages_with_keyword = []\n",
    "\n",
    "        for page in range(num_pages):\n",
    "            text = reader.getPage(page).extractText()\n",
    "            if keyword in text:\n",
    "                pages_with_keyword.append(page + 1)\n",
    "\n",
    "    return pages_with_keyword\n",
    "\n",
    "\n",
    "def extract_and_save_tables(pdf_path, pages, keyword, output_folder):\n",
    "    for page in pages:\n",
    "        tables = tabula.read_pdf(pdf_path, pages=page, multiple_tables=True)\n",
    "        for i, table in enumerate(tables):\n",
    "            output_path = os.path.join(\n",
    "                output_folder, f\"{keyword}_table_page{page}_{i + 1}.csv\")\n",
    "            table.to_csv(output_path, index=False)\n"
   ]
  },
  {
   "cell_type": "code",
   "execution_count": 4,
   "metadata": {},
   "outputs": [],
   "source": [
    "output_folder = \"asset/\"\n",
    "pdf_paths = [\"asset/pdf/abl여30세.pdf\",\n",
    "             \"asset/pdf/LKB.pdf\",\n",
    "             \"asset/pdf/LME.pdf\",\n",
    "             \"asset/pdf/無신여성시대건강보험.pdf\"\n",
    "             ]\n",
    "\n",
    "# Define keywords for each PDF\n",
    "keywords = [\n",
    "    (\"abl여30세.pdf\", \"해약환급금 예시표\"),\n",
    "    (\"LKB.pdf\", \"해약환급금 예시표\"),\n",
    "    (\"LME.pdf\", \"해약환급금 예시표\"),\n",
    "    (\"無신여성시대건강보험.pdf\", \"보험금의 종류 및 지급사유\")\n",
    "]\n"
   ]
  },
  {
   "cell_type": "code",
   "execution_count": 8,
   "metadata": {},
   "outputs": [
    {
     "name": "stdout",
     "output_type": "stream",
     "text": [
      "asset/pdf/abl여30세.pdf\n",
      "('abl여30세.pdf', '해약환급금 예시표')\n"
     ]
    }
   ],
   "source": [
    "pdf_path =  pdf_paths[0]\n",
    "print(pdf_path)\n",
    "keyword = keywords[0]\n",
    "print(keyword)"
   ]
  },
  {
   "cell_type": "code",
   "execution_count": 9,
   "metadata": {},
   "outputs": [
    {
     "name": "stdout",
     "output_type": "stream",
     "text": [
      "Keyword '해약환급금 예시표' not found in abl여30세.pdf\n"
     ]
    }
   ],
   "source": [
    "pdf_name = os.path.basename(pdf_path)\n",
    "\n",
    "keyword = '해약환급금 예시표'\n",
    "\n",
    "if keyword is not None:\n",
    "    pages_with_keyword = find_keyword_pages(pdf_path, keyword)\n",
    "    if pages_with_keyword:\n",
    "        extract_and_save_tables(\n",
    "            pdf_path, pages_with_keyword, keyword, output_folder)\n",
    "        print(f\"Extracted tables for {pdf_name} containing '{keyword}'\")\n",
    "    else:\n",
    "        print(f\"Keyword '{keyword}' not found in {pdf_name}\")\n",
    "else:\n",
    "    print(f\"No keyword defined for {pdf_name}\")\n"
   ]
  },
  {
   "cell_type": "code",
   "execution_count": null,
   "metadata": {},
   "outputs": [],
   "source": [
    "# Process each PDF\n",
    "for pdf_path in pdf_paths:\n",
    "    pdf_name = os.path.basename(pdf_path)\n",
    "    keyword = next((k[1] for k in keywords if k[0] == pdf_name), None)\n",
    "\n",
    "    if keyword is not None:\n",
    "        pages_with_keyword = find_keyword_pages(pdf_path, keyword)\n",
    "        if pages_with_keyword:\n",
    "            extract_and_save_tables(\n",
    "                pdf_path, pages_with_keyword, keyword, output_folder)\n",
    "            print(f\"Extracted tables for {pdf_name} containing '{keyword}'\")\n",
    "        else:\n",
    "            print(f\"Keyword '{keyword}' not found in {pdf_name}\")\n",
    "    else:\n",
    "        print(f\"No keyword defined for {pdf_name}\")\n"
   ]
  }
 ],
 "metadata": {
  "kernelspec": {
   "display_name": "venv",
   "language": "python",
   "name": "python3"
  },
  "language_info": {
   "codemirror_mode": {
    "name": "ipython",
    "version": 3
   },
   "file_extension": ".py",
   "mimetype": "text/x-python",
   "name": "python",
   "nbconvert_exporter": "python",
   "pygments_lexer": "ipython3",
   "version": "3.8.13"
  },
  "orig_nbformat": 4
 },
 "nbformat": 4,
 "nbformat_minor": 2
}
